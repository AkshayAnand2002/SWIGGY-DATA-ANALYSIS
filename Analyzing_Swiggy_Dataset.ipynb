{
  "nbformat": 4,
  "nbformat_minor": 0,
  "metadata": {
    "colab": {
      "provenance": []
    },
    "kernelspec": {
      "name": "python3",
      "display_name": "Python 3"
    },
    "language_info": {
      "name": "python"
    }
  },
  "cells": [
    {
      "cell_type": "code",
      "execution_count": 1,
      "metadata": {
        "id": "3uBICyGw9JNQ"
      },
      "outputs": [],
      "source": [
        "import numpy as np\n",
        "import pandas as pd\n",
        "import matplotlib.pyplot as plt\n",
        "import seaborn as sns"
      ]
    },
    {
      "cell_type": "code",
      "source": [
        "dataset=pd.read_csv('/content/Swiggy data.csv')"
      ],
      "metadata": {
        "id": "au67qvPi9a5G"
      },
      "execution_count": 2,
      "outputs": []
    },
    {
      "cell_type": "code",
      "source": [
        "dataset.head()"
      ],
      "metadata": {
        "colab": {
          "base_uri": "https://localhost:8080/",
          "height": 206
        },
        "id": "LjW500Ll9gG_",
        "outputId": "c664cf1a-9374-46b9-ec58-1230ba48b3a9"
      },
      "execution_count": 3,
      "outputs": [
        {
          "output_type": "execute_result",
          "data": {
            "text/plain": [
              "           Shop_Name                                            Cuisine  \\\n",
              "0       Kanti Sweets                                             Sweets   \n",
              "1      Mumbai Tiffin             North Indian, Home Food, Thalis, Combo   \n",
              "2  Sri Krishna sagar  South Indian, North Indian, Fast Food, Beverag...   \n",
              "3            Al Daaz  American, Arabian, Chinese, Desserts, Fast Foo...   \n",
              "4      Beijing Bites                                      Chinese, Thai   \n",
              "\n",
              "                   Location Rating Cost_for_Two  \n",
              "0  Koramangala, Koramangala    4.3        ₹ 150  \n",
              "1             Sector 5, HSR    4.4        ₹ 400  \n",
              "2    6th Block, Koramangala    4.1        ₹ 126  \n",
              "3                  HSR, HSR    4.4        ₹ 400  \n",
              "4    5th Block, Koramangala    4.1        ₹ 450  "
            ],
            "text/html": [
              "\n",
              "  <div id=\"df-83181342-937b-4a7e-b2cb-653152d413b8\">\n",
              "    <div class=\"colab-df-container\">\n",
              "      <div>\n",
              "<style scoped>\n",
              "    .dataframe tbody tr th:only-of-type {\n",
              "        vertical-align: middle;\n",
              "    }\n",
              "\n",
              "    .dataframe tbody tr th {\n",
              "        vertical-align: top;\n",
              "    }\n",
              "\n",
              "    .dataframe thead th {\n",
              "        text-align: right;\n",
              "    }\n",
              "</style>\n",
              "<table border=\"1\" class=\"dataframe\">\n",
              "  <thead>\n",
              "    <tr style=\"text-align: right;\">\n",
              "      <th></th>\n",
              "      <th>Shop_Name</th>\n",
              "      <th>Cuisine</th>\n",
              "      <th>Location</th>\n",
              "      <th>Rating</th>\n",
              "      <th>Cost_for_Two</th>\n",
              "    </tr>\n",
              "  </thead>\n",
              "  <tbody>\n",
              "    <tr>\n",
              "      <th>0</th>\n",
              "      <td>Kanti Sweets</td>\n",
              "      <td>Sweets</td>\n",
              "      <td>Koramangala, Koramangala</td>\n",
              "      <td>4.3</td>\n",
              "      <td>₹ 150</td>\n",
              "    </tr>\n",
              "    <tr>\n",
              "      <th>1</th>\n",
              "      <td>Mumbai Tiffin</td>\n",
              "      <td>North Indian, Home Food, Thalis, Combo</td>\n",
              "      <td>Sector 5, HSR</td>\n",
              "      <td>4.4</td>\n",
              "      <td>₹ 400</td>\n",
              "    </tr>\n",
              "    <tr>\n",
              "      <th>2</th>\n",
              "      <td>Sri Krishna sagar</td>\n",
              "      <td>South Indian, North Indian, Fast Food, Beverag...</td>\n",
              "      <td>6th Block, Koramangala</td>\n",
              "      <td>4.1</td>\n",
              "      <td>₹ 126</td>\n",
              "    </tr>\n",
              "    <tr>\n",
              "      <th>3</th>\n",
              "      <td>Al Daaz</td>\n",
              "      <td>American, Arabian, Chinese, Desserts, Fast Foo...</td>\n",
              "      <td>HSR, HSR</td>\n",
              "      <td>4.4</td>\n",
              "      <td>₹ 400</td>\n",
              "    </tr>\n",
              "    <tr>\n",
              "      <th>4</th>\n",
              "      <td>Beijing Bites</td>\n",
              "      <td>Chinese, Thai</td>\n",
              "      <td>5th Block, Koramangala</td>\n",
              "      <td>4.1</td>\n",
              "      <td>₹ 450</td>\n",
              "    </tr>\n",
              "  </tbody>\n",
              "</table>\n",
              "</div>\n",
              "      <button class=\"colab-df-convert\" onclick=\"convertToInteractive('df-83181342-937b-4a7e-b2cb-653152d413b8')\"\n",
              "              title=\"Convert this dataframe to an interactive table.\"\n",
              "              style=\"display:none;\">\n",
              "        \n",
              "  <svg xmlns=\"http://www.w3.org/2000/svg\" height=\"24px\"viewBox=\"0 0 24 24\"\n",
              "       width=\"24px\">\n",
              "    <path d=\"M0 0h24v24H0V0z\" fill=\"none\"/>\n",
              "    <path d=\"M18.56 5.44l.94 2.06.94-2.06 2.06-.94-2.06-.94-.94-2.06-.94 2.06-2.06.94zm-11 1L8.5 8.5l.94-2.06 2.06-.94-2.06-.94L8.5 2.5l-.94 2.06-2.06.94zm10 10l.94 2.06.94-2.06 2.06-.94-2.06-.94-.94-2.06-.94 2.06-2.06.94z\"/><path d=\"M17.41 7.96l-1.37-1.37c-.4-.4-.92-.59-1.43-.59-.52 0-1.04.2-1.43.59L10.3 9.45l-7.72 7.72c-.78.78-.78 2.05 0 2.83L4 21.41c.39.39.9.59 1.41.59.51 0 1.02-.2 1.41-.59l7.78-7.78 2.81-2.81c.8-.78.8-2.07 0-2.86zM5.41 20L4 18.59l7.72-7.72 1.47 1.35L5.41 20z\"/>\n",
              "  </svg>\n",
              "      </button>\n",
              "      \n",
              "  <style>\n",
              "    .colab-df-container {\n",
              "      display:flex;\n",
              "      flex-wrap:wrap;\n",
              "      gap: 12px;\n",
              "    }\n",
              "\n",
              "    .colab-df-convert {\n",
              "      background-color: #E8F0FE;\n",
              "      border: none;\n",
              "      border-radius: 50%;\n",
              "      cursor: pointer;\n",
              "      display: none;\n",
              "      fill: #1967D2;\n",
              "      height: 32px;\n",
              "      padding: 0 0 0 0;\n",
              "      width: 32px;\n",
              "    }\n",
              "\n",
              "    .colab-df-convert:hover {\n",
              "      background-color: #E2EBFA;\n",
              "      box-shadow: 0px 1px 2px rgba(60, 64, 67, 0.3), 0px 1px 3px 1px rgba(60, 64, 67, 0.15);\n",
              "      fill: #174EA6;\n",
              "    }\n",
              "\n",
              "    [theme=dark] .colab-df-convert {\n",
              "      background-color: #3B4455;\n",
              "      fill: #D2E3FC;\n",
              "    }\n",
              "\n",
              "    [theme=dark] .colab-df-convert:hover {\n",
              "      background-color: #434B5C;\n",
              "      box-shadow: 0px 1px 3px 1px rgba(0, 0, 0, 0.15);\n",
              "      filter: drop-shadow(0px 1px 2px rgba(0, 0, 0, 0.3));\n",
              "      fill: #FFFFFF;\n",
              "    }\n",
              "  </style>\n",
              "\n",
              "      <script>\n",
              "        const buttonEl =\n",
              "          document.querySelector('#df-83181342-937b-4a7e-b2cb-653152d413b8 button.colab-df-convert');\n",
              "        buttonEl.style.display =\n",
              "          google.colab.kernel.accessAllowed ? 'block' : 'none';\n",
              "\n",
              "        async function convertToInteractive(key) {\n",
              "          const element = document.querySelector('#df-83181342-937b-4a7e-b2cb-653152d413b8');\n",
              "          const dataTable =\n",
              "            await google.colab.kernel.invokeFunction('convertToInteractive',\n",
              "                                                     [key], {});\n",
              "          if (!dataTable) return;\n",
              "\n",
              "          const docLinkHtml = 'Like what you see? Visit the ' +\n",
              "            '<a target=\"_blank\" href=https://colab.research.google.com/notebooks/data_table.ipynb>data table notebook</a>'\n",
              "            + ' to learn more about interactive tables.';\n",
              "          element.innerHTML = '';\n",
              "          dataTable['output_type'] = 'display_data';\n",
              "          await google.colab.output.renderOutput(dataTable, element);\n",
              "          const docLink = document.createElement('div');\n",
              "          docLink.innerHTML = docLinkHtml;\n",
              "          element.appendChild(docLink);\n",
              "        }\n",
              "      </script>\n",
              "    </div>\n",
              "  </div>\n",
              "  "
            ]
          },
          "metadata": {},
          "execution_count": 3
        }
      ]
    },
    {
      "cell_type": "code",
      "source": [
        "#finding null values.\n",
        "dataset.isnull().sum()"
      ],
      "metadata": {
        "colab": {
          "base_uri": "https://localhost:8080/"
        },
        "id": "buYTozFb9iLh",
        "outputId": "df28cd99-5199-4094-ae5c-1f24fcf40c7e"
      },
      "execution_count": 4,
      "outputs": [
        {
          "output_type": "execute_result",
          "data": {
            "text/plain": [
              "Shop_Name       0\n",
              "Cuisine         0\n",
              "Location        0\n",
              "Rating          0\n",
              "Cost_for_Two    0\n",
              "dtype: int64"
            ]
          },
          "metadata": {},
          "execution_count": 4
        }
      ]
    },
    {
      "cell_type": "code",
      "source": [
        "#No null values are present in the dataset."
      ],
      "metadata": {
        "id": "BVhDf7A-93IY"
      },
      "execution_count": 5,
      "outputs": []
    },
    {
      "cell_type": "code",
      "source": [
        "dataset.describe()"
      ],
      "metadata": {
        "colab": {
          "base_uri": "https://localhost:8080/",
          "height": 175
        },
        "id": "_XKEDGld9r61",
        "outputId": "566ccdcf-4182-494a-974a-acb4ccc2c026"
      },
      "execution_count": 6,
      "outputs": [
        {
          "output_type": "execute_result",
          "data": {
            "text/plain": [
              "              Shop_Name       Cuisine  Location Rating Cost_for_Two\n",
              "count               118           118       118    118          118\n",
              "unique              115            79        65     13           30\n",
              "top     La Pino'z Pizza  North Indian  BTM, BTM    4.1        ₹ 300\n",
              "freq                  2            12        13     30           16"
            ],
            "text/html": [
              "\n",
              "  <div id=\"df-79229bb8-3d04-400d-b74f-d6bc66ae5d4a\">\n",
              "    <div class=\"colab-df-container\">\n",
              "      <div>\n",
              "<style scoped>\n",
              "    .dataframe tbody tr th:only-of-type {\n",
              "        vertical-align: middle;\n",
              "    }\n",
              "\n",
              "    .dataframe tbody tr th {\n",
              "        vertical-align: top;\n",
              "    }\n",
              "\n",
              "    .dataframe thead th {\n",
              "        text-align: right;\n",
              "    }\n",
              "</style>\n",
              "<table border=\"1\" class=\"dataframe\">\n",
              "  <thead>\n",
              "    <tr style=\"text-align: right;\">\n",
              "      <th></th>\n",
              "      <th>Shop_Name</th>\n",
              "      <th>Cuisine</th>\n",
              "      <th>Location</th>\n",
              "      <th>Rating</th>\n",
              "      <th>Cost_for_Two</th>\n",
              "    </tr>\n",
              "  </thead>\n",
              "  <tbody>\n",
              "    <tr>\n",
              "      <th>count</th>\n",
              "      <td>118</td>\n",
              "      <td>118</td>\n",
              "      <td>118</td>\n",
              "      <td>118</td>\n",
              "      <td>118</td>\n",
              "    </tr>\n",
              "    <tr>\n",
              "      <th>unique</th>\n",
              "      <td>115</td>\n",
              "      <td>79</td>\n",
              "      <td>65</td>\n",
              "      <td>13</td>\n",
              "      <td>30</td>\n",
              "    </tr>\n",
              "    <tr>\n",
              "      <th>top</th>\n",
              "      <td>La Pino'z Pizza</td>\n",
              "      <td>North Indian</td>\n",
              "      <td>BTM, BTM</td>\n",
              "      <td>4.1</td>\n",
              "      <td>₹ 300</td>\n",
              "    </tr>\n",
              "    <tr>\n",
              "      <th>freq</th>\n",
              "      <td>2</td>\n",
              "      <td>12</td>\n",
              "      <td>13</td>\n",
              "      <td>30</td>\n",
              "      <td>16</td>\n",
              "    </tr>\n",
              "  </tbody>\n",
              "</table>\n",
              "</div>\n",
              "      <button class=\"colab-df-convert\" onclick=\"convertToInteractive('df-79229bb8-3d04-400d-b74f-d6bc66ae5d4a')\"\n",
              "              title=\"Convert this dataframe to an interactive table.\"\n",
              "              style=\"display:none;\">\n",
              "        \n",
              "  <svg xmlns=\"http://www.w3.org/2000/svg\" height=\"24px\"viewBox=\"0 0 24 24\"\n",
              "       width=\"24px\">\n",
              "    <path d=\"M0 0h24v24H0V0z\" fill=\"none\"/>\n",
              "    <path d=\"M18.56 5.44l.94 2.06.94-2.06 2.06-.94-2.06-.94-.94-2.06-.94 2.06-2.06.94zm-11 1L8.5 8.5l.94-2.06 2.06-.94-2.06-.94L8.5 2.5l-.94 2.06-2.06.94zm10 10l.94 2.06.94-2.06 2.06-.94-2.06-.94-.94-2.06-.94 2.06-2.06.94z\"/><path d=\"M17.41 7.96l-1.37-1.37c-.4-.4-.92-.59-1.43-.59-.52 0-1.04.2-1.43.59L10.3 9.45l-7.72 7.72c-.78.78-.78 2.05 0 2.83L4 21.41c.39.39.9.59 1.41.59.51 0 1.02-.2 1.41-.59l7.78-7.78 2.81-2.81c.8-.78.8-2.07 0-2.86zM5.41 20L4 18.59l7.72-7.72 1.47 1.35L5.41 20z\"/>\n",
              "  </svg>\n",
              "      </button>\n",
              "      \n",
              "  <style>\n",
              "    .colab-df-container {\n",
              "      display:flex;\n",
              "      flex-wrap:wrap;\n",
              "      gap: 12px;\n",
              "    }\n",
              "\n",
              "    .colab-df-convert {\n",
              "      background-color: #E8F0FE;\n",
              "      border: none;\n",
              "      border-radius: 50%;\n",
              "      cursor: pointer;\n",
              "      display: none;\n",
              "      fill: #1967D2;\n",
              "      height: 32px;\n",
              "      padding: 0 0 0 0;\n",
              "      width: 32px;\n",
              "    }\n",
              "\n",
              "    .colab-df-convert:hover {\n",
              "      background-color: #E2EBFA;\n",
              "      box-shadow: 0px 1px 2px rgba(60, 64, 67, 0.3), 0px 1px 3px 1px rgba(60, 64, 67, 0.15);\n",
              "      fill: #174EA6;\n",
              "    }\n",
              "\n",
              "    [theme=dark] .colab-df-convert {\n",
              "      background-color: #3B4455;\n",
              "      fill: #D2E3FC;\n",
              "    }\n",
              "\n",
              "    [theme=dark] .colab-df-convert:hover {\n",
              "      background-color: #434B5C;\n",
              "      box-shadow: 0px 1px 3px 1px rgba(0, 0, 0, 0.15);\n",
              "      filter: drop-shadow(0px 1px 2px rgba(0, 0, 0, 0.3));\n",
              "      fill: #FFFFFF;\n",
              "    }\n",
              "  </style>\n",
              "\n",
              "      <script>\n",
              "        const buttonEl =\n",
              "          document.querySelector('#df-79229bb8-3d04-400d-b74f-d6bc66ae5d4a button.colab-df-convert');\n",
              "        buttonEl.style.display =\n",
              "          google.colab.kernel.accessAllowed ? 'block' : 'none';\n",
              "\n",
              "        async function convertToInteractive(key) {\n",
              "          const element = document.querySelector('#df-79229bb8-3d04-400d-b74f-d6bc66ae5d4a');\n",
              "          const dataTable =\n",
              "            await google.colab.kernel.invokeFunction('convertToInteractive',\n",
              "                                                     [key], {});\n",
              "          if (!dataTable) return;\n",
              "\n",
              "          const docLinkHtml = 'Like what you see? Visit the ' +\n",
              "            '<a target=\"_blank\" href=https://colab.research.google.com/notebooks/data_table.ipynb>data table notebook</a>'\n",
              "            + ' to learn more about interactive tables.';\n",
              "          element.innerHTML = '';\n",
              "          dataTable['output_type'] = 'display_data';\n",
              "          await google.colab.output.renderOutput(dataTable, element);\n",
              "          const docLink = document.createElement('div');\n",
              "          docLink.innerHTML = docLinkHtml;\n",
              "          element.appendChild(docLink);\n",
              "        }\n",
              "      </script>\n",
              "    </div>\n",
              "  </div>\n",
              "  "
            ]
          },
          "metadata": {},
          "execution_count": 6
        }
      ]
    },
    {
      "cell_type": "code",
      "source": [
        "dataset.info()"
      ],
      "metadata": {
        "colab": {
          "base_uri": "https://localhost:8080/"
        },
        "id": "En-8BVbL9u2s",
        "outputId": "b48a8810-33cc-46ff-bc51-16bf1d5a86d0"
      },
      "execution_count": 7,
      "outputs": [
        {
          "output_type": "stream",
          "name": "stdout",
          "text": [
            "<class 'pandas.core.frame.DataFrame'>\n",
            "RangeIndex: 118 entries, 0 to 117\n",
            "Data columns (total 5 columns):\n",
            " #   Column        Non-Null Count  Dtype \n",
            "---  ------        --------------  ----- \n",
            " 0   Shop_Name     118 non-null    object\n",
            " 1   Cuisine       118 non-null    object\n",
            " 2   Location      118 non-null    object\n",
            " 3   Rating        118 non-null    object\n",
            " 4   Cost_for_Two  118 non-null    object\n",
            "dtypes: object(5)\n",
            "memory usage: 4.7+ KB\n"
          ]
        }
      ]
    },
    {
      "cell_type": "code",
      "source": [
        "dataset.duplicated().sum()"
      ],
      "metadata": {
        "colab": {
          "base_uri": "https://localhost:8080/"
        },
        "id": "ldvjY3pV9zDu",
        "outputId": "bba5c344-b0ce-489e-e3a5-68c99a17bfc4"
      },
      "execution_count": 8,
      "outputs": [
        {
          "output_type": "execute_result",
          "data": {
            "text/plain": [
              "0"
            ]
          },
          "metadata": {},
          "execution_count": 8
        }
      ]
    },
    {
      "cell_type": "code",
      "source": [
        "#No rows in the dataset are duplicated hence no need to remove them."
      ],
      "metadata": {
        "id": "qFX2R8yk-Gxo"
      },
      "execution_count": 9,
      "outputs": []
    },
    {
      "cell_type": "code",
      "source": [
        "dataset.columns"
      ],
      "metadata": {
        "colab": {
          "base_uri": "https://localhost:8080/"
        },
        "id": "VA0QGSC7-Zeo",
        "outputId": "1da1521c-747e-48ae-c74c-9ea85c67e6c1"
      },
      "execution_count": 10,
      "outputs": [
        {
          "output_type": "execute_result",
          "data": {
            "text/plain": [
              "Index(['Shop_Name', 'Cuisine', 'Location', 'Rating', 'Cost_for_Two'], dtype='object')"
            ]
          },
          "metadata": {},
          "execution_count": 10
        }
      ]
    },
    {
      "cell_type": "code",
      "source": [
        "#We need to see values of Rating column to find why its datatype is object\n",
        "#and not float."
      ],
      "metadata": {
        "id": "jodewwIE_E_A"
      },
      "execution_count": 11,
      "outputs": []
    },
    {
      "cell_type": "code",
      "source": [
        "dataset['Rating'].unique()"
      ],
      "metadata": {
        "colab": {
          "base_uri": "https://localhost:8080/"
        },
        "id": "PrHhb-KN-WKf",
        "outputId": "c0778058-2787-4428-f36a-0b0a9a96756f"
      },
      "execution_count": 12,
      "outputs": [
        {
          "output_type": "execute_result",
          "data": {
            "text/plain": [
              "array(['4.3', '4.4', '4.1', '4.2', '3.9', '3.8', '4', '3.7', '3.6', '4.8',\n",
              "       '4.5', '4.6', '--'], dtype=object)"
            ]
          },
          "metadata": {},
          "execution_count": 12
        }
      ]
    },
    {
      "cell_type": "code",
      "source": [
        "#Rating column has a value as -- so we need to replace that value by 0."
      ],
      "metadata": {
        "id": "tPTecvo1-ddt"
      },
      "execution_count": 13,
      "outputs": []
    },
    {
      "cell_type": "code",
      "source": [
        "dataset['Rating']=dataset['Rating'].str.replace('--','0').astype(float)"
      ],
      "metadata": {
        "id": "caFa3Bgi-2U3"
      },
      "execution_count": 14,
      "outputs": []
    },
    {
      "cell_type": "code",
      "source": [
        "dataset['Rating'].unique()"
      ],
      "metadata": {
        "colab": {
          "base_uri": "https://localhost:8080/"
        },
        "id": "NW8hH-cY_TRI",
        "outputId": "5e78bc31-c1c1-48d4-9421-349a9efc5182"
      },
      "execution_count": 15,
      "outputs": [
        {
          "output_type": "execute_result",
          "data": {
            "text/plain": [
              "array([4.3, 4.4, 4.1, 4.2, 3.9, 3.8, 4. , 3.7, 3.6, 4.8, 4.5, 4.6, 0. ])"
            ]
          },
          "metadata": {},
          "execution_count": 15
        }
      ]
    },
    {
      "cell_type": "code",
      "source": [
        "dataset['Rating'].dtype"
      ],
      "metadata": {
        "colab": {
          "base_uri": "https://localhost:8080/"
        },
        "id": "_7imEYzU_WnY",
        "outputId": "75bd46b0-1390-4df0-aa65-a0ab47831b11"
      },
      "execution_count": 16,
      "outputs": [
        {
          "output_type": "execute_result",
          "data": {
            "text/plain": [
              "dtype('float64')"
            ]
          },
          "metadata": {},
          "execution_count": 16
        }
      ]
    },
    {
      "cell_type": "code",
      "source": [
        "#So we successfully converted the Rating column into float datatype."
      ],
      "metadata": {
        "id": "OhcYVfsx_h3t"
      },
      "execution_count": 17,
      "outputs": []
    },
    {
      "cell_type": "code",
      "source": [
        "dataset.info()"
      ],
      "metadata": {
        "colab": {
          "base_uri": "https://localhost:8080/"
        },
        "id": "ITBQN7NX_vkN",
        "outputId": "2a385b2a-ed09-45d0-9eb8-7eb9ecd5fa3c"
      },
      "execution_count": 18,
      "outputs": [
        {
          "output_type": "stream",
          "name": "stdout",
          "text": [
            "<class 'pandas.core.frame.DataFrame'>\n",
            "RangeIndex: 118 entries, 0 to 117\n",
            "Data columns (total 5 columns):\n",
            " #   Column        Non-Null Count  Dtype  \n",
            "---  ------        --------------  -----  \n",
            " 0   Shop_Name     118 non-null    object \n",
            " 1   Cuisine       118 non-null    object \n",
            " 2   Location      118 non-null    object \n",
            " 3   Rating        118 non-null    float64\n",
            " 4   Cost_for_Two  118 non-null    object \n",
            "dtypes: float64(1), object(4)\n",
            "memory usage: 4.7+ KB\n"
          ]
        }
      ]
    },
    {
      "cell_type": "code",
      "source": [
        "#now checking Cost_for_Two column."
      ],
      "metadata": {
        "id": "XtttsW_n_zsN"
      },
      "execution_count": 19,
      "outputs": []
    },
    {
      "cell_type": "code",
      "source": [
        "dataset['Cost_for_Two'].unique()"
      ],
      "metadata": {
        "colab": {
          "base_uri": "https://localhost:8080/"
        },
        "id": "fOhMOrSOABow",
        "outputId": "6cf2d7a6-a8cf-41c0-952a-dc8ec4eed2fb"
      },
      "execution_count": 20,
      "outputs": [
        {
          "output_type": "execute_result",
          "data": {
            "text/plain": [
              "array(['₹ 150', '₹ 400', '₹ 126', '₹ 450', '₹ 350', '₹ 200', '₹ 500',\n",
              "       '₹ 247', '₹ 550', '₹ 300', '₹ 129', '₹ 250', '₹ 268', '₹ 600',\n",
              "       '₹ 527', '₹ 130', '₹ 257', '₹ 280', '₹ 399', '₹ 220', '₹ 800',\n",
              "       '₹ 100', '₹ 178', '₹ 120', '₹ 251', '₹ 650', '₹ 132', '₹ 153',\n",
              "       '₹ 219', '₹ 193'], dtype=object)"
            ]
          },
          "metadata": {},
          "execution_count": 20
        }
      ]
    },
    {
      "cell_type": "code",
      "source": [
        "#Due to symbol the datatype is object so we need to remove the symbol."
      ],
      "metadata": {
        "id": "BIKfjzzxAHFJ"
      },
      "execution_count": 21,
      "outputs": []
    },
    {
      "cell_type": "code",
      "source": [
        "def remove(string):\n",
        "  cost=string.split(' ')[1] #to get only no.\n",
        "  return cost\n",
        "#FUNCTION TO GET ONLY NUMERICAL PART."
      ],
      "metadata": {
        "id": "cCKMdOvbAl69"
      },
      "execution_count": 22,
      "outputs": []
    },
    {
      "cell_type": "code",
      "source": [
        "dataset['Cost_for_Two']=dataset['Cost_for_Two'].apply(remove)\n",
        "#applying remove function in cost_for_two column."
      ],
      "metadata": {
        "id": "yCGJXz16BHtK"
      },
      "execution_count": 23,
      "outputs": []
    },
    {
      "cell_type": "code",
      "source": [
        "#changing datatype to integer.\n",
        "dataset['Cost_for_Two']=dataset['Cost_for_Two'].astype('int')"
      ],
      "metadata": {
        "id": "yq631HEsBe6V"
      },
      "execution_count": 24,
      "outputs": []
    },
    {
      "cell_type": "code",
      "source": [
        "dataset['Cost_for_Two'].unique()"
      ],
      "metadata": {
        "colab": {
          "base_uri": "https://localhost:8080/"
        },
        "id": "FGHSxl5wBwW1",
        "outputId": "80430354-f60b-4eb7-9313-5bbd192190e7"
      },
      "execution_count": 25,
      "outputs": [
        {
          "output_type": "execute_result",
          "data": {
            "text/plain": [
              "array([150, 400, 126, 450, 350, 200, 500, 247, 550, 300, 129, 250, 268,\n",
              "       600, 527, 130, 257, 280, 399, 220, 800, 100, 178, 120, 251, 650,\n",
              "       132, 153, 219, 193])"
            ]
          },
          "metadata": {},
          "execution_count": 25
        }
      ]
    },
    {
      "cell_type": "code",
      "source": [
        "dataset['Cost_for_Two'].dtype"
      ],
      "metadata": {
        "colab": {
          "base_uri": "https://localhost:8080/"
        },
        "id": "EqE9yiwbBzQK",
        "outputId": "b74ba796-6397-4876-ddc2-79a1fde0e844"
      },
      "execution_count": 26,
      "outputs": [
        {
          "output_type": "execute_result",
          "data": {
            "text/plain": [
              "dtype('int64')"
            ]
          },
          "metadata": {},
          "execution_count": 26
        }
      ]
    },
    {
      "cell_type": "code",
      "source": [
        "#so we successfully converted the datatype into integer and also removed symbols."
      ],
      "metadata": {
        "id": "v7hiMXstB2Hz"
      },
      "execution_count": 27,
      "outputs": []
    },
    {
      "cell_type": "code",
      "source": [
        "dataset.info()"
      ],
      "metadata": {
        "colab": {
          "base_uri": "https://localhost:8080/"
        },
        "id": "lXCJChpiCN-X",
        "outputId": "106ac739-4e22-4dfa-dbd9-a7d2be1d34e4"
      },
      "execution_count": 28,
      "outputs": [
        {
          "output_type": "stream",
          "name": "stdout",
          "text": [
            "<class 'pandas.core.frame.DataFrame'>\n",
            "RangeIndex: 118 entries, 0 to 117\n",
            "Data columns (total 5 columns):\n",
            " #   Column        Non-Null Count  Dtype  \n",
            "---  ------        --------------  -----  \n",
            " 0   Shop_Name     118 non-null    object \n",
            " 1   Cuisine       118 non-null    object \n",
            " 2   Location      118 non-null    object \n",
            " 3   Rating        118 non-null    float64\n",
            " 4   Cost_for_Two  118 non-null    int64  \n",
            "dtypes: float64(1), int64(1), object(3)\n",
            "memory usage: 4.7+ KB\n"
          ]
        }
      ]
    },
    {
      "cell_type": "code",
      "source": [
        "#changing column name Cost_for_Two to Cost_for_Two_In_₹.\n",
        "dataset.rename(columns={'Cost_for_Two':'Cost_for_Two_In_₹'},inplace=True)"
      ],
      "metadata": {
        "id": "FMbJvLSlCkne"
      },
      "execution_count": 29,
      "outputs": []
    },
    {
      "cell_type": "code",
      "source": [
        "dataset.info()"
      ],
      "metadata": {
        "colab": {
          "base_uri": "https://localhost:8080/"
        },
        "id": "lVVlJ08BDFtQ",
        "outputId": "d40fece2-e240-408b-9d6f-b1472f43332b"
      },
      "execution_count": 30,
      "outputs": [
        {
          "output_type": "stream",
          "name": "stdout",
          "text": [
            "<class 'pandas.core.frame.DataFrame'>\n",
            "RangeIndex: 118 entries, 0 to 117\n",
            "Data columns (total 5 columns):\n",
            " #   Column             Non-Null Count  Dtype  \n",
            "---  ------             --------------  -----  \n",
            " 0   Shop_Name          118 non-null    object \n",
            " 1   Cuisine            118 non-null    object \n",
            " 2   Location           118 non-null    object \n",
            " 3   Rating             118 non-null    float64\n",
            " 4   Cost_for_Two_In_₹  118 non-null    int64  \n",
            "dtypes: float64(1), int64(1), object(3)\n",
            "memory usage: 4.7+ KB\n"
          ]
        }
      ]
    },
    {
      "cell_type": "code",
      "source": [
        "#The other column's datatypes need not be changed as thay are strings/characters.\n",
        "#So preprocessing of dataset is completed."
      ],
      "metadata": {
        "id": "2KbcPQv5DJM9"
      },
      "execution_count": 31,
      "outputs": []
    },
    {
      "cell_type": "code",
      "source": [
        "#Distibution Of Rating Column\n",
        "sns.distplot(dataset['Rating'])"
      ],
      "metadata": {
        "colab": {
          "base_uri": "https://localhost:8080/",
          "height": 354
        },
        "id": "DH84s4IPDopY",
        "outputId": "0c33b1d1-02ab-4336-985b-3170628ed919"
      },
      "execution_count": 32,
      "outputs": [
        {
          "output_type": "stream",
          "name": "stderr",
          "text": [
            "/usr/local/lib/python3.8/dist-packages/seaborn/distributions.py:2619: FutureWarning: `distplot` is a deprecated function and will be removed in a future version. Please adapt your code to use either `displot` (a figure-level function with similar flexibility) or `histplot` (an axes-level function for histograms).\n",
            "  warnings.warn(msg, FutureWarning)\n"
          ]
        },
        {
          "output_type": "execute_result",
          "data": {
            "text/plain": [
              "<matplotlib.axes._subplots.AxesSubplot at 0x7fcbb48b7be0>"
            ]
          },
          "metadata": {},
          "execution_count": 32
        },
        {
          "output_type": "display_data",
          "data": {
            "text/plain": [
              "<Figure size 432x288 with 1 Axes>"
            ],
            "image/png": "[encoded data removed]"
          },
          "metadata": {
            "needs_background": "light"
          }
        }
      ]
    },
    {
      "cell_type": "code",
      "source": [
        "#Many ratings are 0 .\n",
        "#We filter dataset so that Rating > 0."
      ],
      "metadata": {
        "id": "upW9oXp8E3CR"
      },
      "execution_count": 33,
      "outputs": []
    },
    {
      "cell_type": "code",
      "source": [
        "df_Ratings = dataset[dataset['Rating'] > 0]\n",
        "df_Ratings"
      ],
      "metadata": {
        "colab": {
          "base_uri": "https://localhost:8080/",
          "height": 423
        },
        "id": "DF0BEXrQD4lq",
        "outputId": "2b151014-c47b-4028-b5dc-45cdbf02ae15"
      },
      "execution_count": 34,
      "outputs": [
        {
          "output_type": "execute_result",
          "data": {
            "text/plain": [
              "              Shop_Name                                            Cuisine  \\\n",
              "0          Kanti Sweets                                             Sweets   \n",
              "1         Mumbai Tiffin             North Indian, Home Food, Thalis, Combo   \n",
              "2     Sri Krishna sagar  South Indian, North Indian, Fast Food, Beverag...   \n",
              "3               Al Daaz  American, Arabian, Chinese, Desserts, Fast Foo...   \n",
              "4         Beijing Bites                                      Chinese, Thai   \n",
              "..                  ...                                                ...   \n",
              "113  Wok Paper Scissors                          Pan-Asian, Chinese, Asian   \n",
              "114  Savoury Restaurant  Arabian, Middle Eastern, North Indian, Grill, ...   \n",
              "115         Royal Treat            North Indian, Chinese, Seafood, Biryani   \n",
              "116            Thali 99                                       North Indian   \n",
              "117  Mani's Dum Biryani                                    Andhra, Biryani   \n",
              "\n",
              "                               Location  Rating  Cost_for_Two_In_₹  \n",
              "0              Koramangala, Koramangala     4.3                150  \n",
              "1                         Sector 5, HSR     4.4                400  \n",
              "2                6th Block, Koramangala     4.1                126  \n",
              "3                              HSR, HSR     4.4                400  \n",
              "4                5th Block, Koramangala     4.1                450  \n",
              "..                                  ...     ...                ...  \n",
              "113               JNC Road, Koramangala     3.9                219  \n",
              "114                       Madiwala, BTM     4.1                600  \n",
              "115  5th block Koramangala, Koramangala     4.2                193  \n",
              "116            Koramangala, Koramangala     4.3                200  \n",
              "117              1st Block, Koramangala     4.2                400  \n",
              "\n",
              "[117 rows x 5 columns]"
            ],
            "text/html": [
              "\n",
              "  <div id=\"df-12f095b4-b266-4888-a28d-f9b9d62ee55e\">\n",
              "    <div class=\"colab-df-container\">\n",
              "      <div>\n",
              "<style scoped>\n",
              "    .dataframe tbody tr th:only-of-type {\n",
              "        vertical-align: middle;\n",
              "    }\n",
              "\n",
              "    .dataframe tbody tr th {\n",
              "        vertical-align: top;\n",
              "    }\n",
              "\n",
              "    .dataframe thead th {\n",
              "        text-align: right;\n",
              "    }\n",
              "</style>\n",
              "<table border=\"1\" class=\"dataframe\">\n",
              "  <thead>\n",
              "    <tr style=\"text-align: right;\">\n",
              "      <th></th>\n",
              "      <th>Shop_Name</th>\n",
              "      <th>Cuisine</th>\n",
              "      <th>Location</th>\n",
              "      <th>Rating</th>\n",
              "      <th>Cost_for_Two_In_₹</th>\n",
              "    </tr>\n",
              "  </thead>\n",
              "  <tbody>\n",
              "    <tr>\n",
              "      <th>0</th>\n",
              "      <td>Kanti Sweets</td>\n",
              "      <td>Sweets</td>\n",
              "      <td>Koramangala, Koramangala</td>\n",
              "      <td>4.3</td>\n",
              "      <td>150</td>\n",
              "    </tr>\n",
              "    <tr>\n",
              "      <th>1</th>\n",
              "      <td>Mumbai Tiffin</td>\n",
              "      <td>North Indian, Home Food, Thalis, Combo</td>\n",
              "      <td>Sector 5, HSR</td>\n",
              "      <td>4.4</td>\n",
              "      <td>400</td>\n",
              "    </tr>\n",
              "    <tr>\n",
              "      <th>2</th>\n",
              "      <td>Sri Krishna sagar</td>\n",
              "      <td>South Indian, North Indian, Fast Food, Beverag...</td>\n",
              "      <td>6th Block, Koramangala</td>\n",
              "      <td>4.1</td>\n",
              "      <td>126</td>\n",
              "    </tr>\n",
              "    <tr>\n",
              "      <th>3</th>\n",
              "      <td>Al Daaz</td>\n",
              "      <td>American, Arabian, Chinese, Desserts, Fast Foo...</td>\n",
              "      <td>HSR, HSR</td>\n",
              "      <td>4.4</td>\n",
              "      <td>400</td>\n",
              "    </tr>\n",
              "    <tr>\n",
              "      <th>4</th>\n",
              "      <td>Beijing Bites</td>\n",
              "      <td>Chinese, Thai</td>\n",
              "      <td>5th Block, Koramangala</td>\n",
              "      <td>4.1</td>\n",
              "      <td>450</td>\n",
              "    </tr>\n",
              "    <tr>\n",
              "      <th>...</th>\n",
              "      <td>...</td>\n",
              "      <td>...</td>\n",
              "      <td>...</td>\n",
              "      <td>...</td>\n",
              "      <td>...</td>\n",
              "    </tr>\n",
              "    <tr>\n",
              "      <th>113</th>\n",
              "      <td>Wok Paper Scissors</td>\n",
              "      <td>Pan-Asian, Chinese, Asian</td>\n",
              "      <td>JNC Road, Koramangala</td>\n",
              "      <td>3.9</td>\n",
              "      <td>219</td>\n",
              "    </tr>\n",
              "    <tr>\n",
              "      <th>114</th>\n",
              "      <td>Savoury Restaurant</td>\n",
              "      <td>Arabian, Middle Eastern, North Indian, Grill, ...</td>\n",
              "      <td>Madiwala, BTM</td>\n",
              "      <td>4.1</td>\n",
              "      <td>600</td>\n",
              "    </tr>\n",
              "    <tr>\n",
              "      <th>115</th>\n",
              "      <td>Royal Treat</td>\n",
              "      <td>North Indian, Chinese, Seafood, Biryani</td>\n",
              "      <td>5th block Koramangala, Koramangala</td>\n",
              "      <td>4.2</td>\n",
              "      <td>193</td>\n",
              "    </tr>\n",
              "    <tr>\n",
              "      <th>116</th>\n",
              "      <td>Thali 99</td>\n",
              "      <td>North Indian</td>\n",
              "      <td>Koramangala, Koramangala</td>\n",
              "      <td>4.3</td>\n",
              "      <td>200</td>\n",
              "    </tr>\n",
              "    <tr>\n",
              "      <th>117</th>\n",
              "      <td>Mani's Dum Biryani</td>\n",
              "      <td>Andhra, Biryani</td>\n",
              "      <td>1st Block, Koramangala</td>\n",
              "      <td>4.2</td>\n",
              "      <td>400</td>\n",
              "    </tr>\n",
              "  </tbody>\n",
              "</table>\n",
              "<p>117 rows × 5 columns</p>\n",
              "</div>\n",
              "      <button class=\"colab-df-convert\" onclick=\"convertToInteractive('df-12f095b4-b266-4888-a28d-f9b9d62ee55e')\"\n",
              "              title=\"Convert this dataframe to an interactive table.\"\n",
              "              style=\"display:none;\">\n",
              "        \n",
              "  <svg xmlns=\"http://www.w3.org/2000/svg\" height=\"24px\"viewBox=\"0 0 24 24\"\n",
              "       width=\"24px\">\n",
              "    <path d=\"M0 0h24v24H0V0z\" fill=\"none\"/>\n",
              "    <path d=\"M18.56 5.44l.94 2.06.94-2.06 2.06-.94-2.06-.94-.94-2.06-.94 2.06-2.06.94zm-11 1L8.5 8.5l.94-2.06 2.06-.94-2.06-.94L8.5 2.5l-.94 2.06-2.06.94zm10 10l.94 2.06.94-2.06 2.06-.94-2.06-.94-.94-2.06-.94 2.06-2.06.94z\"/><path d=\"M17.41 7.96l-1.37-1.37c-.4-.4-.92-.59-1.43-.59-.52 0-1.04.2-1.43.59L10.3 9.45l-7.72 7.72c-.78.78-.78 2.05 0 2.83L4 21.41c.39.39.9.59 1.41.59.51 0 1.02-.2 1.41-.59l7.78-7.78 2.81-2.81c.8-.78.8-2.07 0-2.86zM5.41 20L4 18.59l7.72-7.72 1.47 1.35L5.41 20z\"/>\n",
              "  </svg>\n",
              "      </button>\n",
              "      \n",
              "  <style>\n",
              "    .colab-df-container {\n",
              "      display:flex;\n",
              "      flex-wrap:wrap;\n",
              "      gap: 12px;\n",
              "    }\n",
              "\n",
              "    .colab-df-convert {\n",
              "      background-color: #E8F0FE;\n",
              "      border: none;\n",
              "      border-radius: 50%;\n",
              "      cursor: pointer;\n",
              "      display: none;\n",
              "      fill: #1967D2;\n",
              "      height: 32px;\n",
              "      padding: 0 0 0 0;\n",
              "      width: 32px;\n",
              "    }\n",
              "\n",
              "    .colab-df-convert:hover {\n",
              "      background-color: #E2EBFA;\n",
              "      box-shadow: 0px 1px 2px rgba(60, 64, 67, 0.3), 0px 1px 3px 1px rgba(60, 64, 67, 0.15);\n",
              "      fill: #174EA6;\n",
              "    }\n",
              "\n",
              "    [theme=dark] .colab-df-convert {\n",
              "      background-color: #3B4455;\n",
              "      fill: #D2E3FC;\n",
              "    }\n",
              "\n",
              "    [theme=dark] .colab-df-convert:hover {\n",
              "      background-color: #434B5C;\n",
              "      box-shadow: 0px 1px 3px 1px rgba(0, 0, 0, 0.15);\n",
              "      filter: drop-shadow(0px 1px 2px rgba(0, 0, 0, 0.3));\n",
              "      fill: #FFFFFF;\n",
              "    }\n",
              "  </style>\n",
              "\n",
              "      <script>\n",
              "        const buttonEl =\n",
              "          document.querySelector('#df-12f095b4-b266-4888-a28d-f9b9d62ee55e button.colab-df-convert');\n",
              "        buttonEl.style.display =\n",
              "          google.colab.kernel.accessAllowed ? 'block' : 'none';\n",
              "\n",
              "        async function convertToInteractive(key) {\n",
              "          const element = document.querySelector('#df-12f095b4-b266-4888-a28d-f9b9d62ee55e');\n",
              "          const dataTable =\n",
              "            await google.colab.kernel.invokeFunction('convertToInteractive',\n",
              "                                                     [key], {});\n",
              "          if (!dataTable) return;\n",
              "\n",
              "          const docLinkHtml = 'Like what you see? Visit the ' +\n",
              "            '<a target=\"_blank\" href=https://colab.research.google.com/notebooks/data_table.ipynb>data table notebook</a>'\n",
              "            + ' to learn more about interactive tables.';\n",
              "          element.innerHTML = '';\n",
              "          dataTable['output_type'] = 'display_data';\n",
              "          await google.colab.output.renderOutput(dataTable, element);\n",
              "          const docLink = document.createElement('div');\n",
              "          docLink.innerHTML = docLinkHtml;\n",
              "          element.appendChild(docLink);\n",
              "        }\n",
              "      </script>\n",
              "    </div>\n",
              "  </div>\n",
              "  "
            ]
          },
          "metadata": {},
          "execution_count": 34
        }
      ]
    },
    {
      "cell_type": "code",
      "source": [
        "#Taking only rows having Rating>0.\n",
        "sns.distplot(df_Ratings['Rating'])"
      ],
      "metadata": {
        "colab": {
          "base_uri": "https://localhost:8080/",
          "height": 354
        },
        "id": "e8lRRpZUEWZn",
        "outputId": "f4e63207-0f32-42c6-c4fa-be74de07c94e"
      },
      "execution_count": 35,
      "outputs": [
        {
          "output_type": "stream",
          "name": "stderr",
          "text": [
            "/usr/local/lib/python3.8/dist-packages/seaborn/distributions.py:2619: FutureWarning: `distplot` is a deprecated function and will be removed in a future version. Please adapt your code to use either `displot` (a figure-level function with similar flexibility) or `histplot` (an axes-level function for histograms).\n",
            "  warnings.warn(msg, FutureWarning)\n"
          ]
        },
        {
          "output_type": "execute_result",
          "data": {
            "text/plain": [
              "<matplotlib.axes._subplots.AxesSubplot at 0x7fcbb274b640>"
            ]
          },
          "metadata": {},
          "execution_count": 35
        },
        {
          "output_type": "display_data",
          "data": {
            "text/plain": [
              "<Figure size 432x288 with 1 Axes>"
            ],
            "image/png": "[encoded data removed]"
          },
          "metadata": {
            "needs_background": "light"
          }
        }
      ]
    },
    {
      "cell_type": "code",
      "source": [
        "dataset['Rating'].max()"
      ],
      "metadata": {
        "colab": {
          "base_uri": "https://localhost:8080/"
        },
        "id": "7orJebCCEkHZ",
        "outputId": "bae95b13-0769-46d9-cd4b-2bf03ed4a6c3"
      },
      "execution_count": 36,
      "outputs": [
        {
          "output_type": "execute_result",
          "data": {
            "text/plain": [
              "4.8"
            ]
          },
          "metadata": {},
          "execution_count": 36
        }
      ]
    },
    {
      "cell_type": "code",
      "source": [
        "#From the distribution plot we can see that More than 50% of Restaurants\n",
        "#are having rating > 4.0.\n",
        "#Maximum rating is 4.8\n",
        "#So we conclude that 50% of restaurants are doing well."
      ],
      "metadata": {
        "id": "WUPnFntmFgAA"
      },
      "execution_count": 37,
      "outputs": []
    },
    {
      "cell_type": "code",
      "source": [
        "#location column\n",
        "dataset['Location'].unique()"
      ],
      "metadata": {
        "colab": {
          "base_uri": "https://localhost:8080/"
        },
        "id": "-9uD4K9RGnXm",
        "outputId": "7f380261-d633-4059-aed2-569c58ecbd21"
      },
      "execution_count": 38,
      "outputs": [
        {
          "output_type": "execute_result",
          "data": {
            "text/plain": [
              "array(['Koramangala, Koramangala', 'Sector 5, HSR',\n",
              "       '6th Block, Koramangala', 'HSR, HSR', '5th Block, Koramangala',\n",
              "       'Koramangala 4th  Block, Koramangala', 'BTM 2nd Stage, BTM',\n",
              "       'BTM, BTM', '9th Main road, Koramangala', 'outer ring road, BTM',\n",
              "       '7th Block, Koramangala', '1st MAin, Koramangala',\n",
              "       'Bommanahalli, BTM', '6th block, Koramangala', 'Sector 4, HSR',\n",
              "       'BTM 1st stage, BTM', 'Jakkasandra Extn, Koramangala',\n",
              "       'Marutinagar Main Road, BTM', '1st Block, Koramangala',\n",
              "       '4th Cross, BTM', 'koramangala, Koramangala', 'BTM 2nd stage, BTM',\n",
              "       '3rd main, BTM', 'HSR 1st sector, HSR', 'Sector 7, HSR',\n",
              "       '3rd Sector, HSR', 'Chocolate Factory Road, BTM',\n",
              "       '16th Main Road, 2nd Stage, BTM', '1st Stage, BTM',\n",
              "       'Hosur Main Road, Koramangala',\n",
              "       '1st Cross Road, 5th Block, Near Jyothi Nivas College, Koramangala',\n",
              "       'Mico Layout, BTM', '4th Cross, Koramangala',\n",
              "       '4th Block, Koramangala', 'Intermediate Ring Road, Koramangala',\n",
              "       '3rd sector, HSR', '8TH BLOCK, Koramangala',\n",
              "       '4th b cross, Koramangala', 'SG palaya, BTM',\n",
              "       \"Venkatapura Main Rd, Teacher's Colony, Jakkasandra, HSR\",\n",
              "       'KHB Colony, Koramangala', 'Sector 3, HSR',\n",
              "       'Bannerghatta Road, Jayanagar',\n",
              "       '80 Feet Peripheral Road, Koramangala', 'Btm, BTM',\n",
              "       'Near Wipro Park Signal, Koramangala', '16th Main Road, BTM',\n",
              "       '2nd Stage, BTM', 'Kuvempu Nagar, Stage 2, BTM',\n",
              "       'Koramangala 1st block, Koramangala',\n",
              "       '5th Block Kormangala, Koramangala', 'Koramangla, Koramangala',\n",
              "       '5th block, Koramangala', '9th Main Rd, Sector 6, HSR Layout, HSR',\n",
              "       'Jay Bheema Nagar, BTM', 'Koramangala 6th block, Koramangala',\n",
              "       'Maruthi Nagar, BTM', 'Sector 6, HSR',\n",
              "       'Jakkasandra Village, Koramangala', '4th block, Koramangala',\n",
              "       'Madiwala Junction, BTM', 'kormangala, Koramangala',\n",
              "       'JNC Road, Koramangala', 'Madiwala, BTM',\n",
              "       '5th block Koramangala, Koramangala'], dtype=object)"
            ]
          },
          "metadata": {},
          "execution_count": 38
        }
      ]
    },
    {
      "cell_type": "code",
      "source": [
        "#no. of unique values.\n",
        "dataset['Location'].nunique()"
      ],
      "metadata": {
        "colab": {
          "base_uri": "https://localhost:8080/"
        },
        "id": "JdAgzzQMG4p4",
        "outputId": "8f6a99b6-2e6f-4363-cd6e-45eaaaf40f72"
      },
      "execution_count": 39,
      "outputs": [
        {
          "output_type": "execute_result",
          "data": {
            "text/plain": [
              "65"
            ]
          },
          "metadata": {},
          "execution_count": 39
        }
      ]
    },
    {
      "cell_type": "code",
      "source": [
        "#By observing the dataset we find repetitive words: Koramangala,HSR,BTM\n",
        "#All the location names have added prefixes with the above repetitive words."
      ],
      "metadata": {
        "id": "7EZRjV70HDGs"
      },
      "execution_count": 40,
      "outputs": []
    },
    {
      "cell_type": "code",
      "source": [
        "df_Koramangala=dataset[dataset['Location'].str.contains(r'Koramangala')]\n",
        "df_Koramangala\n",
        "#Getting rows with location containing string 'Koramangala'"
      ],
      "metadata": {
        "colab": {
          "base_uri": "https://localhost:8080/",
          "height": 423
        },
        "id": "ohlNvveeIRzS",
        "outputId": "c2bd919a-d014-44be-cb1a-3e755ec38482"
      },
      "execution_count": 41,
      "outputs": [
        {
          "output_type": "execute_result",
          "data": {
            "text/plain": [
              "              Shop_Name                                            Cuisine  \\\n",
              "0          Kanti Sweets                                             Sweets   \n",
              "2     Sri Krishna sagar  South Indian, North Indian, Fast Food, Beverag...   \n",
              "4         Beijing Bites                                      Chinese, Thai   \n",
              "5    Kitchens of Punjab                                       North Indian   \n",
              "9         Yumlane Pizza                           Pizzas, Italian, Mexican   \n",
              "..                  ...                                                ...   \n",
              "112            Kritunga                                    Andhra, Biryani   \n",
              "113  Wok Paper Scissors                          Pan-Asian, Chinese, Asian   \n",
              "115         Royal Treat            North Indian, Chinese, Seafood, Biryani   \n",
              "116            Thali 99                                       North Indian   \n",
              "117  Mani's Dum Biryani                                    Andhra, Biryani   \n",
              "\n",
              "                                Location  Rating  Cost_for_Two_In_₹  \n",
              "0               Koramangala, Koramangala     4.3                150  \n",
              "2                 6th Block, Koramangala     4.1                126  \n",
              "4                 5th Block, Koramangala     4.1                450  \n",
              "5    Koramangala 4th  Block, Koramangala     4.2                350  \n",
              "9             9th Main road, Koramangala     3.8                150  \n",
              "..                                   ...     ...                ...  \n",
              "112               5th Block, Koramangala     3.9                500  \n",
              "113                JNC Road, Koramangala     3.9                219  \n",
              "115   5th block Koramangala, Koramangala     4.2                193  \n",
              "116             Koramangala, Koramangala     4.3                200  \n",
              "117               1st Block, Koramangala     4.2                400  \n",
              "\n",
              "[64 rows x 5 columns]"
            ],
            "text/html": [
              "\n",
              "  <div id=\"df-e3637bef-d960-4b9d-a542-ba376e31cb01\">\n",
              "    <div class=\"colab-df-container\">\n",
              "      <div>\n",
              "<style scoped>\n",
              "    .dataframe tbody tr th:only-of-type {\n",
              "        vertical-align: middle;\n",
              "    }\n",
              "\n",
              "    .dataframe tbody tr th {\n",
              "        vertical-align: top;\n",
              "    }\n",
              "\n",
              "    .dataframe thead th {\n",
              "        text-align: right;\n",
              "    }\n",
              "</style>\n",
              "<table border=\"1\" class=\"dataframe\">\n",
              "  <thead>\n",
              "    <tr style=\"text-align: right;\">\n",
              "      <th></th>\n",
              "      <th>Shop_Name</th>\n",
              "      <th>Cuisine</th>\n",
              "      <th>Location</th>\n",
              "      <th>Rating</th>\n",
              "      <th>Cost_for_Two_In_₹</th>\n",
              "    </tr>\n",
              "  </thead>\n",
              "  <tbody>\n",
              "    <tr>\n",
              "      <th>0</th>\n",
              "      <td>Kanti Sweets</td>\n",
              "      <td>Sweets</td>\n",
              "      <td>Koramangala, Koramangala</td>\n",
              "      <td>4.3</td>\n",
              "      <td>150</td>\n",
              "    </tr>\n",
              "    <tr>\n",
              "      <th>2</th>\n",
              "      <td>Sri Krishna sagar</td>\n",
              "      <td>South Indian, North Indian, Fast Food, Beverag...</td>\n",
              "      <td>6th Block, Koramangala</td>\n",
              "      <td>4.1</td>\n",
              "      <td>126</td>\n",
              "    </tr>\n",
              "    <tr>\n",
              "      <th>4</th>\n",
              "      <td>Beijing Bites</td>\n",
              "      <td>Chinese, Thai</td>\n",
              "      <td>5th Block, Koramangala</td>\n",
              "      <td>4.1</td>\n",
              "      <td>450</td>\n",
              "    </tr>\n",
              "    <tr>\n",
              "      <th>5</th>\n",
              "      <td>Kitchens of Punjab</td>\n",
              "      <td>North Indian</td>\n",
              "      <td>Koramangala 4th  Block, Koramangala</td>\n",
              "      <td>4.2</td>\n",
              "      <td>350</td>\n",
              "    </tr>\n",
              "    <tr>\n",
              "      <th>9</th>\n",
              "      <td>Yumlane Pizza</td>\n",
              "      <td>Pizzas, Italian, Mexican</td>\n",
              "      <td>9th Main road, Koramangala</td>\n",
              "      <td>3.8</td>\n",
              "      <td>150</td>\n",
              "    </tr>\n",
              "    <tr>\n",
              "      <th>...</th>\n",
              "      <td>...</td>\n",
              "      <td>...</td>\n",
              "      <td>...</td>\n",
              "      <td>...</td>\n",
              "      <td>...</td>\n",
              "    </tr>\n",
              "    <tr>\n",
              "      <th>112</th>\n",
              "      <td>Kritunga</td>\n",
              "      <td>Andhra, Biryani</td>\n",
              "      <td>5th Block, Koramangala</td>\n",
              "      <td>3.9</td>\n",
              "      <td>500</td>\n",
              "    </tr>\n",
              "    <tr>\n",
              "      <th>113</th>\n",
              "      <td>Wok Paper Scissors</td>\n",
              "      <td>Pan-Asian, Chinese, Asian</td>\n",
              "      <td>JNC Road, Koramangala</td>\n",
              "      <td>3.9</td>\n",
              "      <td>219</td>\n",
              "    </tr>\n",
              "    <tr>\n",
              "      <th>115</th>\n",
              "      <td>Royal Treat</td>\n",
              "      <td>North Indian, Chinese, Seafood, Biryani</td>\n",
              "      <td>5th block Koramangala, Koramangala</td>\n",
              "      <td>4.2</td>\n",
              "      <td>193</td>\n",
              "    </tr>\n",
              "    <tr>\n",
              "      <th>116</th>\n",
              "      <td>Thali 99</td>\n",
              "      <td>North Indian</td>\n",
              "      <td>Koramangala, Koramangala</td>\n",
              "      <td>4.3</td>\n",
              "      <td>200</td>\n",
              "    </tr>\n",
              "    <tr>\n",
              "      <th>117</th>\n",
              "      <td>Mani's Dum Biryani</td>\n",
              "      <td>Andhra, Biryani</td>\n",
              "      <td>1st Block, Koramangala</td>\n",
              "      <td>4.2</td>\n",
              "      <td>400</td>\n",
              "    </tr>\n",
              "  </tbody>\n",
              "</table>\n",
              "<p>64 rows × 5 columns</p>\n",
              "</div>\n",
              "      <button class=\"colab-df-convert\" onclick=\"convertToInteractive('df-e3637bef-d960-4b9d-a542-ba376e31cb01')\"\n",
              "              title=\"Convert this dataframe to an interactive table.\"\n",
              "              style=\"display:none;\">\n",
              "        \n",
              "  <svg xmlns=\"http://www.w3.org/2000/svg\" height=\"24px\"viewBox=\"0 0 24 24\"\n",
              "       width=\"24px\">\n",
              "    <path d=\"M0 0h24v24H0V0z\" fill=\"none\"/>\n",
              "    <path d=\"M18.56 5.44l.94 2.06.94-2.06 2.06-.94-2.06-.94-.94-2.06-.94 2.06-2.06.94zm-11 1L8.5 8.5l.94-2.06 2.06-.94-2.06-.94L8.5 2.5l-.94 2.06-2.06.94zm10 10l.94 2.06.94-2.06 2.06-.94-2.06-.94-.94-2.06-.94 2.06-2.06.94z\"/><path d=\"M17.41 7.96l-1.37-1.37c-.4-.4-.92-.59-1.43-.59-.52 0-1.04.2-1.43.59L10.3 9.45l-7.72 7.72c-.78.78-.78 2.05 0 2.83L4 21.41c.39.39.9.59 1.41.59.51 0 1.02-.2 1.41-.59l7.78-7.78 2.81-2.81c.8-.78.8-2.07 0-2.86zM5.41 20L4 18.59l7.72-7.72 1.47 1.35L5.41 20z\"/>\n",
              "  </svg>\n",
              "      </button>\n",
              "      \n",
              "  <style>\n",
              "    .colab-df-container {\n",
              "      display:flex;\n",
              "      flex-wrap:wrap;\n",
              "      gap: 12px;\n",
              "    }\n",
              "\n",
              "    .colab-df-convert {\n",
              "      background-color: #E8F0FE;\n",
              "      border: none;\n",
              "      border-radius: 50%;\n",
              "      cursor: pointer;\n",
              "      display: none;\n",
              "      fill: #1967D2;\n",
              "      height: 32px;\n",
              "      padding: 0 0 0 0;\n",
              "      width: 32px;\n",
              "    }\n",
              "\n",
              "    .colab-df-convert:hover {\n",
              "      background-color: #E2EBFA;\n",
              "      box-shadow: 0px 1px 2px rgba(60, 64, 67, 0.3), 0px 1px 3px 1px rgba(60, 64, 67, 0.15);\n",
              "      fill: #174EA6;\n",
              "    }\n",
              "\n",
              "    [theme=dark] .colab-df-convert {\n",
              "      background-color: #3B4455;\n",
              "      fill: #D2E3FC;\n",
              "    }\n",
              "\n",
              "    [theme=dark] .colab-df-convert:hover {\n",
              "      background-color: #434B5C;\n",
              "      box-shadow: 0px 1px 3px 1px rgba(0, 0, 0, 0.15);\n",
              "      filter: drop-shadow(0px 1px 2px rgba(0, 0, 0, 0.3));\n",
              "      fill: #FFFFFF;\n",
              "    }\n",
              "  </style>\n",
              "\n",
              "      <script>\n",
              "        const buttonEl =\n",
              "          document.querySelector('#df-e3637bef-d960-4b9d-a542-ba376e31cb01 button.colab-df-convert');\n",
              "        buttonEl.style.display =\n",
              "          google.colab.kernel.accessAllowed ? 'block' : 'none';\n",
              "\n",
              "        async function convertToInteractive(key) {\n",
              "          const element = document.querySelector('#df-e3637bef-d960-4b9d-a542-ba376e31cb01');\n",
              "          const dataTable =\n",
              "            await google.colab.kernel.invokeFunction('convertToInteractive',\n",
              "                                                     [key], {});\n",
              "          if (!dataTable) return;\n",
              "\n",
              "          const docLinkHtml = 'Like what you see? Visit the ' +\n",
              "            '<a target=\"_blank\" href=https://colab.research.google.com/notebooks/data_table.ipynb>data table notebook</a>'\n",
              "            + ' to learn more about interactive tables.';\n",
              "          element.innerHTML = '';\n",
              "          dataTable['output_type'] = 'display_data';\n",
              "          await google.colab.output.renderOutput(dataTable, element);\n",
              "          const docLink = document.createElement('div');\n",
              "          docLink.innerHTML = docLinkHtml;\n",
              "          element.appendChild(docLink);\n",
              "        }\n",
              "      </script>\n",
              "    </div>\n",
              "  </div>\n",
              "  "
            ]
          },
          "metadata": {},
          "execution_count": 41
        }
      ]
    },
    {
      "cell_type": "code",
      "source": [
        "df_BTM=dataset[dataset['Location'].str.contains(r'BTM')]\n",
        "df_BTM\n",
        "#Getting rows with location containing string 'BTM'"
      ],
      "metadata": {
        "colab": {
          "base_uri": "https://localhost:8080/",
          "height": 1000
        },
        "id": "ARzTEQGcIdnm",
        "outputId": "fcf14ad0-07f1-42b7-868c-8edec8169db6"
      },
      "execution_count": 42,
      "outputs": [
        {
          "output_type": "execute_result",
          "data": {
            "text/plain": [
              "                                             Shop_Name  \\\n",
              "6    99 VARIETY DOSA AND PAV BHAJI- Malli Mane Food...   \n",
              "7                                      La Pino'z Pizza   \n",
              "10                                  Ambur Star Briyani   \n",
              "17                                   Sri Lakshmi Dhaba   \n",
              "20                   Just Bake - Cakes & confectioners   \n",
              "22                                      Hotel Godavari   \n",
              "25                                      Swad Punjab da   \n",
              "27                                       High N Hungry   \n",
              "31                                   Bengali Fun Foods   \n",
              "33                                           Oottupura   \n",
              "35                              Hyderabadi Biryani Hub   \n",
              "40                                Venu's Donne Biryani   \n",
              "42                                      Swadista Aahar   \n",
              "44                              Svadu Pure Ghee Sweets   \n",
              "45                                       Sai Abhiruchi   \n",
              "49                                        Balaji's Veg   \n",
              "51                                 Donne Biryani Mandi   \n",
              "60                             calicut cafe restaurant   \n",
              "65                                       World of asia   \n",
              "66                                       Ghar Ka Khana   \n",
              "68                                   KANNUR FOOD POINT   \n",
              "69                                  KANNOOR RESTAURANT   \n",
              "70                                            Fattoush   \n",
              "76                           BIRIYANI TASTE MASTH(BTM)   \n",
              "79                                   Tandoori Merchant   \n",
              "80                                         Chinese Bae   \n",
              "83                                     Abhiruchi Hotel   \n",
              "84                                        Punjabi Swag   \n",
              "86                             Gyaani Da Punjabi Dhaba   \n",
              "87                                     Biriyani Bhatti   \n",
              "92                                      BIRYANI CRAFTS   \n",
              "104                                     R.B Food Point   \n",
              "106                                New Tasty Cafeteria   \n",
              "110                                        Biryani Pot   \n",
              "114                                 Savoury Restaurant   \n",
              "\n",
              "                                               Cuisine  \\\n",
              "6                     Fast Food, North Indian, Chinese   \n",
              "7                                              Italian   \n",
              "10   Chinese, South Indian, North Indian, Desserts,...   \n",
              "17                                        North Indian   \n",
              "20                                    Desserts, Bakery   \n",
              "22                   North Indian, Chinese, Hyderabadi   \n",
              "25                                              Indian   \n",
              "27   Andhra, Biryani, Chinese, Desserts, Fast Food,...   \n",
              "31                                        North Indian   \n",
              "33                                Kerala, South Indian   \n",
              "35                      North Indian, Chinese, Biryani   \n",
              "40                                             Biryani   \n",
              "42         South Indian, Snacks, North Indian, Chinese   \n",
              "44                  Desserts, Fast Food, Sweets, Chaat   \n",
              "45           Chinese, South Indian, Andhra, Hyderabadi   \n",
              "49                 North Indian, Chinese, South Indian   \n",
              "51                       Biryani, Andhra, South Indian   \n",
              "60                                Fast Food, Beverages   \n",
              "65                                  Beverages, Chinese   \n",
              "66                                        North Indian   \n",
              "68                                     Kerala, Chinese   \n",
              "69                               North Indian, Chinese   \n",
              "70   Arabian, Beverages, Biryani, Chinese, Desserts...   \n",
              "76                          North Indian, South Indian   \n",
              "79   Andhra, Biryani, Chinese, Desserts, Fast Food,...   \n",
              "80                                       Chinese, Thai   \n",
              "83   Chinese, Hyderabadi, Biryani, Indian, South In...   \n",
              "84   Punjabi, North Indian, Chinese, Fast Food, Hea...   \n",
              "86                                        North Indian   \n",
              "87   Biryani, Hyderabadi, Andhra, North Indian, Sou...   \n",
              "92                                              Indian   \n",
              "104                              Chinese, North Indian   \n",
              "106  Andhra, Chettinad, Chinese, Mughlai, North Indian   \n",
              "110                              North Indian, Biryani   \n",
              "114  Arabian, Middle Eastern, North Indian, Grill, ...   \n",
              "\n",
              "                           Location  Rating  Cost_for_Two_In_₹  \n",
              "6                BTM 2nd Stage, BTM     4.1                200  \n",
              "7                          BTM, BTM     3.9                500  \n",
              "10             outer ring road, BTM     4.1                500  \n",
              "17                Bommanahalli, BTM     3.7                200  \n",
              "20               BTM 1st stage, BTM     4.3                300  \n",
              "22       Marutinagar Main Road, BTM     4.0                400  \n",
              "25                         BTM, BTM     4.1                250  \n",
              "27                   4th Cross, BTM     4.1                350  \n",
              "31               BTM 2nd stage, BTM     4.2                300  \n",
              "33                         BTM, BTM     4.3                268  \n",
              "35                    3rd main, BTM     3.9                450  \n",
              "40      Chocolate Factory Road, BTM     4.3                300  \n",
              "42   16th Main Road, 2nd Stage, BTM     4.1                250  \n",
              "44                   1st Stage, BTM     4.1                200  \n",
              "45                         BTM, BTM     3.7                250  \n",
              "49                 Mico Layout, BTM     4.1                300  \n",
              "51                         BTM, BTM     4.0                150  \n",
              "60                         BTM, BTM     4.1                280  \n",
              "65                         BTM, BTM     4.0                250  \n",
              "66                         BTM, BTM     4.2                220  \n",
              "68                   SG palaya, BTM     3.9                300  \n",
              "69                         BTM, BTM     4.0                250  \n",
              "70                         BTM, BTM     3.9                400  \n",
              "76                         Btm, BTM     4.2                300  \n",
              "79                   4th Cross, BTM     4.2                100  \n",
              "80                         BTM, BTM     4.5                450  \n",
              "83                         BTM, BTM     4.0                250  \n",
              "84              16th Main Road, BTM     3.7                400  \n",
              "86                   2nd Stage, BTM     4.0                500  \n",
              "87      Kuvempu Nagar, Stage 2, BTM     4.1                350  \n",
              "92                         BTM, BTM     4.1                500  \n",
              "104           Jay Bheema Nagar, BTM     3.7                350  \n",
              "106              Maruthi Nagar, BTM     4.0                350  \n",
              "110          Madiwala Junction, BTM     4.0                500  \n",
              "114                   Madiwala, BTM     4.1                600  "
            ],
            "text/html": [
              "\n",
              "  <div id=\"df-4f0e1edc-81fe-4db5-9d9b-10969232acca\">\n",
              "    <div class=\"colab-df-container\">\n",
              "      <div>\n",
              "<style scoped>\n",
              "    .dataframe tbody tr th:only-of-type {\n",
              "        vertical-align: middle;\n",
              "    }\n",
              "\n",
              "    .dataframe tbody tr th {\n",
              "        vertical-align: top;\n",
              "    }\n",
              "\n",
              "    .dataframe thead th {\n",
              "        text-align: right;\n",
              "    }\n",
              "</style>\n",
              "<table border=\"1\" class=\"dataframe\">\n",
              "  <thead>\n",
              "    <tr style=\"text-align: right;\">\n",
              "      <th></th>\n",
              "      <th>Shop_Name</th>\n",
              "      <th>Cuisine</th>\n",
              "      <th>Location</th>\n",
              "      <th>Rating</th>\n",
              "      <th>Cost_for_Two_In_₹</th>\n",
              "    </tr>\n",
              "  </thead>\n",
              "  <tbody>\n",
              "    <tr>\n",
              "      <th>6</th>\n",
              "      <td>99 VARIETY DOSA AND PAV BHAJI- Malli Mane Food...</td>\n",
              "      <td>Fast Food, North Indian, Chinese</td>\n",
              "      <td>BTM 2nd Stage, BTM</td>\n",
              "      <td>4.1</td>\n",
              "      <td>200</td>\n",
              "    </tr>\n",
              "    <tr>\n",
              "      <th>7</th>\n",
              "      <td>La Pino'z Pizza</td>\n",
              "      <td>Italian</td>\n",
              "      <td>BTM, BTM</td>\n",
              "      <td>3.9</td>\n",
              "      <td>500</td>\n",
              "    </tr>\n",
              "    <tr>\n",
              "      <th>10</th>\n",
              "      <td>Ambur Star Briyani</td>\n",
              "      <td>Chinese, South Indian, North Indian, Desserts,...</td>\n",
              "      <td>outer ring road, BTM</td>\n",
              "      <td>4.1</td>\n",
              "      <td>500</td>\n",
              "    </tr>\n",
              "    <tr>\n",
              "      <th>17</th>\n",
              "      <td>Sri Lakshmi Dhaba</td>\n",
              "      <td>North Indian</td>\n",
              "      <td>Bommanahalli, BTM</td>\n",
              "      <td>3.7</td>\n",
              "      <td>200</td>\n",
              "    </tr>\n",
              "    <tr>\n",
              "      <th>20</th>\n",
              "      <td>Just Bake - Cakes &amp; confectioners</td>\n",
              "      <td>Desserts, Bakery</td>\n",
              "      <td>BTM 1st stage, BTM</td>\n",
              "      <td>4.3</td>\n",
              "      <td>300</td>\n",
              "    </tr>\n",
              "    <tr>\n",
              "      <th>22</th>\n",
              "      <td>Hotel Godavari</td>\n",
              "      <td>North Indian, Chinese, Hyderabadi</td>\n",
              "      <td>Marutinagar Main Road, BTM</td>\n",
              "      <td>4.0</td>\n",
              "      <td>400</td>\n",
              "    </tr>\n",
              "    <tr>\n",
              "      <th>25</th>\n",
              "      <td>Swad Punjab da</td>\n",
              "      <td>Indian</td>\n",
              "      <td>BTM, BTM</td>\n",
              "      <td>4.1</td>\n",
              "      <td>250</td>\n",
              "    </tr>\n",
              "    <tr>\n",
              "      <th>27</th>\n",
              "      <td>High N Hungry</td>\n",
              "      <td>Andhra, Biryani, Chinese, Desserts, Fast Food,...</td>\n",
              "      <td>4th Cross, BTM</td>\n",
              "      <td>4.1</td>\n",
              "      <td>350</td>\n",
              "    </tr>\n",
              "    <tr>\n",
              "      <th>31</th>\n",
              "      <td>Bengali Fun Foods</td>\n",
              "      <td>North Indian</td>\n",
              "      <td>BTM 2nd stage, BTM</td>\n",
              "      <td>4.2</td>\n",
              "      <td>300</td>\n",
              "    </tr>\n",
              "    <tr>\n",
              "      <th>33</th>\n",
              "      <td>Oottupura</td>\n",
              "      <td>Kerala, South Indian</td>\n",
              "      <td>BTM, BTM</td>\n",
              "      <td>4.3</td>\n",
              "      <td>268</td>\n",
              "    </tr>\n",
              "    <tr>\n",
              "      <th>35</th>\n",
              "      <td>Hyderabadi Biryani Hub</td>\n",
              "      <td>North Indian, Chinese, Biryani</td>\n",
              "      <td>3rd main, BTM</td>\n",
              "      <td>3.9</td>\n",
              "      <td>450</td>\n",
              "    </tr>\n",
              "    <tr>\n",
              "      <th>40</th>\n",
              "      <td>Venu's Donne Biryani</td>\n",
              "      <td>Biryani</td>\n",
              "      <td>Chocolate Factory Road, BTM</td>\n",
              "      <td>4.3</td>\n",
              "      <td>300</td>\n",
              "    </tr>\n",
              "    <tr>\n",
              "      <th>42</th>\n",
              "      <td>Swadista Aahar</td>\n",
              "      <td>South Indian, Snacks, North Indian, Chinese</td>\n",
              "      <td>16th Main Road, 2nd Stage, BTM</td>\n",
              "      <td>4.1</td>\n",
              "      <td>250</td>\n",
              "    </tr>\n",
              "    <tr>\n",
              "      <th>44</th>\n",
              "      <td>Svadu Pure Ghee Sweets</td>\n",
              "      <td>Desserts, Fast Food, Sweets, Chaat</td>\n",
              "      <td>1st Stage, BTM</td>\n",
              "      <td>4.1</td>\n",
              "      <td>200</td>\n",
              "    </tr>\n",
              "    <tr>\n",
              "      <th>45</th>\n",
              "      <td>Sai Abhiruchi</td>\n",
              "      <td>Chinese, South Indian, Andhra, Hyderabadi</td>\n",
              "      <td>BTM, BTM</td>\n",
              "      <td>3.7</td>\n",
              "      <td>250</td>\n",
              "    </tr>\n",
              "    <tr>\n",
              "      <th>49</th>\n",
              "      <td>Balaji's Veg</td>\n",
              "      <td>North Indian, Chinese, South Indian</td>\n",
              "      <td>Mico Layout, BTM</td>\n",
              "      <td>4.1</td>\n",
              "      <td>300</td>\n",
              "    </tr>\n",
              "    <tr>\n",
              "      <th>51</th>\n",
              "      <td>Donne Biryani Mandi</td>\n",
              "      <td>Biryani, Andhra, South Indian</td>\n",
              "      <td>BTM, BTM</td>\n",
              "      <td>4.0</td>\n",
              "      <td>150</td>\n",
              "    </tr>\n",
              "    <tr>\n",
              "      <th>60</th>\n",
              "      <td>calicut cafe restaurant</td>\n",
              "      <td>Fast Food, Beverages</td>\n",
              "      <td>BTM, BTM</td>\n",
              "      <td>4.1</td>\n",
              "      <td>280</td>\n",
              "    </tr>\n",
              "    <tr>\n",
              "      <th>65</th>\n",
              "      <td>World of asia</td>\n",
              "      <td>Beverages, Chinese</td>\n",
              "      <td>BTM, BTM</td>\n",
              "      <td>4.0</td>\n",
              "      <td>250</td>\n",
              "    </tr>\n",
              "    <tr>\n",
              "      <th>66</th>\n",
              "      <td>Ghar Ka Khana</td>\n",
              "      <td>North Indian</td>\n",
              "      <td>BTM, BTM</td>\n",
              "      <td>4.2</td>\n",
              "      <td>220</td>\n",
              "    </tr>\n",
              "    <tr>\n",
              "      <th>68</th>\n",
              "      <td>KANNUR FOOD POINT</td>\n",
              "      <td>Kerala, Chinese</td>\n",
              "      <td>SG palaya, BTM</td>\n",
              "      <td>3.9</td>\n",
              "      <td>300</td>\n",
              "    </tr>\n",
              "    <tr>\n",
              "      <th>69</th>\n",
              "      <td>KANNOOR RESTAURANT</td>\n",
              "      <td>North Indian, Chinese</td>\n",
              "      <td>BTM, BTM</td>\n",
              "      <td>4.0</td>\n",
              "      <td>250</td>\n",
              "    </tr>\n",
              "    <tr>\n",
              "      <th>70</th>\n",
              "      <td>Fattoush</td>\n",
              "      <td>Arabian, Beverages, Biryani, Chinese, Desserts...</td>\n",
              "      <td>BTM, BTM</td>\n",
              "      <td>3.9</td>\n",
              "      <td>400</td>\n",
              "    </tr>\n",
              "    <tr>\n",
              "      <th>76</th>\n",
              "      <td>BIRIYANI TASTE MASTH(BTM)</td>\n",
              "      <td>North Indian, South Indian</td>\n",
              "      <td>Btm, BTM</td>\n",
              "      <td>4.2</td>\n",
              "      <td>300</td>\n",
              "    </tr>\n",
              "    <tr>\n",
              "      <th>79</th>\n",
              "      <td>Tandoori Merchant</td>\n",
              "      <td>Andhra, Biryani, Chinese, Desserts, Fast Food,...</td>\n",
              "      <td>4th Cross, BTM</td>\n",
              "      <td>4.2</td>\n",
              "      <td>100</td>\n",
              "    </tr>\n",
              "    <tr>\n",
              "      <th>80</th>\n",
              "      <td>Chinese Bae</td>\n",
              "      <td>Chinese, Thai</td>\n",
              "      <td>BTM, BTM</td>\n",
              "      <td>4.5</td>\n",
              "      <td>450</td>\n",
              "    </tr>\n",
              "    <tr>\n",
              "      <th>83</th>\n",
              "      <td>Abhiruchi Hotel</td>\n",
              "      <td>Chinese, Hyderabadi, Biryani, Indian, South In...</td>\n",
              "      <td>BTM, BTM</td>\n",
              "      <td>4.0</td>\n",
              "      <td>250</td>\n",
              "    </tr>\n",
              "    <tr>\n",
              "      <th>84</th>\n",
              "      <td>Punjabi Swag</td>\n",
              "      <td>Punjabi, North Indian, Chinese, Fast Food, Hea...</td>\n",
              "      <td>16th Main Road, BTM</td>\n",
              "      <td>3.7</td>\n",
              "      <td>400</td>\n",
              "    </tr>\n",
              "    <tr>\n",
              "      <th>86</th>\n",
              "      <td>Gyaani Da Punjabi Dhaba</td>\n",
              "      <td>North Indian</td>\n",
              "      <td>2nd Stage, BTM</td>\n",
              "      <td>4.0</td>\n",
              "      <td>500</td>\n",
              "    </tr>\n",
              "    <tr>\n",
              "      <th>87</th>\n",
              "      <td>Biriyani Bhatti</td>\n",
              "      <td>Biryani, Hyderabadi, Andhra, North Indian, Sou...</td>\n",
              "      <td>Kuvempu Nagar, Stage 2, BTM</td>\n",
              "      <td>4.1</td>\n",
              "      <td>350</td>\n",
              "    </tr>\n",
              "    <tr>\n",
              "      <th>92</th>\n",
              "      <td>BIRYANI CRAFTS</td>\n",
              "      <td>Indian</td>\n",
              "      <td>BTM, BTM</td>\n",
              "      <td>4.1</td>\n",
              "      <td>500</td>\n",
              "    </tr>\n",
              "    <tr>\n",
              "      <th>104</th>\n",
              "      <td>R.B Food Point</td>\n",
              "      <td>Chinese, North Indian</td>\n",
              "      <td>Jay Bheema Nagar, BTM</td>\n",
              "      <td>3.7</td>\n",
              "      <td>350</td>\n",
              "    </tr>\n",
              "    <tr>\n",
              "      <th>106</th>\n",
              "      <td>New Tasty Cafeteria</td>\n",
              "      <td>Andhra, Chettinad, Chinese, Mughlai, North Indian</td>\n",
              "      <td>Maruthi Nagar, BTM</td>\n",
              "      <td>4.0</td>\n",
              "      <td>350</td>\n",
              "    </tr>\n",
              "    <tr>\n",
              "      <th>110</th>\n",
              "      <td>Biryani Pot</td>\n",
              "      <td>North Indian, Biryani</td>\n",
              "      <td>Madiwala Junction, BTM</td>\n",
              "      <td>4.0</td>\n",
              "      <td>500</td>\n",
              "    </tr>\n",
              "    <tr>\n",
              "      <th>114</th>\n",
              "      <td>Savoury Restaurant</td>\n",
              "      <td>Arabian, Middle Eastern, North Indian, Grill, ...</td>\n",
              "      <td>Madiwala, BTM</td>\n",
              "      <td>4.1</td>\n",
              "      <td>600</td>\n",
              "    </tr>\n",
              "  </tbody>\n",
              "</table>\n",
              "</div>\n",
              "      <button class=\"colab-df-convert\" onclick=\"convertToInteractive('df-4f0e1edc-81fe-4db5-9d9b-10969232acca')\"\n",
              "              title=\"Convert this dataframe to an interactive table.\"\n",
              "              style=\"display:none;\">\n",
              "        \n",
              "  <svg xmlns=\"http://www.w3.org/2000/svg\" height=\"24px\"viewBox=\"0 0 24 24\"\n",
              "       width=\"24px\">\n",
              "    <path d=\"M0 0h24v24H0V0z\" fill=\"none\"/>\n",
              "    <path d=\"M18.56 5.44l.94 2.06.94-2.06 2.06-.94-2.06-.94-.94-2.06-.94 2.06-2.06.94zm-11 1L8.5 8.5l.94-2.06 2.06-.94-2.06-.94L8.5 2.5l-.94 2.06-2.06.94zm10 10l.94 2.06.94-2.06 2.06-.94-2.06-.94-.94-2.06-.94 2.06-2.06.94z\"/><path d=\"M17.41 7.96l-1.37-1.37c-.4-.4-.92-.59-1.43-.59-.52 0-1.04.2-1.43.59L10.3 9.45l-7.72 7.72c-.78.78-.78 2.05 0 2.83L4 21.41c.39.39.9.59 1.41.59.51 0 1.02-.2 1.41-.59l7.78-7.78 2.81-2.81c.8-.78.8-2.07 0-2.86zM5.41 20L4 18.59l7.72-7.72 1.47 1.35L5.41 20z\"/>\n",
              "  </svg>\n",
              "      </button>\n",
              "      \n",
              "  <style>\n",
              "    .colab-df-container {\n",
              "      display:flex;\n",
              "      flex-wrap:wrap;\n",
              "      gap: 12px;\n",
              "    }\n",
              "\n",
              "    .colab-df-convert {\n",
              "      background-color: #E8F0FE;\n",
              "      border: none;\n",
              "      border-radius: 50%;\n",
              "      cursor: pointer;\n",
              "      display: none;\n",
              "      fill: #1967D2;\n",
              "      height: 32px;\n",
              "      padding: 0 0 0 0;\n",
              "      width: 32px;\n",
              "    }\n",
              "\n",
              "    .colab-df-convert:hover {\n",
              "      background-color: #E2EBFA;\n",
              "      box-shadow: 0px 1px 2px rgba(60, 64, 67, 0.3), 0px 1px 3px 1px rgba(60, 64, 67, 0.15);\n",
              "      fill: #174EA6;\n",
              "    }\n",
              "\n",
              "    [theme=dark] .colab-df-convert {\n",
              "      background-color: #3B4455;\n",
              "      fill: #D2E3FC;\n",
              "    }\n",
              "\n",
              "    [theme=dark] .colab-df-convert:hover {\n",
              "      background-color: #434B5C;\n",
              "      box-shadow: 0px 1px 3px 1px rgba(0, 0, 0, 0.15);\n",
              "      filter: drop-shadow(0px 1px 2px rgba(0, 0, 0, 0.3));\n",
              "      fill: #FFFFFF;\n",
              "    }\n",
              "  </style>\n",
              "\n",
              "      <script>\n",
              "        const buttonEl =\n",
              "          document.querySelector('#df-4f0e1edc-81fe-4db5-9d9b-10969232acca button.colab-df-convert');\n",
              "        buttonEl.style.display =\n",
              "          google.colab.kernel.accessAllowed ? 'block' : 'none';\n",
              "\n",
              "        async function convertToInteractive(key) {\n",
              "          const element = document.querySelector('#df-4f0e1edc-81fe-4db5-9d9b-10969232acca');\n",
              "          const dataTable =\n",
              "            await google.colab.kernel.invokeFunction('convertToInteractive',\n",
              "                                                     [key], {});\n",
              "          if (!dataTable) return;\n",
              "\n",
              "          const docLinkHtml = 'Like what you see? Visit the ' +\n",
              "            '<a target=\"_blank\" href=https://colab.research.google.com/notebooks/data_table.ipynb>data table notebook</a>'\n",
              "            + ' to learn more about interactive tables.';\n",
              "          element.innerHTML = '';\n",
              "          dataTable['output_type'] = 'display_data';\n",
              "          await google.colab.output.renderOutput(dataTable, element);\n",
              "          const docLink = document.createElement('div');\n",
              "          docLink.innerHTML = docLinkHtml;\n",
              "          element.appendChild(docLink);\n",
              "        }\n",
              "      </script>\n",
              "    </div>\n",
              "  </div>\n",
              "  "
            ]
          },
          "metadata": {},
          "execution_count": 42
        }
      ]
    },
    {
      "cell_type": "code",
      "source": [
        "df_HSR=dataset[dataset['Location'].str.contains(r'HSR')]\n",
        "df_HSR\n",
        "#Getting rows with location containing string 'HSR'"
      ],
      "metadata": {
        "colab": {
          "base_uri": "https://localhost:8080/",
          "height": 613
        },
        "id": "jnsWG4UaIwNh",
        "outputId": "763b5464-beb2-4c03-ebe6-bab1798c854c"
      },
      "execution_count": 43,
      "outputs": [
        {
          "output_type": "execute_result",
          "data": {
            "text/plain": [
              "                          Shop_Name  \\\n",
              "1                     Mumbai Tiffin   \n",
              "3                           Al Daaz   \n",
              "8                        Hotel Manu   \n",
              "19              Shree Khana Khazana   \n",
              "24                  New Udupi Grand   \n",
              "36                    Biriyani Zone   \n",
              "37                        Gongura's   \n",
              "39                       Leon Grill   \n",
              "41                         Cakewala   \n",
              "57             Donne Biriyani House   \n",
              "58                          Nanda's   \n",
              "61                      Cake Garden   \n",
              "71                   Nizams Biryani   \n",
              "73                    Punjabi Rasoi   \n",
              "98      Mandya Gowdru Donne Biryani   \n",
              "99   Dindigul Thalapakatti Biriyani   \n",
              "101                      Easy Bites   \n",
              "107                 Junior Kuppanna   \n",
              "\n",
              "                                               Cuisine  \\\n",
              "1               North Indian, Home Food, Thalis, Combo   \n",
              "3    American, Arabian, Chinese, Desserts, Fast Foo...   \n",
              "8          South Indian, Kerala, Chinese, North Indian   \n",
              "19                                  Indian, Rajasthani   \n",
              "24           Chinese, Jain, North Indian, South Indian   \n",
              "36                      North Indian, Chinese, Biryani   \n",
              "37                      North Indian, Chinese, Biryani   \n",
              "39                       Turkish, Portuguese, American   \n",
              "41                                            Desserts   \n",
              "57                                        South Indian   \n",
              "58                                     Andhra, Biryani   \n",
              "61                                    Desserts, Bakery   \n",
              "71                             Biryani, Juices, Kebabs   \n",
              "73                                        North Indian   \n",
              "98                                             Biryani   \n",
              "99                                        North Indian   \n",
              "101                                   Snacks, American   \n",
              "107                            Chettinad, South Indian   \n",
              "\n",
              "                                              Location  Rating  \\\n",
              "1                                        Sector 5, HSR     4.4   \n",
              "3                                             HSR, HSR     4.4   \n",
              "8                                             HSR, HSR     4.1   \n",
              "19                                       Sector 4, HSR     4.1   \n",
              "24                                            HSR, HSR     4.3   \n",
              "36                                 HSR 1st sector, HSR     4.1   \n",
              "37                                       Sector 7, HSR     3.8   \n",
              "39                                     3rd Sector, HSR     4.3   \n",
              "41                                            HSR, HSR     4.3   \n",
              "57                                     3rd sector, HSR     4.0   \n",
              "58                                            HSR, HSR     4.0   \n",
              "61                                            HSR, HSR     3.9   \n",
              "71   Venkatapura Main Rd, Teacher's Colony, Jakkasa...     3.6   \n",
              "73                                       Sector 3, HSR     4.0   \n",
              "98                                            HSR, HSR     0.0   \n",
              "99                                            HSR, HSR     4.1   \n",
              "101             9th Main Rd, Sector 6, HSR Layout, HSR     3.8   \n",
              "107                                      Sector 6, HSR     4.0   \n",
              "\n",
              "     Cost_for_Two_In_₹  \n",
              "1                  400  \n",
              "3                  400  \n",
              "8                  350  \n",
              "19                 350  \n",
              "24                 150  \n",
              "36                 600  \n",
              "37                 300  \n",
              "39                 300  \n",
              "41                 450  \n",
              "57                 300  \n",
              "58                 400  \n",
              "61                 250  \n",
              "71                 200  \n",
              "73                 800  \n",
              "98                 350  \n",
              "99                 650  \n",
              "101                200  \n",
              "107                550  "
            ],
            "text/html": [
              "\n",
              "  <div id=\"df-61b8f0a4-b1dc-47e2-b24c-13c5d6526415\">\n",
              "    <div class=\"colab-df-container\">\n",
              "      <div>\n",
              "<style scoped>\n",
              "    .dataframe tbody tr th:only-of-type {\n",
              "        vertical-align: middle;\n",
              "    }\n",
              "\n",
              "    .dataframe tbody tr th {\n",
              "        vertical-align: top;\n",
              "    }\n",
              "\n",
              "    .dataframe thead th {\n",
              "        text-align: right;\n",
              "    }\n",
              "</style>\n",
              "<table border=\"1\" class=\"dataframe\">\n",
              "  <thead>\n",
              "    <tr style=\"text-align: right;\">\n",
              "      <th></th>\n",
              "      <th>Shop_Name</th>\n",
              "      <th>Cuisine</th>\n",
              "      <th>Location</th>\n",
              "      <th>Rating</th>\n",
              "      <th>Cost_for_Two_In_₹</th>\n",
              "    </tr>\n",
              "  </thead>\n",
              "  <tbody>\n",
              "    <tr>\n",
              "      <th>1</th>\n",
              "      <td>Mumbai Tiffin</td>\n",
              "      <td>North Indian, Home Food, Thalis, Combo</td>\n",
              "      <td>Sector 5, HSR</td>\n",
              "      <td>4.4</td>\n",
              "      <td>400</td>\n",
              "    </tr>\n",
              "    <tr>\n",
              "      <th>3</th>\n",
              "      <td>Al Daaz</td>\n",
              "      <td>American, Arabian, Chinese, Desserts, Fast Foo...</td>\n",
              "      <td>HSR, HSR</td>\n",
              "      <td>4.4</td>\n",
              "      <td>400</td>\n",
              "    </tr>\n",
              "    <tr>\n",
              "      <th>8</th>\n",
              "      <td>Hotel Manu</td>\n",
              "      <td>South Indian, Kerala, Chinese, North Indian</td>\n",
              "      <td>HSR, HSR</td>\n",
              "      <td>4.1</td>\n",
              "      <td>350</td>\n",
              "    </tr>\n",
              "    <tr>\n",
              "      <th>19</th>\n",
              "      <td>Shree Khana Khazana</td>\n",
              "      <td>Indian, Rajasthani</td>\n",
              "      <td>Sector 4, HSR</td>\n",
              "      <td>4.1</td>\n",
              "      <td>350</td>\n",
              "    </tr>\n",
              "    <tr>\n",
              "      <th>24</th>\n",
              "      <td>New Udupi Grand</td>\n",
              "      <td>Chinese, Jain, North Indian, South Indian</td>\n",
              "      <td>HSR, HSR</td>\n",
              "      <td>4.3</td>\n",
              "      <td>150</td>\n",
              "    </tr>\n",
              "    <tr>\n",
              "      <th>36</th>\n",
              "      <td>Biriyani Zone</td>\n",
              "      <td>North Indian, Chinese, Biryani</td>\n",
              "      <td>HSR 1st sector, HSR</td>\n",
              "      <td>4.1</td>\n",
              "      <td>600</td>\n",
              "    </tr>\n",
              "    <tr>\n",
              "      <th>37</th>\n",
              "      <td>Gongura's</td>\n",
              "      <td>North Indian, Chinese, Biryani</td>\n",
              "      <td>Sector 7, HSR</td>\n",
              "      <td>3.8</td>\n",
              "      <td>300</td>\n",
              "    </tr>\n",
              "    <tr>\n",
              "      <th>39</th>\n",
              "      <td>Leon Grill</td>\n",
              "      <td>Turkish, Portuguese, American</td>\n",
              "      <td>3rd Sector, HSR</td>\n",
              "      <td>4.3</td>\n",
              "      <td>300</td>\n",
              "    </tr>\n",
              "    <tr>\n",
              "      <th>41</th>\n",
              "      <td>Cakewala</td>\n",
              "      <td>Desserts</td>\n",
              "      <td>HSR, HSR</td>\n",
              "      <td>4.3</td>\n",
              "      <td>450</td>\n",
              "    </tr>\n",
              "    <tr>\n",
              "      <th>57</th>\n",
              "      <td>Donne Biriyani House</td>\n",
              "      <td>South Indian</td>\n",
              "      <td>3rd sector, HSR</td>\n",
              "      <td>4.0</td>\n",
              "      <td>300</td>\n",
              "    </tr>\n",
              "    <tr>\n",
              "      <th>58</th>\n",
              "      <td>Nanda's</td>\n",
              "      <td>Andhra, Biryani</td>\n",
              "      <td>HSR, HSR</td>\n",
              "      <td>4.0</td>\n",
              "      <td>400</td>\n",
              "    </tr>\n",
              "    <tr>\n",
              "      <th>61</th>\n",
              "      <td>Cake Garden</td>\n",
              "      <td>Desserts, Bakery</td>\n",
              "      <td>HSR, HSR</td>\n",
              "      <td>3.9</td>\n",
              "      <td>250</td>\n",
              "    </tr>\n",
              "    <tr>\n",
              "      <th>71</th>\n",
              "      <td>Nizams Biryani</td>\n",
              "      <td>Biryani, Juices, Kebabs</td>\n",
              "      <td>Venkatapura Main Rd, Teacher's Colony, Jakkasa...</td>\n",
              "      <td>3.6</td>\n",
              "      <td>200</td>\n",
              "    </tr>\n",
              "    <tr>\n",
              "      <th>73</th>\n",
              "      <td>Punjabi Rasoi</td>\n",
              "      <td>North Indian</td>\n",
              "      <td>Sector 3, HSR</td>\n",
              "      <td>4.0</td>\n",
              "      <td>800</td>\n",
              "    </tr>\n",
              "    <tr>\n",
              "      <th>98</th>\n",
              "      <td>Mandya Gowdru Donne Biryani</td>\n",
              "      <td>Biryani</td>\n",
              "      <td>HSR, HSR</td>\n",
              "      <td>0.0</td>\n",
              "      <td>350</td>\n",
              "    </tr>\n",
              "    <tr>\n",
              "      <th>99</th>\n",
              "      <td>Dindigul Thalapakatti Biriyani</td>\n",
              "      <td>North Indian</td>\n",
              "      <td>HSR, HSR</td>\n",
              "      <td>4.1</td>\n",
              "      <td>650</td>\n",
              "    </tr>\n",
              "    <tr>\n",
              "      <th>101</th>\n",
              "      <td>Easy Bites</td>\n",
              "      <td>Snacks, American</td>\n",
              "      <td>9th Main Rd, Sector 6, HSR Layout, HSR</td>\n",
              "      <td>3.8</td>\n",
              "      <td>200</td>\n",
              "    </tr>\n",
              "    <tr>\n",
              "      <th>107</th>\n",
              "      <td>Junior Kuppanna</td>\n",
              "      <td>Chettinad, South Indian</td>\n",
              "      <td>Sector 6, HSR</td>\n",
              "      <td>4.0</td>\n",
              "      <td>550</td>\n",
              "    </tr>\n",
              "  </tbody>\n",
              "</table>\n",
              "</div>\n",
              "      <button class=\"colab-df-convert\" onclick=\"convertToInteractive('df-61b8f0a4-b1dc-47e2-b24c-13c5d6526415')\"\n",
              "              title=\"Convert this dataframe to an interactive table.\"\n",
              "              style=\"display:none;\">\n",
              "        \n",
              "  <svg xmlns=\"http://www.w3.org/2000/svg\" height=\"24px\"viewBox=\"0 0 24 24\"\n",
              "       width=\"24px\">\n",
              "    <path d=\"M0 0h24v24H0V0z\" fill=\"none\"/>\n",
              "    <path d=\"M18.56 5.44l.94 2.06.94-2.06 2.06-.94-2.06-.94-.94-2.06-.94 2.06-2.06.94zm-11 1L8.5 8.5l.94-2.06 2.06-.94-2.06-.94L8.5 2.5l-.94 2.06-2.06.94zm10 10l.94 2.06.94-2.06 2.06-.94-2.06-.94-.94-2.06-.94 2.06-2.06.94z\"/><path d=\"M17.41 7.96l-1.37-1.37c-.4-.4-.92-.59-1.43-.59-.52 0-1.04.2-1.43.59L10.3 9.45l-7.72 7.72c-.78.78-.78 2.05 0 2.83L4 21.41c.39.39.9.59 1.41.59.51 0 1.02-.2 1.41-.59l7.78-7.78 2.81-2.81c.8-.78.8-2.07 0-2.86zM5.41 20L4 18.59l7.72-7.72 1.47 1.35L5.41 20z\"/>\n",
              "  </svg>\n",
              "      </button>\n",
              "      \n",
              "  <style>\n",
              "    .colab-df-container {\n",
              "      display:flex;\n",
              "      flex-wrap:wrap;\n",
              "      gap: 12px;\n",
              "    }\n",
              "\n",
              "    .colab-df-convert {\n",
              "      background-color: #E8F0FE;\n",
              "      border: none;\n",
              "      border-radius: 50%;\n",
              "      cursor: pointer;\n",
              "      display: none;\n",
              "      fill: #1967D2;\n",
              "      height: 32px;\n",
              "      padding: 0 0 0 0;\n",
              "      width: 32px;\n",
              "    }\n",
              "\n",
              "    .colab-df-convert:hover {\n",
              "      background-color: #E2EBFA;\n",
              "      box-shadow: 0px 1px 2px rgba(60, 64, 67, 0.3), 0px 1px 3px 1px rgba(60, 64, 67, 0.15);\n",
              "      fill: #174EA6;\n",
              "    }\n",
              "\n",
              "    [theme=dark] .colab-df-convert {\n",
              "      background-color: #3B4455;\n",
              "      fill: #D2E3FC;\n",
              "    }\n",
              "\n",
              "    [theme=dark] .colab-df-convert:hover {\n",
              "      background-color: #434B5C;\n",
              "      box-shadow: 0px 1px 3px 1px rgba(0, 0, 0, 0.15);\n",
              "      filter: drop-shadow(0px 1px 2px rgba(0, 0, 0, 0.3));\n",
              "      fill: #FFFFFF;\n",
              "    }\n",
              "  </style>\n",
              "\n",
              "      <script>\n",
              "        const buttonEl =\n",
              "          document.querySelector('#df-61b8f0a4-b1dc-47e2-b24c-13c5d6526415 button.colab-df-convert');\n",
              "        buttonEl.style.display =\n",
              "          google.colab.kernel.accessAllowed ? 'block' : 'none';\n",
              "\n",
              "        async function convertToInteractive(key) {\n",
              "          const element = document.querySelector('#df-61b8f0a4-b1dc-47e2-b24c-13c5d6526415');\n",
              "          const dataTable =\n",
              "            await google.colab.kernel.invokeFunction('convertToInteractive',\n",
              "                                                     [key], {});\n",
              "          if (!dataTable) return;\n",
              "\n",
              "          const docLinkHtml = 'Like what you see? Visit the ' +\n",
              "            '<a target=\"_blank\" href=https://colab.research.google.com/notebooks/data_table.ipynb>data table notebook</a>'\n",
              "            + ' to learn more about interactive tables.';\n",
              "          element.innerHTML = '';\n",
              "          dataTable['output_type'] = 'display_data';\n",
              "          await google.colab.output.renderOutput(dataTable, element);\n",
              "          const docLink = document.createElement('div');\n",
              "          docLink.innerHTML = docLinkHtml;\n",
              "          element.appendChild(docLink);\n",
              "        }\n",
              "      </script>\n",
              "    </div>\n",
              "  </div>\n",
              "  "
            ]
          },
          "metadata": {},
          "execution_count": 43
        }
      ]
    },
    {
      "cell_type": "code",
      "source": [
        "dataset['Location'].nunique()"
      ],
      "metadata": {
        "colab": {
          "base_uri": "https://localhost:8080/"
        },
        "id": "dJUGAme9JOB7",
        "outputId": "648fdf20-eaa3-4cae-9160-f6bded743120"
      },
      "execution_count": 44,
      "outputs": [
        {
          "output_type": "execute_result",
          "data": {
            "text/plain": [
              "65"
            ]
          },
          "metadata": {},
          "execution_count": 44
        }
      ]
    },
    {
      "cell_type": "code",
      "source": [
        "df_Koramangala.shape"
      ],
      "metadata": {
        "colab": {
          "base_uri": "https://localhost:8080/"
        },
        "id": "FFuE_ykqJ6bP",
        "outputId": "33f277a1-8e0b-4347-d413-4262c8f16d3d"
      },
      "execution_count": 45,
      "outputs": [
        {
          "output_type": "execute_result",
          "data": {
            "text/plain": [
              "(64, 5)"
            ]
          },
          "metadata": {},
          "execution_count": 45
        }
      ]
    },
    {
      "cell_type": "code",
      "source": [
        "df_BTM.shape"
      ],
      "metadata": {
        "colab": {
          "base_uri": "https://localhost:8080/"
        },
        "id": "LVy9kIbrJ8uA",
        "outputId": "d376a7a2-2a12-4cd7-d12c-4595b829deb0"
      },
      "execution_count": 46,
      "outputs": [
        {
          "output_type": "execute_result",
          "data": {
            "text/plain": [
              "(35, 5)"
            ]
          },
          "metadata": {},
          "execution_count": 46
        }
      ]
    },
    {
      "cell_type": "code",
      "source": [
        "df_HSR.shape"
      ],
      "metadata": {
        "colab": {
          "base_uri": "https://localhost:8080/"
        },
        "id": "OpZI1BKlJ-wk",
        "outputId": "254823ec-3214-4e73-8d52-f080c6c75d0d"
      },
      "execution_count": 47,
      "outputs": [
        {
          "output_type": "execute_result",
          "data": {
            "text/plain": [
              "(18, 5)"
            ]
          },
          "metadata": {},
          "execution_count": 47
        }
      ]
    },
    {
      "cell_type": "code",
      "source": [
        "64+35+18"
      ],
      "metadata": {
        "colab": {
          "base_uri": "https://localhost:8080/"
        },
        "id": "CWVFYo18KDI5",
        "outputId": "7c1302d5-89e5-4c2f-80ad-80a07f4d0310"
      },
      "execution_count": 48,
      "outputs": [
        {
          "output_type": "execute_result",
          "data": {
            "text/plain": [
              "117"
            ]
          },
          "metadata": {},
          "execution_count": 48
        }
      ]
    },
    {
      "cell_type": "code",
      "source": [
        "#So we can see Restaurants are divided or located into 3 locations."
      ],
      "metadata": {
        "id": "e_6L0KD5KJWh"
      },
      "execution_count": 49,
      "outputs": []
    },
    {
      "cell_type": "code",
      "source": [
        "#Plotting graphs for different locations.\n",
        "#HSR Area\n",
        "sns.countplot(df_HSR['Rating'])"
      ],
      "metadata": {
        "colab": {
          "base_uri": "https://localhost:8080/",
          "height": 354
        },
        "id": "Zrnf3zHVLgrJ",
        "outputId": "fe99b445-02a9-4d0e-d90e-9ea4fc9dc138"
      },
      "execution_count": 50,
      "outputs": [
        {
          "output_type": "stream",
          "name": "stderr",
          "text": [
            "/usr/local/lib/python3.8/dist-packages/seaborn/_decorators.py:36: FutureWarning: Pass the following variable as a keyword arg: x. From version 0.12, the only valid positional argument will be `data`, and passing other arguments without an explicit keyword will result in an error or misinterpretation.\n",
            "  warnings.warn(\n"
          ]
        },
        {
          "output_type": "execute_result",
          "data": {
            "text/plain": [
              "<matplotlib.axes._subplots.AxesSubplot at 0x7fcbb22311f0>"
            ]
          },
          "metadata": {},
          "execution_count": 50
        },
        {
          "output_type": "display_data",
          "data": {
            "text/plain": [
              "<Figure size 432x288 with 1 Axes>"
            ],
            "image/png": "[encoded data removed]"
          },
          "metadata": {
            "needs_background": "light"
          }
        }
      ]
    },
    {
      "cell_type": "code",
      "source": [
        "sns.histplot(df_HSR['Rating'],bins=20)"
      ],
      "metadata": {
        "colab": {
          "base_uri": "https://localhost:8080/",
          "height": 297
        },
        "id": "GXHc7TYBPZNB",
        "outputId": "b5f67b9d-60dd-448a-822f-46e59ed8a3b8"
      },
      "execution_count": 51,
      "outputs": [
        {
          "output_type": "execute_result",
          "data": {
            "text/plain": [
              "<matplotlib.axes._subplots.AxesSubplot at 0x7fcbb2199700>"
            ]
          },
          "metadata": {},
          "execution_count": 51
        },
        {
          "output_type": "display_data",
          "data": {
            "text/plain": [
              "<Figure size 432x288 with 1 Axes>"
            ],
            "image/png": "[encoded data removed]"
          },
          "metadata": {
            "needs_background": "light"
          }
        }
      ]
    },
    {
      "cell_type": "code",
      "source": [
        "sns.histplot(df_HSR['Cost_for_Two_In_₹'],bins=10)"
      ],
      "metadata": {
        "colab": {
          "base_uri": "https://localhost:8080/",
          "height": 298
        },
        "id": "BKjef5NDMiHO",
        "outputId": "3c667002-e50a-4e96-985e-04bea5a6ff33"
      },
      "execution_count": 52,
      "outputs": [
        {
          "output_type": "execute_result",
          "data": {
            "text/plain": [
              "<matplotlib.axes._subplots.AxesSubplot at 0x7fcbb212ba60>"
            ]
          },
          "metadata": {},
          "execution_count": 52
        },
        {
          "output_type": "display_data",
          "data": {
            "text/plain": [
              "<Figure size 432x288 with 1 Axes>"
            ],
            "image/png": "[encoded data removed]"
          },
          "metadata": {
            "needs_background": "light"
          }
        }
      ]
    },
    {
      "cell_type": "code",
      "source": [
        "#From the histogram and countplots above we find that most places in HSR location\n",
        "#rating of 4 or more. Cost for 2 people lies between 200 to 400.\n",
        "#Maximum cost is nearly upto 800."
      ],
      "metadata": {
        "id": "gBYtmDv9PUJh"
      },
      "execution_count": 53,
      "outputs": []
    },
    {
      "cell_type": "code",
      "source": [
        "#BTM Area\n",
        "sns.countplot(df_BTM['Rating'])"
      ],
      "metadata": {
        "colab": {
          "base_uri": "https://localhost:8080/",
          "height": 354
        },
        "id": "EgE09H1rNDD9",
        "outputId": "b9d81f9b-7062-4531-bd3d-61d5e6ec79d2"
      },
      "execution_count": 54,
      "outputs": [
        {
          "output_type": "stream",
          "name": "stderr",
          "text": [
            "/usr/local/lib/python3.8/dist-packages/seaborn/_decorators.py:36: FutureWarning: Pass the following variable as a keyword arg: x. From version 0.12, the only valid positional argument will be `data`, and passing other arguments without an explicit keyword will result in an error or misinterpretation.\n",
            "  warnings.warn(\n"
          ]
        },
        {
          "output_type": "execute_result",
          "data": {
            "text/plain": [
              "<matplotlib.axes._subplots.AxesSubplot at 0x7fcbb20dfa30>"
            ]
          },
          "metadata": {},
          "execution_count": 54
        },
        {
          "output_type": "display_data",
          "data": {
            "text/plain": [
              "<Figure size 432x288 with 1 Axes>"
            ],
            "image/png": "[encoded data removed]"
          },
          "metadata": {
            "needs_background": "light"
          }
        }
      ]
    },
    {
      "cell_type": "code",
      "source": [
        "sns.histplot(df_BTM['Rating'],bins=10)"
      ],
      "metadata": {
        "colab": {
          "base_uri": "https://localhost:8080/",
          "height": 297
        },
        "id": "jv6ZCypCNWrz",
        "outputId": "1c0238cd-8d2d-4347-d1cc-18f3e4b8b328"
      },
      "execution_count": 55,
      "outputs": [
        {
          "output_type": "execute_result",
          "data": {
            "text/plain": [
              "<matplotlib.axes._subplots.AxesSubplot at 0x7fcbb2081820>"
            ]
          },
          "metadata": {},
          "execution_count": 55
        },
        {
          "output_type": "display_data",
          "data": {
            "text/plain": [
              "<Figure size 432x288 with 1 Axes>"
            ],
            "image/png": "[encoded data removed]"
          },
          "metadata": {
            "needs_background": "light"
          }
        }
      ]
    },
    {
      "cell_type": "code",
      "source": [
        "sns.histplot(df_BTM['Cost_for_Two_In_₹'],bins=15)"
      ],
      "metadata": {
        "colab": {
          "base_uri": "https://localhost:8080/",
          "height": 298
        },
        "id": "gQVWe8u-Nmsx",
        "outputId": "80f1d632-6f33-4d23-cff0-11846d168e3f"
      },
      "execution_count": 56,
      "outputs": [
        {
          "output_type": "execute_result",
          "data": {
            "text/plain": [
              "<matplotlib.axes._subplots.AxesSubplot at 0x7fcbb1ffaeb0>"
            ]
          },
          "metadata": {},
          "execution_count": 56
        },
        {
          "output_type": "display_data",
          "data": {
            "text/plain": [
              "<Figure size 432x288 with 1 Axes>"
            ],
            "image/png": "[encoded data removed]"
          },
          "metadata": {
            "needs_background": "light"
          }
        }
      ]
    },
    {
      "cell_type": "code",
      "source": [
        "#Most places in the BTM location have rating from 4.0 to 4.2 and approximate cost for\n",
        "#2 people between 200 to 400.\n",
        "#Maximum cost is upto 600."
      ],
      "metadata": {
        "id": "2PFkDPrCQsWu"
      },
      "execution_count": 57,
      "outputs": []
    },
    {
      "cell_type": "code",
      "source": [
        "#Koramangala Area\n",
        "sns.countplot(df_Koramangala['Rating'])"
      ],
      "metadata": {
        "colab": {
          "base_uri": "https://localhost:8080/",
          "height": 354
        },
        "id": "FJfVl0j8N4Jm",
        "outputId": "e7b37d9c-33a2-42da-9ac4-8606afae268d"
      },
      "execution_count": 58,
      "outputs": [
        {
          "output_type": "stream",
          "name": "stderr",
          "text": [
            "/usr/local/lib/python3.8/dist-packages/seaborn/_decorators.py:36: FutureWarning: Pass the following variable as a keyword arg: x. From version 0.12, the only valid positional argument will be `data`, and passing other arguments without an explicit keyword will result in an error or misinterpretation.\n",
            "  warnings.warn(\n"
          ]
        },
        {
          "output_type": "execute_result",
          "data": {
            "text/plain": [
              "<matplotlib.axes._subplots.AxesSubplot at 0x7fcbb1f76e50>"
            ]
          },
          "metadata": {},
          "execution_count": 58
        },
        {
          "output_type": "display_data",
          "data": {
            "text/plain": [
              "<Figure size 432x288 with 1 Axes>"
            ],
            "image/png": "[encoded data removed]"
          },
          "metadata": {
            "needs_background": "light"
          }
        }
      ]
    },
    {
      "cell_type": "code",
      "source": [
        "sns.histplot(df_Koramangala['Rating'],bins=10)"
      ],
      "metadata": {
        "colab": {
          "base_uri": "https://localhost:8080/",
          "height": 297
        },
        "id": "J-7evHFeOGXb",
        "outputId": "139ac2ec-dbd4-4a57-f310-0e55dd42b238"
      },
      "execution_count": 59,
      "outputs": [
        {
          "output_type": "execute_result",
          "data": {
            "text/plain": [
              "<matplotlib.axes._subplots.AxesSubplot at 0x7fcbb1eef4c0>"
            ]
          },
          "metadata": {},
          "execution_count": 59
        },
        {
          "output_type": "display_data",
          "data": {
            "text/plain": [
              "<Figure size 432x288 with 1 Axes>"
            ],
            "image/png": "[encoded data removed]"
          },
          "metadata": {
            "needs_background": "light"
          }
        }
      ]
    },
    {
      "cell_type": "code",
      "source": [
        "sns.histplot(df_Koramangala['Cost_for_Two_In_₹'],bins=15)"
      ],
      "metadata": {
        "colab": {
          "base_uri": "https://localhost:8080/",
          "height": 298
        },
        "id": "dZosWf1jOQJV",
        "outputId": "f9d736c1-9671-4381-9e6b-8103d38e2b86"
      },
      "execution_count": 60,
      "outputs": [
        {
          "output_type": "execute_result",
          "data": {
            "text/plain": [
              "<matplotlib.axes._subplots.AxesSubplot at 0x7fcbb1e71640>"
            ]
          },
          "metadata": {},
          "execution_count": 60
        },
        {
          "output_type": "display_data",
          "data": {
            "text/plain": [
              "<Figure size 432x288 with 1 Axes>"
            ],
            "image/png": "[encoded data removed]"
          },
          "metadata": {
            "needs_background": "light"
          }
        }
      ]
    },
    {
      "cell_type": "code",
      "source": [
        "#Most places in the Koramangala area have 4.1 to 4.4 rating and cost for 2 people\n",
        "#lies between 200 to 400.\n",
        "#Maximum cost goes upto 600."
      ],
      "metadata": {
        "id": "riXmGbeXOgBS"
      },
      "execution_count": 61,
      "outputs": []
    },
    {
      "cell_type": "code",
      "source": [
        "#Most Costly or Expensive location is HSR as maximum cost there is nearly 800."
      ],
      "metadata": {
        "id": "2SPvgxVzR1e_"
      },
      "execution_count": 62,
      "outputs": []
    },
    {
      "cell_type": "code",
      "source": [
        "#Cuisine Analysis\n",
        "dataset['Cuisine']=dataset['Cuisine'].str.title()\n",
        "dataset['Cuisine']"
      ],
      "metadata": {
        "colab": {
          "base_uri": "https://localhost:8080/"
        },
        "id": "IEUrT-IpVBSG",
        "outputId": "efa53101-061e-43c1-dac0-f393f461dbe8"
      },
      "execution_count": 63,
      "outputs": [
        {
          "output_type": "execute_result",
          "data": {
            "text/plain": [
              "0                                                 Sweets\n",
              "1                 North Indian, Home Food, Thalis, Combo\n",
              "2      South Indian, North Indian, Fast Food, Beverag...\n",
              "3      American, Arabian, Chinese, Desserts, Fast Foo...\n",
              "4                                          Chinese, Thai\n",
              "                             ...                        \n",
              "113                            Pan-Asian, Chinese, Asian\n",
              "114    Arabian, Middle Eastern, North Indian, Grill, ...\n",
              "115              North Indian, Chinese, Seafood, Biryani\n",
              "116                                         North Indian\n",
              "117                                      Andhra, Biryani\n",
              "Name: Cuisine, Length: 118, dtype: object"
            ]
          },
          "metadata": {},
          "execution_count": 63
        }
      ]
    },
    {
      "cell_type": "code",
      "source": [
        "dataset.columns"
      ],
      "metadata": {
        "colab": {
          "base_uri": "https://localhost:8080/"
        },
        "id": "85dD08DKaLP0",
        "outputId": "fd9435b2-e1df-428d-ce77-056e9e8ea2c0"
      },
      "execution_count": 64,
      "outputs": [
        {
          "output_type": "execute_result",
          "data": {
            "text/plain": [
              "Index(['Shop_Name', 'Cuisine', 'Location', 'Rating', 'Cost_for_Two_In_₹'], dtype='object')"
            ]
          },
          "metadata": {},
          "execution_count": 64
        }
      ]
    },
    {
      "cell_type": "code",
      "source": [
        "dataset['Cuisine'].unique() #unique values in Cuisine column"
      ],
      "metadata": {
        "colab": {
          "base_uri": "https://localhost:8080/"
        },
        "id": "3D-I7nWMYoiS",
        "outputId": "f3765570-c229-4d99-ccfa-ffe3345477e0"
      },
      "execution_count": 65,
      "outputs": [
        {
          "output_type": "execute_result",
          "data": {
            "text/plain": [
              "array(['Sweets', 'North Indian, Home Food, Thalis, Combo',\n",
              "       'South Indian, North Indian, Fast Food, Beverages, Jain',\n",
              "       'American, Arabian, Chinese, Desserts, Fast Food, Mughlai, North Indian',\n",
              "       'Chinese, Thai', 'North Indian',\n",
              "       'Fast Food, North Indian, Chinese', 'Italian',\n",
              "       'South Indian, Kerala, Chinese, North Indian',\n",
              "       'Pizzas, Italian, Mexican',\n",
              "       'Chinese, South Indian, North Indian, Desserts, Fast Food, Kerala, Andhra, Beverages, Mughlai, Seafood',\n",
              "       'Desserts', 'Chinese, Andhra, Biryani, Seafood', 'Chinese',\n",
              "       'South Indian, Chinese, Desserts, North Indian',\n",
              "       'Arabian, Fast Food', 'Desserts, Beverages', 'Indian, Rajasthani',\n",
              "       'Desserts, Bakery', 'Chinese, Healthy Food, North Indian',\n",
              "       'North Indian, Chinese, Hyderabadi', 'Fast Food',\n",
              "       'Chinese, Jain, North Indian, South Indian', 'Indian',\n",
              "       'North Indian, South Indian, Chinese',\n",
              "       'Andhra, Biryani, Chinese, Desserts, Fast Food, Seafood, South Indian',\n",
              "       'American, Fast Food',\n",
              "       'Biryani, Seafood, North Indian, Chinese, Desserts, Andhra, South Indian',\n",
              "       'Snacks, American', 'South Indian', 'Kerala, South Indian',\n",
              "       'Mexican', 'North Indian, Chinese, Biryani',\n",
              "       'Turkish, Portuguese, American', 'Biryani',\n",
              "       'South Indian, Snacks, North Indian, Chinese',\n",
              "       'Desserts, Fast Food, Sweets, Chaat',\n",
              "       'Chinese, South Indian, Andhra, Hyderabadi', 'Pizzas, Fast Food',\n",
              "       'Biryani, Mughlai, South Indian', 'Chinese, Asian',\n",
              "       'North Indian, Chinese, South Indian', 'Italian, Desserts, Pizzas',\n",
              "       'Biryani, Andhra, South Indian',\n",
              "       'Chinese, Continental, Italian, Mediterranean, Thai, Lebanese, American, Asian, Beverages, Bakery, Biryani, Cafe, Desserts, Healthy Food, Mexican, North Indian, Salads, Pizzas',\n",
              "       'Pizzas, Chinese, Pastas, Salads, American, Continental',\n",
              "       'Andhra, Biryani',\n",
              "       'Chinese, South Indian, North Indian, Fast Food',\n",
              "       'Fast Food, Beverages',\n",
              "       'Biryani, South Indian, North Indian, Fast Food, Andhra, Beverages, Mughlai, Seafood, Punjabi, Hyderabadi, Chinese',\n",
              "       'Beverages, Chinese',\n",
              "       'South Indian, Biryani, Kerala, North Indian, Chinese',\n",
              "       'Kerala, Chinese', 'North Indian, Chinese',\n",
              "       'Arabian, Beverages, Biryani, Chinese, Desserts, North Indian',\n",
              "       'Biryani, Juices, Kebabs', 'Andhra, South Indian',\n",
              "       'Beverages, Cafe, Snacks', 'North Indian, South Indian',\n",
              "       'Turkish, Portuguese, American, Grill',\n",
              "       'Home Food, Healthy Food, Indian', 'Ice Cream',\n",
              "       'Chinese, Hyderabadi, Biryani, Indian, South Indian, Andhra, Tandoor',\n",
              "       'Punjabi, North Indian, Chinese, Fast Food, Healthy Food, Mughlai, Desserts',\n",
              "       'American',\n",
              "       'Biryani, Hyderabadi, Andhra, North Indian, South Indian',\n",
              "       'Fast Food, Juices, North Indian',\n",
              "       'North Indian, Chaat, Snacks, Fast Food',\n",
              "       'Desserts, Mughlai, Seafood', 'Ice Cream, Desserts',\n",
              "       'Chinese, North Indian', 'Biryani, Kebabs',\n",
              "       'Andhra, Chettinad, Chinese, Mughlai, North Indian',\n",
              "       'Chettinad, South Indian',\n",
              "       'Continental, Indian, Pan-Asian, Oriental',\n",
              "       'North Indian, Biryani', 'Pan-Asian, Chinese, Asian',\n",
              "       'Arabian, Middle Eastern, North Indian, Grill, Seafood, Kerala, Chinese',\n",
              "       'North Indian, Chinese, Seafood, Biryani'], dtype=object)"
            ]
          },
          "metadata": {},
          "execution_count": 65
        }
      ]
    },
    {
      "cell_type": "code",
      "source": [
        "frequency={}\n",
        "for i in dataset['Cuisine'].unique():\n",
        "  cuisine_list=i.split(',')\n",
        "  for cuisine in cuisine_list:\n",
        "    cuisine=cuisine.lstrip(' ')\n",
        "    if cuisine in frequency:\n",
        "      frequency[cuisine]=frequency[cuisine]+1\n",
        "    else:\n",
        "      frequency[cuisine]=1\n",
        "print(frequency)\n",
        "print()\n",
        "#counting frequency of unique values in the Cuisine column.\n",
        "print('TOTAL RECORDS: \\t',len(frequency))"
      ],
      "metadata": {
        "colab": {
          "base_uri": "https://localhost:8080/"
        },
        "id": "32UIjxEOYvGk",
        "outputId": "cb67541b-1e11-4442-b9b0-c8b99369d349"
      },
      "execution_count": 66,
      "outputs": [
        {
          "output_type": "stream",
          "name": "stdout",
          "text": [
            "{'Sweets': 2, 'North Indian': 32, 'Home Food': 2, 'Thalis': 1, 'Combo': 1, 'South Indian': 23, 'Fast Food': 16, 'Beverages': 9, 'Jain': 2, 'American': 8, 'Arabian': 4, 'Chinese': 35, 'Desserts': 15, 'Mughlai': 7, 'Thai': 2, 'Italian': 4, 'Kerala': 6, 'Pizzas': 5, 'Mexican': 3, 'Andhra': 12, 'Seafood': 8, 'Biryani': 18, 'Indian': 5, 'Rajasthani': 1, 'Bakery': 2, 'Healthy Food': 4, 'Hyderabadi': 5, 'Snacks': 4, 'Turkish': 2, 'Portuguese': 2, 'Chaat': 2, 'Asian': 3, 'Continental': 3, 'Mediterranean': 1, 'Lebanese': 1, 'Cafe': 2, 'Salads': 2, 'Pastas': 1, 'Punjabi': 2, 'Juices': 2, 'Kebabs': 2, 'Grill': 2, 'Ice Cream': 2, 'Tandoor': 1, 'Chettinad': 2, 'Pan-Asian': 2, 'Oriental': 1, 'Middle Eastern': 1}\n",
            "\n",
            "TOTAL RECORDS: \t 48\n"
          ]
        }
      ]
    },
    {
      "cell_type": "code",
      "source": [
        "frequency.items()\n",
        "#printing dictionary having items and their count."
      ],
      "metadata": {
        "colab": {
          "base_uri": "https://localhost:8080/"
        },
        "id": "CF65DtR1aCQ5",
        "outputId": "1eeb8815-5ae4-4695-bf4f-13d97b256ad9"
      },
      "execution_count": 67,
      "outputs": [
        {
          "output_type": "execute_result",
          "data": {
            "text/plain": [
              "dict_items([('Sweets', 2), ('North Indian', 32), ('Home Food', 2), ('Thalis', 1), ('Combo', 1), ('South Indian', 23), ('Fast Food', 16), ('Beverages', 9), ('Jain', 2), ('American', 8), ('Arabian', 4), ('Chinese', 35), ('Desserts', 15), ('Mughlai', 7), ('Thai', 2), ('Italian', 4), ('Kerala', 6), ('Pizzas', 5), ('Mexican', 3), ('Andhra', 12), ('Seafood', 8), ('Biryani', 18), ('Indian', 5), ('Rajasthani', 1), ('Bakery', 2), ('Healthy Food', 4), ('Hyderabadi', 5), ('Snacks', 4), ('Turkish', 2), ('Portuguese', 2), ('Chaat', 2), ('Asian', 3), ('Continental', 3), ('Mediterranean', 1), ('Lebanese', 1), ('Cafe', 2), ('Salads', 2), ('Pastas', 1), ('Punjabi', 2), ('Juices', 2), ('Kebabs', 2), ('Grill', 2), ('Ice Cream', 2), ('Tandoor', 1), ('Chettinad', 2), ('Pan-Asian', 2), ('Oriental', 1), ('Middle Eastern', 1)])"
            ]
          },
          "metadata": {},
          "execution_count": 67
        }
      ]
    },
    {
      "cell_type": "code",
      "source": [
        "cuisine_keys=frequency.keys()\n",
        "freq=frequency.values()"
      ],
      "metadata": {
        "id": "BLBoW3Sya0si"
      },
      "execution_count": 68,
      "outputs": []
    },
    {
      "cell_type": "code",
      "source": [
        "df_Cuisine_Analysis=pd.DataFrame()"
      ],
      "metadata": {
        "id": "uVJkkIj-bGE7"
      },
      "execution_count": 69,
      "outputs": []
    },
    {
      "cell_type": "code",
      "source": [
        "df_Cuisine_Analysis['Cuisine']=cuisine_keys\n",
        "df_Cuisine_Analysis['Count']=freq\n",
        "#adding in datafrfame"
      ],
      "metadata": {
        "id": "C3vR0GMrbNxL"
      },
      "execution_count": 70,
      "outputs": []
    },
    {
      "cell_type": "code",
      "source": [
        "df_Cuisine_Analysis"
      ],
      "metadata": {
        "colab": {
          "base_uri": "https://localhost:8080/",
          "height": 1000
        },
        "id": "BviFZKEPbW9m",
        "outputId": "8030ce76-d01a-4ba1-9db2-d8c9d390a402"
      },
      "execution_count": 71,
      "outputs": [
        {
          "output_type": "execute_result",
          "data": {
            "text/plain": [
              "           Cuisine  Count\n",
              "0           Sweets      2\n",
              "1     North Indian     32\n",
              "2        Home Food      2\n",
              "3           Thalis      1\n",
              "4            Combo      1\n",
              "5     South Indian     23\n",
              "6        Fast Food     16\n",
              "7        Beverages      9\n",
              "8             Jain      2\n",
              "9         American      8\n",
              "10         Arabian      4\n",
              "11         Chinese     35\n",
              "12        Desserts     15\n",
              "13         Mughlai      7\n",
              "14            Thai      2\n",
              "15         Italian      4\n",
              "16          Kerala      6\n",
              "17          Pizzas      5\n",
              "18         Mexican      3\n",
              "19          Andhra     12\n",
              "20         Seafood      8\n",
              "21         Biryani     18\n",
              "22          Indian      5\n",
              "23      Rajasthani      1\n",
              "24          Bakery      2\n",
              "25    Healthy Food      4\n",
              "26      Hyderabadi      5\n",
              "27          Snacks      4\n",
              "28         Turkish      2\n",
              "29      Portuguese      2\n",
              "30           Chaat      2\n",
              "31           Asian      3\n",
              "32     Continental      3\n",
              "33   Mediterranean      1\n",
              "34        Lebanese      1\n",
              "35            Cafe      2\n",
              "36          Salads      2\n",
              "37          Pastas      1\n",
              "38         Punjabi      2\n",
              "39          Juices      2\n",
              "40          Kebabs      2\n",
              "41           Grill      2\n",
              "42       Ice Cream      2\n",
              "43         Tandoor      1\n",
              "44       Chettinad      2\n",
              "45       Pan-Asian      2\n",
              "46        Oriental      1\n",
              "47  Middle Eastern      1"
            ],
            "text/html": [
              "\n",
              "  <div id=\"df-09c1a897-5480-4986-9ffb-5f4fa684b467\">\n",
              "    <div class=\"colab-df-container\">\n",
              "      <div>\n",
              "<style scoped>\n",
              "    .dataframe tbody tr th:only-of-type {\n",
              "        vertical-align: middle;\n",
              "    }\n",
              "\n",
              "    .dataframe tbody tr th {\n",
              "        vertical-align: top;\n",
              "    }\n",
              "\n",
              "    .dataframe thead th {\n",
              "        text-align: right;\n",
              "    }\n",
              "</style>\n",
              "<table border=\"1\" class=\"dataframe\">\n",
              "  <thead>\n",
              "    <tr style=\"text-align: right;\">\n",
              "      <th></th>\n",
              "      <th>Cuisine</th>\n",
              "      <th>Count</th>\n",
              "    </tr>\n",
              "  </thead>\n",
              "  <tbody>\n",
              "    <tr>\n",
              "      <th>0</th>\n",
              "      <td>Sweets</td>\n",
              "      <td>2</td>\n",
              "    </tr>\n",
              "    <tr>\n",
              "      <th>1</th>\n",
              "      <td>North Indian</td>\n",
              "      <td>32</td>\n",
              "    </tr>\n",
              "    <tr>\n",
              "      <th>2</th>\n",
              "      <td>Home Food</td>\n",
              "      <td>2</td>\n",
              "    </tr>\n",
              "    <tr>\n",
              "      <th>3</th>\n",
              "      <td>Thalis</td>\n",
              "      <td>1</td>\n",
              "    </tr>\n",
              "    <tr>\n",
              "      <th>4</th>\n",
              "      <td>Combo</td>\n",
              "      <td>1</td>\n",
              "    </tr>\n",
              "    <tr>\n",
              "      <th>5</th>\n",
              "      <td>South Indian</td>\n",
              "      <td>23</td>\n",
              "    </tr>\n",
              "    <tr>\n",
              "      <th>6</th>\n",
              "      <td>Fast Food</td>\n",
              "      <td>16</td>\n",
              "    </tr>\n",
              "    <tr>\n",
              "      <th>7</th>\n",
              "      <td>Beverages</td>\n",
              "      <td>9</td>\n",
              "    </tr>\n",
              "    <tr>\n",
              "      <th>8</th>\n",
              "      <td>Jain</td>\n",
              "      <td>2</td>\n",
              "    </tr>\n",
              "    <tr>\n",
              "      <th>9</th>\n",
              "      <td>American</td>\n",
              "      <td>8</td>\n",
              "    </tr>\n",
              "    <tr>\n",
              "      <th>10</th>\n",
              "      <td>Arabian</td>\n",
              "      <td>4</td>\n",
              "    </tr>\n",
              "    <tr>\n",
              "      <th>11</th>\n",
              "      <td>Chinese</td>\n",
              "      <td>35</td>\n",
              "    </tr>\n",
              "    <tr>\n",
              "      <th>12</th>\n",
              "      <td>Desserts</td>\n",
              "      <td>15</td>\n",
              "    </tr>\n",
              "    <tr>\n",
              "      <th>13</th>\n",
              "      <td>Mughlai</td>\n",
              "      <td>7</td>\n",
              "    </tr>\n",
              "    <tr>\n",
              "      <th>14</th>\n",
              "      <td>Thai</td>\n",
              "      <td>2</td>\n",
              "    </tr>\n",
              "    <tr>\n",
              "      <th>15</th>\n",
              "      <td>Italian</td>\n",
              "      <td>4</td>\n",
              "    </tr>\n",
              "    <tr>\n",
              "      <th>16</th>\n",
              "      <td>Kerala</td>\n",
              "      <td>6</td>\n",
              "    </tr>\n",
              "    <tr>\n",
              "      <th>17</th>\n",
              "      <td>Pizzas</td>\n",
              "      <td>5</td>\n",
              "    </tr>\n",
              "    <tr>\n",
              "      <th>18</th>\n",
              "      <td>Mexican</td>\n",
              "      <td>3</td>\n",
              "    </tr>\n",
              "    <tr>\n",
              "      <th>19</th>\n",
              "      <td>Andhra</td>\n",
              "      <td>12</td>\n",
              "    </tr>\n",
              "    <tr>\n",
              "      <th>20</th>\n",
              "      <td>Seafood</td>\n",
              "      <td>8</td>\n",
              "    </tr>\n",
              "    <tr>\n",
              "      <th>21</th>\n",
              "      <td>Biryani</td>\n",
              "      <td>18</td>\n",
              "    </tr>\n",
              "    <tr>\n",
              "      <th>22</th>\n",
              "      <td>Indian</td>\n",
              "      <td>5</td>\n",
              "    </tr>\n",
              "    <tr>\n",
              "      <th>23</th>\n",
              "      <td>Rajasthani</td>\n",
              "      <td>1</td>\n",
              "    </tr>\n",
              "    <tr>\n",
              "      <th>24</th>\n",
              "      <td>Bakery</td>\n",
              "      <td>2</td>\n",
              "    </tr>\n",
              "    <tr>\n",
              "      <th>25</th>\n",
              "      <td>Healthy Food</td>\n",
              "      <td>4</td>\n",
              "    </tr>\n",
              "    <tr>\n",
              "      <th>26</th>\n",
              "      <td>Hyderabadi</td>\n",
              "      <td>5</td>\n",
              "    </tr>\n",
              "    <tr>\n",
              "      <th>27</th>\n",
              "      <td>Snacks</td>\n",
              "      <td>4</td>\n",
              "    </tr>\n",
              "    <tr>\n",
              "      <th>28</th>\n",
              "      <td>Turkish</td>\n",
              "      <td>2</td>\n",
              "    </tr>\n",
              "    <tr>\n",
              "      <th>29</th>\n",
              "      <td>Portuguese</td>\n",
              "      <td>2</td>\n",
              "    </tr>\n",
              "    <tr>\n",
              "      <th>30</th>\n",
              "      <td>Chaat</td>\n",
              "      <td>2</td>\n",
              "    </tr>\n",
              "    <tr>\n",
              "      <th>31</th>\n",
              "      <td>Asian</td>\n",
              "      <td>3</td>\n",
              "    </tr>\n",
              "    <tr>\n",
              "      <th>32</th>\n",
              "      <td>Continental</td>\n",
              "      <td>3</td>\n",
              "    </tr>\n",
              "    <tr>\n",
              "      <th>33</th>\n",
              "      <td>Mediterranean</td>\n",
              "      <td>1</td>\n",
              "    </tr>\n",
              "    <tr>\n",
              "      <th>34</th>\n",
              "      <td>Lebanese</td>\n",
              "      <td>1</td>\n",
              "    </tr>\n",
              "    <tr>\n",
              "      <th>35</th>\n",
              "      <td>Cafe</td>\n",
              "      <td>2</td>\n",
              "    </tr>\n",
              "    <tr>\n",
              "      <th>36</th>\n",
              "      <td>Salads</td>\n",
              "      <td>2</td>\n",
              "    </tr>\n",
              "    <tr>\n",
              "      <th>37</th>\n",
              "      <td>Pastas</td>\n",
              "      <td>1</td>\n",
              "    </tr>\n",
              "    <tr>\n",
              "      <th>38</th>\n",
              "      <td>Punjabi</td>\n",
              "      <td>2</td>\n",
              "    </tr>\n",
              "    <tr>\n",
              "      <th>39</th>\n",
              "      <td>Juices</td>\n",
              "      <td>2</td>\n",
              "    </tr>\n",
              "    <tr>\n",
              "      <th>40</th>\n",
              "      <td>Kebabs</td>\n",
              "      <td>2</td>\n",
              "    </tr>\n",
              "    <tr>\n",
              "      <th>41</th>\n",
              "      <td>Grill</td>\n",
              "      <td>2</td>\n",
              "    </tr>\n",
              "    <tr>\n",
              "      <th>42</th>\n",
              "      <td>Ice Cream</td>\n",
              "      <td>2</td>\n",
              "    </tr>\n",
              "    <tr>\n",
              "      <th>43</th>\n",
              "      <td>Tandoor</td>\n",
              "      <td>1</td>\n",
              "    </tr>\n",
              "    <tr>\n",
              "      <th>44</th>\n",
              "      <td>Chettinad</td>\n",
              "      <td>2</td>\n",
              "    </tr>\n",
              "    <tr>\n",
              "      <th>45</th>\n",
              "      <td>Pan-Asian</td>\n",
              "      <td>2</td>\n",
              "    </tr>\n",
              "    <tr>\n",
              "      <th>46</th>\n",
              "      <td>Oriental</td>\n",
              "      <td>1</td>\n",
              "    </tr>\n",
              "    <tr>\n",
              "      <th>47</th>\n",
              "      <td>Middle Eastern</td>\n",
              "      <td>1</td>\n",
              "    </tr>\n",
              "  </tbody>\n",
              "</table>\n",
              "</div>\n",
              "      <button class=\"colab-df-convert\" onclick=\"convertToInteractive('df-09c1a897-5480-4986-9ffb-5f4fa684b467')\"\n",
              "              title=\"Convert this dataframe to an interactive table.\"\n",
              "              style=\"display:none;\">\n",
              "        \n",
              "  <svg xmlns=\"http://www.w3.org/2000/svg\" height=\"24px\"viewBox=\"0 0 24 24\"\n",
              "       width=\"24px\">\n",
              "    <path d=\"M0 0h24v24H0V0z\" fill=\"none\"/>\n",
              "    <path d=\"M18.56 5.44l.94 2.06.94-2.06 2.06-.94-2.06-.94-.94-2.06-.94 2.06-2.06.94zm-11 1L8.5 8.5l.94-2.06 2.06-.94-2.06-.94L8.5 2.5l-.94 2.06-2.06.94zm10 10l.94 2.06.94-2.06 2.06-.94-2.06-.94-.94-2.06-.94 2.06-2.06.94z\"/><path d=\"M17.41 7.96l-1.37-1.37c-.4-.4-.92-.59-1.43-.59-.52 0-1.04.2-1.43.59L10.3 9.45l-7.72 7.72c-.78.78-.78 2.05 0 2.83L4 21.41c.39.39.9.59 1.41.59.51 0 1.02-.2 1.41-.59l7.78-7.78 2.81-2.81c.8-.78.8-2.07 0-2.86zM5.41 20L4 18.59l7.72-7.72 1.47 1.35L5.41 20z\"/>\n",
              "  </svg>\n",
              "      </button>\n",
              "      \n",
              "  <style>\n",
              "    .colab-df-container {\n",
              "      display:flex;\n",
              "      flex-wrap:wrap;\n",
              "      gap: 12px;\n",
              "    }\n",
              "\n",
              "    .colab-df-convert {\n",
              "      background-color: #E8F0FE;\n",
              "      border: none;\n",
              "      border-radius: 50%;\n",
              "      cursor: pointer;\n",
              "      display: none;\n",
              "      fill: #1967D2;\n",
              "      height: 32px;\n",
              "      padding: 0 0 0 0;\n",
              "      width: 32px;\n",
              "    }\n",
              "\n",
              "    .colab-df-convert:hover {\n",
              "      background-color: #E2EBFA;\n",
              "      box-shadow: 0px 1px 2px rgba(60, 64, 67, 0.3), 0px 1px 3px 1px rgba(60, 64, 67, 0.15);\n",
              "      fill: #174EA6;\n",
              "    }\n",
              "\n",
              "    [theme=dark] .colab-df-convert {\n",
              "      background-color: #3B4455;\n",
              "      fill: #D2E3FC;\n",
              "    }\n",
              "\n",
              "    [theme=dark] .colab-df-convert:hover {\n",
              "      background-color: #434B5C;\n",
              "      box-shadow: 0px 1px 3px 1px rgba(0, 0, 0, 0.15);\n",
              "      filter: drop-shadow(0px 1px 2px rgba(0, 0, 0, 0.3));\n",
              "      fill: #FFFFFF;\n",
              "    }\n",
              "  </style>\n",
              "\n",
              "      <script>\n",
              "        const buttonEl =\n",
              "          document.querySelector('#df-09c1a897-5480-4986-9ffb-5f4fa684b467 button.colab-df-convert');\n",
              "        buttonEl.style.display =\n",
              "          google.colab.kernel.accessAllowed ? 'block' : 'none';\n",
              "\n",
              "        async function convertToInteractive(key) {\n",
              "          const element = document.querySelector('#df-09c1a897-5480-4986-9ffb-5f4fa684b467');\n",
              "          const dataTable =\n",
              "            await google.colab.kernel.invokeFunction('convertToInteractive',\n",
              "                                                     [key], {});\n",
              "          if (!dataTable) return;\n",
              "\n",
              "          const docLinkHtml = 'Like what you see? Visit the ' +\n",
              "            '<a target=\"_blank\" href=https://colab.research.google.com/notebooks/data_table.ipynb>data table notebook</a>'\n",
              "            + ' to learn more about interactive tables.';\n",
              "          element.innerHTML = '';\n",
              "          dataTable['output_type'] = 'display_data';\n",
              "          await google.colab.output.renderOutput(dataTable, element);\n",
              "          const docLink = document.createElement('div');\n",
              "          docLink.innerHTML = docLinkHtml;\n",
              "          element.appendChild(docLink);\n",
              "        }\n",
              "      </script>\n",
              "    </div>\n",
              "  </div>\n",
              "  "
            ]
          },
          "metadata": {},
          "execution_count": 71
        }
      ]
    },
    {
      "cell_type": "code",
      "source": [
        "plt.figure(figsize=(20,10))\n",
        "sns.barplot(x=df_Cuisine_Analysis['Cuisine'],y=df_Cuisine_Analysis['Count'],data=df_Cuisine_Analysis)\n",
        "plt.xticks(rotation=90)\n",
        "plt.title('Cuisine VS Count')\n",
        "plt.xlabel('Cuisine')\n",
        "plt.ylabel('Count')\n",
        "plt.show()"
      ],
      "metadata": {
        "colab": {
          "base_uri": "https://localhost:8080/",
          "height": 686
        },
        "id": "lfCcdvGHbYJD",
        "outputId": "4231ecb0-aa19-482c-c236-6211eb6dc056"
      },
      "execution_count": 72,
      "outputs": [
        {
          "output_type": "display_data",
          "data": {
            "text/plain": [
              "<Figure size 1440x720 with 1 Axes>"
            ],
            "image/png": "[encoded data removed]"
          },
          "metadata": {
            "needs_background": "light"
          }
        }
      ]
    },
    {
      "cell_type": "code",
      "source": [
        "#So the most famous Cuisine is Chinese followed by North Indian and South Indian."
      ],
      "metadata": {
        "id": "yBFFQI29cSDm"
      },
      "execution_count": 73,
      "outputs": []
    },
    {
      "cell_type": "code",
      "source": [
        "#Cuisines Location wise Analysis"
      ],
      "metadata": {
        "id": "GWbjCBcMc3vA"
      },
      "execution_count": 74,
      "outputs": []
    },
    {
      "cell_type": "code",
      "source": [
        "df_BTM['Cuisine'].unique()"
      ],
      "metadata": {
        "colab": {
          "base_uri": "https://localhost:8080/"
        },
        "id": "VCUvVVpvdlGr",
        "outputId": "368d7f7b-c126-4448-8f85-44df8b3ff62b"
      },
      "execution_count": 75,
      "outputs": [
        {
          "output_type": "execute_result",
          "data": {
            "text/plain": [
              "array(['Fast Food, North Indian, Chinese', 'Italian',\n",
              "       'Chinese, South Indian, North Indian, Desserts, Fast Food, Kerala, Andhra, Beverages, Mughlai, Seafood',\n",
              "       'North Indian', 'Desserts, Bakery',\n",
              "       'North Indian, Chinese, Hyderabadi', 'Indian',\n",
              "       'Andhra, Biryani, Chinese, Desserts, Fast Food, Seafood, South Indian',\n",
              "       'Kerala, South Indian', 'North Indian, Chinese, Biryani',\n",
              "       'Biryani', 'South Indian, Snacks, North Indian, Chinese',\n",
              "       'Desserts, Fast Food, Sweets, Chaat',\n",
              "       'Chinese, South Indian, Andhra, Hyderabadi',\n",
              "       'North Indian, Chinese, South Indian',\n",
              "       'Biryani, Andhra, South Indian', 'Fast Food, Beverages',\n",
              "       'Beverages, Chinese', 'Kerala, Chinese', 'North Indian, Chinese',\n",
              "       'Arabian, Beverages, Biryani, Chinese, Desserts, North Indian',\n",
              "       'North Indian, South Indian', 'Chinese, Thai',\n",
              "       'Chinese, Hyderabadi, Biryani, Indian, South Indian, Andhra, Tandoor',\n",
              "       'Punjabi, North Indian, Chinese, Fast Food, Healthy Food, Mughlai, Desserts',\n",
              "       'Biryani, Hyderabadi, Andhra, North Indian, South Indian',\n",
              "       'Chinese, North Indian',\n",
              "       'Andhra, Chettinad, Chinese, Mughlai, North Indian',\n",
              "       'North Indian, Biryani',\n",
              "       'Arabian, Middle Eastern, North Indian, Grill, Seafood, Kerala, Chinese'],\n",
              "      dtype=object)"
            ]
          },
          "metadata": {},
          "execution_count": 75
        }
      ]
    },
    {
      "cell_type": "code",
      "source": [
        "freq_BTM = {}\n",
        "for i in df_BTM['Cuisine'].unique():\n",
        "    Cuisine_List = i.split(',')\n",
        "    for Cuisine in Cuisine_List:\n",
        "        Cuisine = Cuisine.lstrip()\n",
        "        if Cuisine in freq_BTM:\n",
        "            freq_BTM[Cuisine] = freq_BTM[Cuisine] + 1\n",
        "        else:\n",
        "            freq_BTM[Cuisine] = 1\n",
        "            \n",
        "print(freq_BTM)\n",
        "print()\n",
        "print(len(freq_BTM))\n",
        "#COUNTING CUISINES IN BTM LOCATION."
      ],
      "metadata": {
        "colab": {
          "base_uri": "https://localhost:8080/"
        },
        "id": "d1HaVogXecws",
        "outputId": "240d37a5-f785-40a5-e2ca-cc4bbb6df31b"
      },
      "execution_count": 76,
      "outputs": [
        {
          "output_type": "stream",
          "name": "stdout",
          "text": [
            "{'Fast Food': 6, 'North Indian': 16, 'Chinese': 18, 'Italian': 1, 'South Indian': 10, 'Desserts': 6, 'Kerala': 4, 'Andhra': 7, 'Beverages': 4, 'Mughlai': 3, 'Seafood': 3, 'Bakery': 1, 'Hyderabadi': 4, 'Indian': 2, 'Biryani': 8, 'Snacks': 1, 'Sweets': 1, 'Chaat': 1, 'Arabian': 2, 'Thai': 1, 'Tandoor': 1, 'Punjabi': 1, 'Healthy Food': 1, 'Chettinad': 1, 'Middle Eastern': 1, 'Grill': 1}\n",
            "\n",
            "26\n"
          ]
        }
      ]
    },
    {
      "cell_type": "code",
      "source": [
        "freq_BTM.items()"
      ],
      "metadata": {
        "colab": {
          "base_uri": "https://localhost:8080/"
        },
        "id": "hAsa-r8ee2_C",
        "outputId": "167cbfe3-711c-4a02-9cf3-dc183441a171"
      },
      "execution_count": 77,
      "outputs": [
        {
          "output_type": "execute_result",
          "data": {
            "text/plain": [
              "dict_items([('Fast Food', 6), ('North Indian', 16), ('Chinese', 18), ('Italian', 1), ('South Indian', 10), ('Desserts', 6), ('Kerala', 4), ('Andhra', 7), ('Beverages', 4), ('Mughlai', 3), ('Seafood', 3), ('Bakery', 1), ('Hyderabadi', 4), ('Indian', 2), ('Biryani', 8), ('Snacks', 1), ('Sweets', 1), ('Chaat', 1), ('Arabian', 2), ('Thai', 1), ('Tandoor', 1), ('Punjabi', 1), ('Healthy Food', 1), ('Chettinad', 1), ('Middle Eastern', 1), ('Grill', 1)])"
            ]
          },
          "metadata": {},
          "execution_count": 77
        }
      ]
    },
    {
      "cell_type": "code",
      "source": [
        "Cuisine = freq_BTM.keys()\n",
        "freq = freq_BTM.values()"
      ],
      "metadata": {
        "id": "U2884jIde73h"
      },
      "execution_count": 78,
      "outputs": []
    },
    {
      "cell_type": "code",
      "source": [
        "dict_BTM = {\n",
        "    'Cuisine' : Cuisine,\n",
        "    'Count' : freq\n",
        "}\n",
        "\n",
        "df_Cuisine_BTM = pd.DataFrame(dict_BTM)\n",
        "df_Cuisine_BTM.head()"
      ],
      "metadata": {
        "colab": {
          "base_uri": "https://localhost:8080/",
          "height": 206
        },
        "id": "wbLcd3AZfOAM",
        "outputId": "47bc6a1a-d618-4346-9e6c-2cdecb9ccb7c"
      },
      "execution_count": 79,
      "outputs": [
        {
          "output_type": "execute_result",
          "data": {
            "text/plain": [
              "        Cuisine  Count\n",
              "0     Fast Food      6\n",
              "1  North Indian     16\n",
              "2       Chinese     18\n",
              "3       Italian      1\n",
              "4  South Indian     10"
            ],
            "text/html": [
              "\n",
              "  <div id=\"df-e17e72f5-266a-4956-86e3-cd5a82f5f2c1\">\n",
              "    <div class=\"colab-df-container\">\n",
              "      <div>\n",
              "<style scoped>\n",
              "    .dataframe tbody tr th:only-of-type {\n",
              "        vertical-align: middle;\n",
              "    }\n",
              "\n",
              "    .dataframe tbody tr th {\n",
              "        vertical-align: top;\n",
              "    }\n",
              "\n",
              "    .dataframe thead th {\n",
              "        text-align: right;\n",
              "    }\n",
              "</style>\n",
              "<table border=\"1\" class=\"dataframe\">\n",
              "  <thead>\n",
              "    <tr style=\"text-align: right;\">\n",
              "      <th></th>\n",
              "      <th>Cuisine</th>\n",
              "      <th>Count</th>\n",
              "    </tr>\n",
              "  </thead>\n",
              "  <tbody>\n",
              "    <tr>\n",
              "      <th>0</th>\n",
              "      <td>Fast Food</td>\n",
              "      <td>6</td>\n",
              "    </tr>\n",
              "    <tr>\n",
              "      <th>1</th>\n",
              "      <td>North Indian</td>\n",
              "      <td>16</td>\n",
              "    </tr>\n",
              "    <tr>\n",
              "      <th>2</th>\n",
              "      <td>Chinese</td>\n",
              "      <td>18</td>\n",
              "    </tr>\n",
              "    <tr>\n",
              "      <th>3</th>\n",
              "      <td>Italian</td>\n",
              "      <td>1</td>\n",
              "    </tr>\n",
              "    <tr>\n",
              "      <th>4</th>\n",
              "      <td>South Indian</td>\n",
              "      <td>10</td>\n",
              "    </tr>\n",
              "  </tbody>\n",
              "</table>\n",
              "</div>\n",
              "      <button class=\"colab-df-convert\" onclick=\"convertToInteractive('df-e17e72f5-266a-4956-86e3-cd5a82f5f2c1')\"\n",
              "              title=\"Convert this dataframe to an interactive table.\"\n",
              "              style=\"display:none;\">\n",
              "        \n",
              "  <svg xmlns=\"http://www.w3.org/2000/svg\" height=\"24px\"viewBox=\"0 0 24 24\"\n",
              "       width=\"24px\">\n",
              "    <path d=\"M0 0h24v24H0V0z\" fill=\"none\"/>\n",
              "    <path d=\"M18.56 5.44l.94 2.06.94-2.06 2.06-.94-2.06-.94-.94-2.06-.94 2.06-2.06.94zm-11 1L8.5 8.5l.94-2.06 2.06-.94-2.06-.94L8.5 2.5l-.94 2.06-2.06.94zm10 10l.94 2.06.94-2.06 2.06-.94-2.06-.94-.94-2.06-.94 2.06-2.06.94z\"/><path d=\"M17.41 7.96l-1.37-1.37c-.4-.4-.92-.59-1.43-.59-.52 0-1.04.2-1.43.59L10.3 9.45l-7.72 7.72c-.78.78-.78 2.05 0 2.83L4 21.41c.39.39.9.59 1.41.59.51 0 1.02-.2 1.41-.59l7.78-7.78 2.81-2.81c.8-.78.8-2.07 0-2.86zM5.41 20L4 18.59l7.72-7.72 1.47 1.35L5.41 20z\"/>\n",
              "  </svg>\n",
              "      </button>\n",
              "      \n",
              "  <style>\n",
              "    .colab-df-container {\n",
              "      display:flex;\n",
              "      flex-wrap:wrap;\n",
              "      gap: 12px;\n",
              "    }\n",
              "\n",
              "    .colab-df-convert {\n",
              "      background-color: #E8F0FE;\n",
              "      border: none;\n",
              "      border-radius: 50%;\n",
              "      cursor: pointer;\n",
              "      display: none;\n",
              "      fill: #1967D2;\n",
              "      height: 32px;\n",
              "      padding: 0 0 0 0;\n",
              "      width: 32px;\n",
              "    }\n",
              "\n",
              "    .colab-df-convert:hover {\n",
              "      background-color: #E2EBFA;\n",
              "      box-shadow: 0px 1px 2px rgba(60, 64, 67, 0.3), 0px 1px 3px 1px rgba(60, 64, 67, 0.15);\n",
              "      fill: #174EA6;\n",
              "    }\n",
              "\n",
              "    [theme=dark] .colab-df-convert {\n",
              "      background-color: #3B4455;\n",
              "      fill: #D2E3FC;\n",
              "    }\n",
              "\n",
              "    [theme=dark] .colab-df-convert:hover {\n",
              "      background-color: #434B5C;\n",
              "      box-shadow: 0px 1px 3px 1px rgba(0, 0, 0, 0.15);\n",
              "      filter: drop-shadow(0px 1px 2px rgba(0, 0, 0, 0.3));\n",
              "      fill: #FFFFFF;\n",
              "    }\n",
              "  </style>\n",
              "\n",
              "      <script>\n",
              "        const buttonEl =\n",
              "          document.querySelector('#df-e17e72f5-266a-4956-86e3-cd5a82f5f2c1 button.colab-df-convert');\n",
              "        buttonEl.style.display =\n",
              "          google.colab.kernel.accessAllowed ? 'block' : 'none';\n",
              "\n",
              "        async function convertToInteractive(key) {\n",
              "          const element = document.querySelector('#df-e17e72f5-266a-4956-86e3-cd5a82f5f2c1');\n",
              "          const dataTable =\n",
              "            await google.colab.kernel.invokeFunction('convertToInteractive',\n",
              "                                                     [key], {});\n",
              "          if (!dataTable) return;\n",
              "\n",
              "          const docLinkHtml = 'Like what you see? Visit the ' +\n",
              "            '<a target=\"_blank\" href=https://colab.research.google.com/notebooks/data_table.ipynb>data table notebook</a>'\n",
              "            + ' to learn more about interactive tables.';\n",
              "          element.innerHTML = '';\n",
              "          dataTable['output_type'] = 'display_data';\n",
              "          await google.colab.output.renderOutput(dataTable, element);\n",
              "          const docLink = document.createElement('div');\n",
              "          docLink.innerHTML = docLinkHtml;\n",
              "          element.appendChild(docLink);\n",
              "        }\n",
              "      </script>\n",
              "    </div>\n",
              "  </div>\n",
              "  "
            ]
          },
          "metadata": {},
          "execution_count": 79
        }
      ]
    },
    {
      "cell_type": "code",
      "source": [
        "plt.figure(figsize = (20, 8))\n",
        "sns.barplot(x = df_Cuisine_BTM['Cuisine'], \n",
        "            y = df_Cuisine_BTM['Count'], \n",
        "            data = df_Cuisine_BTM)\n",
        "plt.xticks(rotation = 90)\n",
        "plt.title('Cuisines Analysis In BTM')\n",
        "plt.xlabel('Cuisine')\n",
        "plt.ylabel('Number of Restaurants')\n",
        "plt.show()"
      ],
      "metadata": {
        "colab": {
          "base_uri": "https://localhost:8080/",
          "height": 577
        },
        "id": "GteuXKwKfSZO",
        "outputId": "e31015d2-a80f-4dba-904c-3dc0235b76ec"
      },
      "execution_count": 80,
      "outputs": [
        {
          "output_type": "display_data",
          "data": {
            "text/plain": [
              "<Figure size 1440x576 with 1 Axes>"
            ],
            "image/png": "[encoded data removed]"
          },
          "metadata": {
            "needs_background": "light"
          }
        }
      ]
    },
    {
      "cell_type": "code",
      "source": [
        "#IN BTM Area , most restaurants sell Chinese and North Indian which are the most\n",
        "#famous here.\n",
        "#So most people are fond of the Chinese cuisines."
      ],
      "metadata": {
        "id": "HbzbiR46fW7z"
      },
      "execution_count": 81,
      "outputs": []
    },
    {
      "cell_type": "code",
      "source": [
        "#HSR Area\n",
        "df_HSR['Cuisine'].unique()"
      ],
      "metadata": {
        "colab": {
          "base_uri": "https://localhost:8080/"
        },
        "id": "0ko6DeLqgY4V",
        "outputId": "49927c92-905f-4871-b50a-a59f173492fb"
      },
      "execution_count": 82,
      "outputs": [
        {
          "output_type": "execute_result",
          "data": {
            "text/plain": [
              "array(['North Indian, Home Food, Thalis, Combo',\n",
              "       'American, Arabian, Chinese, Desserts, Fast Food, Mughlai, North Indian',\n",
              "       'South Indian, Kerala, Chinese, North Indian',\n",
              "       'Indian, Rajasthani', 'Chinese, Jain, North Indian, South Indian',\n",
              "       'North Indian, Chinese, Biryani', 'Turkish, Portuguese, American',\n",
              "       'Desserts', 'South Indian', 'Andhra, Biryani', 'Desserts, Bakery',\n",
              "       'Biryani, Juices, Kebabs', 'North Indian', 'Biryani',\n",
              "       'Snacks, American', 'Chettinad, South Indian'], dtype=object)"
            ]
          },
          "metadata": {},
          "execution_count": 82
        }
      ]
    },
    {
      "cell_type": "code",
      "source": [
        "freq_HSR = {}\n",
        "for i in df_HSR['Cuisine'].unique():\n",
        "    Cuisine_List = i.split(',')\n",
        "    for Cuisine in Cuisine_List:\n",
        "        Cuisine = Cuisine.lstrip()\n",
        "        if Cuisine in freq_HSR:\n",
        "            freq_HSR[Cuisine] = freq_HSR[Cuisine] + 1\n",
        "        else:\n",
        "            freq_HSR[Cuisine] = 1\n",
        "            \n",
        "print(freq_HSR)\n",
        "print()\n",
        "print(len(freq_HSR))"
      ],
      "metadata": {
        "colab": {
          "base_uri": "https://localhost:8080/"
        },
        "id": "KzCc5FVJgo5l",
        "outputId": "c9bebb67-cced-4a83-8c3e-3ce2aedd07d5"
      },
      "execution_count": 83,
      "outputs": [
        {
          "output_type": "stream",
          "name": "stdout",
          "text": [
            "{'North Indian': 6, 'Home Food': 1, 'Thalis': 1, 'Combo': 1, 'American': 3, 'Arabian': 1, 'Chinese': 4, 'Desserts': 3, 'Fast Food': 1, 'Mughlai': 1, 'South Indian': 4, 'Kerala': 1, 'Indian': 1, 'Rajasthani': 1, 'Jain': 1, 'Biryani': 4, 'Turkish': 1, 'Portuguese': 1, 'Andhra': 1, 'Bakery': 1, 'Juices': 1, 'Kebabs': 1, 'Snacks': 1, 'Chettinad': 1}\n",
            "\n",
            "24\n"
          ]
        }
      ]
    },
    {
      "cell_type": "code",
      "source": [
        "freq_HSR.items()"
      ],
      "metadata": {
        "colab": {
          "base_uri": "https://localhost:8080/"
        },
        "id": "lqa_2XDflPnn",
        "outputId": "47920a86-67ba-44ca-fc32-3842f2612fc0"
      },
      "execution_count": 84,
      "outputs": [
        {
          "output_type": "execute_result",
          "data": {
            "text/plain": [
              "dict_items([('North Indian', 6), ('Home Food', 1), ('Thalis', 1), ('Combo', 1), ('American', 3), ('Arabian', 1), ('Chinese', 4), ('Desserts', 3), ('Fast Food', 1), ('Mughlai', 1), ('South Indian', 4), ('Kerala', 1), ('Indian', 1), ('Rajasthani', 1), ('Jain', 1), ('Biryani', 4), ('Turkish', 1), ('Portuguese', 1), ('Andhra', 1), ('Bakery', 1), ('Juices', 1), ('Kebabs', 1), ('Snacks', 1), ('Chettinad', 1)])"
            ]
          },
          "metadata": {},
          "execution_count": 84
        }
      ]
    },
    {
      "cell_type": "code",
      "source": [
        "Cuisine = freq_HSR.keys()\n",
        "freq = freq_HSR.values()"
      ],
      "metadata": {
        "id": "9lyiTbKPlfYq"
      },
      "execution_count": 85,
      "outputs": []
    },
    {
      "cell_type": "code",
      "source": [
        "dict_HSR = {\n",
        "    'Cuisine' : Cuisine,\n",
        "    'Count' : freq\n",
        "}\n",
        "\n",
        "df_Cuisine_HSR = pd.DataFrame(dict_HSR)\n",
        "df_Cuisine_HSR.head()"
      ],
      "metadata": {
        "colab": {
          "base_uri": "https://localhost:8080/",
          "height": 206
        },
        "id": "YBZHIlD8lnZK",
        "outputId": "80bae2dd-88be-409f-d5de-f1a4a4873154"
      },
      "execution_count": 86,
      "outputs": [
        {
          "output_type": "execute_result",
          "data": {
            "text/plain": [
              "        Cuisine  Count\n",
              "0  North Indian      6\n",
              "1     Home Food      1\n",
              "2        Thalis      1\n",
              "3         Combo      1\n",
              "4      American      3"
            ],
            "text/html": [
              "\n",
              "  <div id=\"df-845e02a0-b6cd-4219-8811-f9875f8b93f3\">\n",
              "    <div class=\"colab-df-container\">\n",
              "      <div>\n",
              "<style scoped>\n",
              "    .dataframe tbody tr th:only-of-type {\n",
              "        vertical-align: middle;\n",
              "    }\n",
              "\n",
              "    .dataframe tbody tr th {\n",
              "        vertical-align: top;\n",
              "    }\n",
              "\n",
              "    .dataframe thead th {\n",
              "        text-align: right;\n",
              "    }\n",
              "</style>\n",
              "<table border=\"1\" class=\"dataframe\">\n",
              "  <thead>\n",
              "    <tr style=\"text-align: right;\">\n",
              "      <th></th>\n",
              "      <th>Cuisine</th>\n",
              "      <th>Count</th>\n",
              "    </tr>\n",
              "  </thead>\n",
              "  <tbody>\n",
              "    <tr>\n",
              "      <th>0</th>\n",
              "      <td>North Indian</td>\n",
              "      <td>6</td>\n",
              "    </tr>\n",
              "    <tr>\n",
              "      <th>1</th>\n",
              "      <td>Home Food</td>\n",
              "      <td>1</td>\n",
              "    </tr>\n",
              "    <tr>\n",
              "      <th>2</th>\n",
              "      <td>Thalis</td>\n",
              "      <td>1</td>\n",
              "    </tr>\n",
              "    <tr>\n",
              "      <th>3</th>\n",
              "      <td>Combo</td>\n",
              "      <td>1</td>\n",
              "    </tr>\n",
              "    <tr>\n",
              "      <th>4</th>\n",
              "      <td>American</td>\n",
              "      <td>3</td>\n",
              "    </tr>\n",
              "  </tbody>\n",
              "</table>\n",
              "</div>\n",
              "      <button class=\"colab-df-convert\" onclick=\"convertToInteractive('df-845e02a0-b6cd-4219-8811-f9875f8b93f3')\"\n",
              "              title=\"Convert this dataframe to an interactive table.\"\n",
              "              style=\"display:none;\">\n",
              "        \n",
              "  <svg xmlns=\"http://www.w3.org/2000/svg\" height=\"24px\"viewBox=\"0 0 24 24\"\n",
              "       width=\"24px\">\n",
              "    <path d=\"M0 0h24v24H0V0z\" fill=\"none\"/>\n",
              "    <path d=\"M18.56 5.44l.94 2.06.94-2.06 2.06-.94-2.06-.94-.94-2.06-.94 2.06-2.06.94zm-11 1L8.5 8.5l.94-2.06 2.06-.94-2.06-.94L8.5 2.5l-.94 2.06-2.06.94zm10 10l.94 2.06.94-2.06 2.06-.94-2.06-.94-.94-2.06-.94 2.06-2.06.94z\"/><path d=\"M17.41 7.96l-1.37-1.37c-.4-.4-.92-.59-1.43-.59-.52 0-1.04.2-1.43.59L10.3 9.45l-7.72 7.72c-.78.78-.78 2.05 0 2.83L4 21.41c.39.39.9.59 1.41.59.51 0 1.02-.2 1.41-.59l7.78-7.78 2.81-2.81c.8-.78.8-2.07 0-2.86zM5.41 20L4 18.59l7.72-7.72 1.47 1.35L5.41 20z\"/>\n",
              "  </svg>\n",
              "      </button>\n",
              "      \n",
              "  <style>\n",
              "    .colab-df-container {\n",
              "      display:flex;\n",
              "      flex-wrap:wrap;\n",
              "      gap: 12px;\n",
              "    }\n",
              "\n",
              "    .colab-df-convert {\n",
              "      background-color: #E8F0FE;\n",
              "      border: none;\n",
              "      border-radius: 50%;\n",
              "      cursor: pointer;\n",
              "      display: none;\n",
              "      fill: #1967D2;\n",
              "      height: 32px;\n",
              "      padding: 0 0 0 0;\n",
              "      width: 32px;\n",
              "    }\n",
              "\n",
              "    .colab-df-convert:hover {\n",
              "      background-color: #E2EBFA;\n",
              "      box-shadow: 0px 1px 2px rgba(60, 64, 67, 0.3), 0px 1px 3px 1px rgba(60, 64, 67, 0.15);\n",
              "      fill: #174EA6;\n",
              "    }\n",
              "\n",
              "    [theme=dark] .colab-df-convert {\n",
              "      background-color: #3B4455;\n",
              "      fill: #D2E3FC;\n",
              "    }\n",
              "\n",
              "    [theme=dark] .colab-df-convert:hover {\n",
              "      background-color: #434B5C;\n",
              "      box-shadow: 0px 1px 3px 1px rgba(0, 0, 0, 0.15);\n",
              "      filter: drop-shadow(0px 1px 2px rgba(0, 0, 0, 0.3));\n",
              "      fill: #FFFFFF;\n",
              "    }\n",
              "  </style>\n",
              "\n",
              "      <script>\n",
              "        const buttonEl =\n",
              "          document.querySelector('#df-845e02a0-b6cd-4219-8811-f9875f8b93f3 button.colab-df-convert');\n",
              "        buttonEl.style.display =\n",
              "          google.colab.kernel.accessAllowed ? 'block' : 'none';\n",
              "\n",
              "        async function convertToInteractive(key) {\n",
              "          const element = document.querySelector('#df-845e02a0-b6cd-4219-8811-f9875f8b93f3');\n",
              "          const dataTable =\n",
              "            await google.colab.kernel.invokeFunction('convertToInteractive',\n",
              "                                                     [key], {});\n",
              "          if (!dataTable) return;\n",
              "\n",
              "          const docLinkHtml = 'Like what you see? Visit the ' +\n",
              "            '<a target=\"_blank\" href=https://colab.research.google.com/notebooks/data_table.ipynb>data table notebook</a>'\n",
              "            + ' to learn more about interactive tables.';\n",
              "          element.innerHTML = '';\n",
              "          dataTable['output_type'] = 'display_data';\n",
              "          await google.colab.output.renderOutput(dataTable, element);\n",
              "          const docLink = document.createElement('div');\n",
              "          docLink.innerHTML = docLinkHtml;\n",
              "          element.appendChild(docLink);\n",
              "        }\n",
              "      </script>\n",
              "    </div>\n",
              "  </div>\n",
              "  "
            ]
          },
          "metadata": {},
          "execution_count": 86
        }
      ]
    },
    {
      "cell_type": "code",
      "source": [
        "plt.figure(figsize = (20, 8))\n",
        "sns.barplot(x = df_Cuisine_HSR['Cuisine'], \n",
        "            y = df_Cuisine_HSR['Count'], \n",
        "            data = df_Cuisine_HSR)\n",
        "plt.xticks(rotation = 90)\n",
        "plt.title('Cuisines Analysis - HSR')\n",
        "plt.xlabel('Cuisine')\n",
        "plt.ylabel('Number of Restaurants')\n",
        "plt.show()"
      ],
      "metadata": {
        "colab": {
          "base_uri": "https://localhost:8080/",
          "height": 566
        },
        "id": "9jZ3lbVxlslE",
        "outputId": "3a9f1f1f-9257-484a-c671-edaddcd0d249"
      },
      "execution_count": 87,
      "outputs": [
        {
          "output_type": "display_data",
          "data": {
            "text/plain": [
              "<Figure size 1440x576 with 1 Axes>"
            ],
            "image/png": "[encoded data removed]"
          },
          "metadata": {
            "needs_background": "light"
          }
        }
      ]
    },
    {
      "cell_type": "code",
      "source": [
        "#In HSR Area , the North Indian food is the most famous/has the most count/found in the\n",
        "#most no. of restaurants.\n",
        "#So most people are fond of the North Indian cuisines."
      ],
      "metadata": {
        "id": "OyAZOkPNl_SN"
      },
      "execution_count": 88,
      "outputs": []
    },
    {
      "cell_type": "code",
      "source": [
        "#Koramangala Area\n",
        "df_Koramangala['Cuisine'].unique()"
      ],
      "metadata": {
        "colab": {
          "base_uri": "https://localhost:8080/"
        },
        "id": "yBw23P0qnbHc",
        "outputId": "acce7c3f-4345-4a96-bf69-8e00d9060367"
      },
      "execution_count": 89,
      "outputs": [
        {
          "output_type": "execute_result",
          "data": {
            "text/plain": [
              "array(['Sweets', 'South Indian, North Indian, Fast Food, Beverages, Jain',\n",
              "       'Chinese, Thai', 'North Indian', 'Pizzas, Italian, Mexican',\n",
              "       'Desserts', 'Chinese, Andhra, Biryani, Seafood', 'Chinese',\n",
              "       'South Indian, Chinese, Desserts, North Indian',\n",
              "       'Arabian, Fast Food', 'Desserts, Beverages',\n",
              "       'Chinese, Healthy Food, North Indian', 'Fast Food',\n",
              "       'North Indian, South Indian, Chinese', 'American, Fast Food',\n",
              "       'Biryani, Seafood, North Indian, Chinese, Desserts, Andhra, South Indian',\n",
              "       'Snacks, American', 'South Indian', 'Mexican', 'Pizzas, Fast Food',\n",
              "       'Biryani, Mughlai, South Indian', 'Chinese, Asian',\n",
              "       'Italian, Desserts, Pizzas',\n",
              "       'Chinese, Continental, Italian, Mediterranean, Thai, Lebanese, American, Asian, Beverages, Bakery, Biryani, Cafe, Desserts, Healthy Food, Mexican, North Indian, Salads, Pizzas',\n",
              "       'Biryani',\n",
              "       'Pizzas, Chinese, Pastas, Salads, American, Continental',\n",
              "       'Chinese, South Indian, North Indian, Fast Food',\n",
              "       'Biryani, South Indian, North Indian, Fast Food, Andhra, Beverages, Mughlai, Seafood, Punjabi, Hyderabadi, Chinese',\n",
              "       'South Indian, Biryani, Kerala, North Indian, Chinese',\n",
              "       'Andhra, South Indian', 'Beverages, Cafe, Snacks',\n",
              "       'Turkish, Portuguese, American, Grill',\n",
              "       'Home Food, Healthy Food, Indian', 'Ice Cream', 'American',\n",
              "       'Fast Food, Juices, North Indian',\n",
              "       'North Indian, Chaat, Snacks, Fast Food',\n",
              "       'Desserts, Mughlai, Seafood', 'Ice Cream, Desserts', 'Italian',\n",
              "       'Biryani, Kebabs', 'Continental, Indian, Pan-Asian, Oriental',\n",
              "       'North Indian, South Indian', 'Andhra, Biryani',\n",
              "       'Pan-Asian, Chinese, Asian',\n",
              "       'North Indian, Chinese, Seafood, Biryani'], dtype=object)"
            ]
          },
          "metadata": {},
          "execution_count": 89
        }
      ]
    },
    {
      "cell_type": "code",
      "source": [
        "freq_Koramangala = {}\n",
        "for i in df_Koramangala['Cuisine'].unique():\n",
        "    Cuisine_List = i.split(',')\n",
        "    for Cuisine in Cuisine_List:\n",
        "        Cuisine = Cuisine.lstrip()\n",
        "        if Cuisine in freq_Koramangala:\n",
        "            freq_Koramangala[Cuisine] = freq_Koramangala[Cuisine] + 1\n",
        "        else:\n",
        "            freq_Koramangala[Cuisine] = 1\n",
        "            \n",
        "print(freq_Koramangala)\n",
        "print()\n",
        "print(len(freq_Koramangala))"
      ],
      "metadata": {
        "colab": {
          "base_uri": "https://localhost:8080/"
        },
        "id": "JnZf9dv-oCZJ",
        "outputId": "cbbc9b68-ebe8-4813-af76-c01a5cb8e9b8"
      },
      "execution_count": 90,
      "outputs": [
        {
          "output_type": "stream",
          "name": "stdout",
          "text": [
            "{'Sweets': 1, 'South Indian': 11, 'North Indian': 14, 'Fast Food': 9, 'Beverages': 5, 'Jain': 1, 'Chinese': 15, 'Thai': 2, 'Pizzas': 5, 'Italian': 4, 'Mexican': 3, 'Desserts': 8, 'Andhra': 5, 'Biryani': 10, 'Seafood': 5, 'Arabian': 1, 'Healthy Food': 3, 'American': 6, 'Snacks': 3, 'Mughlai': 3, 'Asian': 3, 'Continental': 3, 'Mediterranean': 1, 'Lebanese': 1, 'Bakery': 1, 'Cafe': 2, 'Salads': 2, 'Pastas': 1, 'Punjabi': 1, 'Hyderabadi': 1, 'Kerala': 1, 'Turkish': 1, 'Portuguese': 1, 'Grill': 1, 'Home Food': 1, 'Indian': 2, 'Ice Cream': 2, 'Juices': 1, 'Chaat': 1, 'Kebabs': 1, 'Pan-Asian': 2, 'Oriental': 1}\n",
            "\n",
            "42\n"
          ]
        }
      ]
    },
    {
      "cell_type": "code",
      "source": [
        "Cuisine = freq_Koramangala.keys()\n",
        "freq = freq_Koramangala.values()"
      ],
      "metadata": {
        "id": "w3JH0osMoOS4"
      },
      "execution_count": 91,
      "outputs": []
    },
    {
      "cell_type": "code",
      "source": [
        "dict_Koramangala = {\n",
        "    'Cuisine' : Cuisine,\n",
        "    'Count' : freq\n",
        "}\n",
        "df_Cuisine_Koramangala = pd.DataFrame(dict_Koramangala)\n",
        "df_Cuisine_Koramangala.head()"
      ],
      "metadata": {
        "colab": {
          "base_uri": "https://localhost:8080/",
          "height": 206
        },
        "id": "Xh-yxLUPoRxg",
        "outputId": "4f1a753d-391c-4ff7-9455-b3fbf23b3dc0"
      },
      "execution_count": 92,
      "outputs": [
        {
          "output_type": "execute_result",
          "data": {
            "text/plain": [
              "        Cuisine  Count\n",
              "0        Sweets      1\n",
              "1  South Indian     11\n",
              "2  North Indian     14\n",
              "3     Fast Food      9\n",
              "4     Beverages      5"
            ],
            "text/html": [
              "\n",
              "  <div id=\"df-6693462b-54f1-4c83-9a3d-b593ab3777e2\">\n",
              "    <div class=\"colab-df-container\">\n",
              "      <div>\n",
              "<style scoped>\n",
              "    .dataframe tbody tr th:only-of-type {\n",
              "        vertical-align: middle;\n",
              "    }\n",
              "\n",
              "    .dataframe tbody tr th {\n",
              "        vertical-align: top;\n",
              "    }\n",
              "\n",
              "    .dataframe thead th {\n",
              "        text-align: right;\n",
              "    }\n",
              "</style>\n",
              "<table border=\"1\" class=\"dataframe\">\n",
              "  <thead>\n",
              "    <tr style=\"text-align: right;\">\n",
              "      <th></th>\n",
              "      <th>Cuisine</th>\n",
              "      <th>Count</th>\n",
              "    </tr>\n",
              "  </thead>\n",
              "  <tbody>\n",
              "    <tr>\n",
              "      <th>0</th>\n",
              "      <td>Sweets</td>\n",
              "      <td>1</td>\n",
              "    </tr>\n",
              "    <tr>\n",
              "      <th>1</th>\n",
              "      <td>South Indian</td>\n",
              "      <td>11</td>\n",
              "    </tr>\n",
              "    <tr>\n",
              "      <th>2</th>\n",
              "      <td>North Indian</td>\n",
              "      <td>14</td>\n",
              "    </tr>\n",
              "    <tr>\n",
              "      <th>3</th>\n",
              "      <td>Fast Food</td>\n",
              "      <td>9</td>\n",
              "    </tr>\n",
              "    <tr>\n",
              "      <th>4</th>\n",
              "      <td>Beverages</td>\n",
              "      <td>5</td>\n",
              "    </tr>\n",
              "  </tbody>\n",
              "</table>\n",
              "</div>\n",
              "      <button class=\"colab-df-convert\" onclick=\"convertToInteractive('df-6693462b-54f1-4c83-9a3d-b593ab3777e2')\"\n",
              "              title=\"Convert this dataframe to an interactive table.\"\n",
              "              style=\"display:none;\">\n",
              "        \n",
              "  <svg xmlns=\"http://www.w3.org/2000/svg\" height=\"24px\"viewBox=\"0 0 24 24\"\n",
              "       width=\"24px\">\n",
              "    <path d=\"M0 0h24v24H0V0z\" fill=\"none\"/>\n",
              "    <path d=\"M18.56 5.44l.94 2.06.94-2.06 2.06-.94-2.06-.94-.94-2.06-.94 2.06-2.06.94zm-11 1L8.5 8.5l.94-2.06 2.06-.94-2.06-.94L8.5 2.5l-.94 2.06-2.06.94zm10 10l.94 2.06.94-2.06 2.06-.94-2.06-.94-.94-2.06-.94 2.06-2.06.94z\"/><path d=\"M17.41 7.96l-1.37-1.37c-.4-.4-.92-.59-1.43-.59-.52 0-1.04.2-1.43.59L10.3 9.45l-7.72 7.72c-.78.78-.78 2.05 0 2.83L4 21.41c.39.39.9.59 1.41.59.51 0 1.02-.2 1.41-.59l7.78-7.78 2.81-2.81c.8-.78.8-2.07 0-2.86zM5.41 20L4 18.59l7.72-7.72 1.47 1.35L5.41 20z\"/>\n",
              "  </svg>\n",
              "      </button>\n",
              "      \n",
              "  <style>\n",
              "    .colab-df-container {\n",
              "      display:flex;\n",
              "      flex-wrap:wrap;\n",
              "      gap: 12px;\n",
              "    }\n",
              "\n",
              "    .colab-df-convert {\n",
              "      background-color: #E8F0FE;\n",
              "      border: none;\n",
              "      border-radius: 50%;\n",
              "      cursor: pointer;\n",
              "      display: none;\n",
              "      fill: #1967D2;\n",
              "      height: 32px;\n",
              "      padding: 0 0 0 0;\n",
              "      width: 32px;\n",
              "    }\n",
              "\n",
              "    .colab-df-convert:hover {\n",
              "      background-color: #E2EBFA;\n",
              "      box-shadow: 0px 1px 2px rgba(60, 64, 67, 0.3), 0px 1px 3px 1px rgba(60, 64, 67, 0.15);\n",
              "      fill: #174EA6;\n",
              "    }\n",
              "\n",
              "    [theme=dark] .colab-df-convert {\n",
              "      background-color: #3B4455;\n",
              "      fill: #D2E3FC;\n",
              "    }\n",
              "\n",
              "    [theme=dark] .colab-df-convert:hover {\n",
              "      background-color: #434B5C;\n",
              "      box-shadow: 0px 1px 3px 1px rgba(0, 0, 0, 0.15);\n",
              "      filter: drop-shadow(0px 1px 2px rgba(0, 0, 0, 0.3));\n",
              "      fill: #FFFFFF;\n",
              "    }\n",
              "  </style>\n",
              "\n",
              "      <script>\n",
              "        const buttonEl =\n",
              "          document.querySelector('#df-6693462b-54f1-4c83-9a3d-b593ab3777e2 button.colab-df-convert');\n",
              "        buttonEl.style.display =\n",
              "          google.colab.kernel.accessAllowed ? 'block' : 'none';\n",
              "\n",
              "        async function convertToInteractive(key) {\n",
              "          const element = document.querySelector('#df-6693462b-54f1-4c83-9a3d-b593ab3777e2');\n",
              "          const dataTable =\n",
              "            await google.colab.kernel.invokeFunction('convertToInteractive',\n",
              "                                                     [key], {});\n",
              "          if (!dataTable) return;\n",
              "\n",
              "          const docLinkHtml = 'Like what you see? Visit the ' +\n",
              "            '<a target=\"_blank\" href=https://colab.research.google.com/notebooks/data_table.ipynb>data table notebook</a>'\n",
              "            + ' to learn more about interactive tables.';\n",
              "          element.innerHTML = '';\n",
              "          dataTable['output_type'] = 'display_data';\n",
              "          await google.colab.output.renderOutput(dataTable, element);\n",
              "          const docLink = document.createElement('div');\n",
              "          docLink.innerHTML = docLinkHtml;\n",
              "          element.appendChild(docLink);\n",
              "        }\n",
              "      </script>\n",
              "    </div>\n",
              "  </div>\n",
              "  "
            ]
          },
          "metadata": {},
          "execution_count": 92
        }
      ]
    },
    {
      "cell_type": "code",
      "source": [
        "plt.figure(figsize = (20, 10))\n",
        "sns.barplot(x = df_Cuisine_Koramangala['Cuisine'], \n",
        "            y = df_Cuisine_Koramangala['Count'], \n",
        "            data = df_Cuisine_Koramangala)\n",
        "plt.xticks(rotation = 90)\n",
        "plt.title('Cuisines Analysis-Koramangala ')\n",
        "plt.xlabel('Cuisine')\n",
        "plt.ylabel('Number of Restaurants/Count')\n",
        "plt.show()"
      ],
      "metadata": {
        "colab": {
          "base_uri": "https://localhost:8080/",
          "height": 685
        },
        "id": "D2FGKTPXoYWw",
        "outputId": "e1e2d8fd-0983-46ea-b372-0a4d98f06028"
      },
      "execution_count": 93,
      "outputs": [
        {
          "output_type": "display_data",
          "data": {
            "text/plain": [
              "<Figure size 1440x720 with 1 Axes>"
            ],
            "image/png": "[encoded data removed]"
          },
          "metadata": {
            "needs_background": "light"
          }
        }
      ]
    },
    {
      "cell_type": "code",
      "source": [
        "#In Koramangala Area, Chinese is found in most no. of restaurants followed by North\n",
        "#Indian.\n",
        "#So most people are fond of the Chinese cuisines."
      ],
      "metadata": {
        "id": "9lJnX2mYovUp"
      },
      "execution_count": 94,
      "outputs": []
    },
    {
      "cell_type": "code",
      "source": [
        "#Analyzing the affordable and highest Rated resturants.\n",
        "#Affordable restaurants have cost for 2 <= 500 and rating>=4.\n",
        "df_affordable = dataset[(dataset['Cost_for_Two_In_₹'] <= 500) & (dataset['Rating'] >= 4.0)]\n",
        "df_affordable"
      ],
      "metadata": {
        "colab": {
          "base_uri": "https://localhost:8080/",
          "height": 423
        },
        "id": "WzupBIHnsmSV",
        "outputId": "b2ae5661-eb62-4ba8-cae9-98b15cea7c6d"
      },
      "execution_count": 95,
      "outputs": [
        {
          "output_type": "execute_result",
          "data": {
            "text/plain": [
              "              Shop_Name                                            Cuisine  \\\n",
              "0          Kanti Sweets                                             Sweets   \n",
              "1         Mumbai Tiffin             North Indian, Home Food, Thalis, Combo   \n",
              "2     Sri Krishna sagar  South Indian, North Indian, Fast Food, Beverag...   \n",
              "3               Al Daaz  American, Arabian, Chinese, Desserts, Fast Foo...   \n",
              "4         Beijing Bites                                      Chinese, Thai   \n",
              "..                  ...                                                ...   \n",
              "110         Biryani Pot                              North Indian, Biryani   \n",
              "111             Bowl 99                         North Indian, South Indian   \n",
              "115         Royal Treat            North Indian, Chinese, Seafood, Biryani   \n",
              "116            Thali 99                                       North Indian   \n",
              "117  Mani's Dum Biryani                                    Andhra, Biryani   \n",
              "\n",
              "                               Location  Rating  Cost_for_Two_In_₹  \n",
              "0              Koramangala, Koramangala     4.3                150  \n",
              "1                         Sector 5, HSR     4.4                400  \n",
              "2                6th Block, Koramangala     4.1                126  \n",
              "3                              HSR, HSR     4.4                400  \n",
              "4                5th Block, Koramangala     4.1                450  \n",
              "..                                  ...     ...                ...  \n",
              "110              Madiwala Junction, BTM     4.0                500  \n",
              "111             kormangala, Koramangala     4.4                200  \n",
              "115  5th block Koramangala, Koramangala     4.2                193  \n",
              "116            Koramangala, Koramangala     4.3                200  \n",
              "117              1st Block, Koramangala     4.2                400  \n",
              "\n",
              "[82 rows x 5 columns]"
            ],
            "text/html": [
              "\n",
              "  <div id=\"df-e0cfe015-ba3e-4808-a705-2987a90bad47\">\n",
              "    <div class=\"colab-df-container\">\n",
              "      <div>\n",
              "<style scoped>\n",
              "    .dataframe tbody tr th:only-of-type {\n",
              "        vertical-align: middle;\n",
              "    }\n",
              "\n",
              "    .dataframe tbody tr th {\n",
              "        vertical-align: top;\n",
              "    }\n",
              "\n",
              "    .dataframe thead th {\n",
              "        text-align: right;\n",
              "    }\n",
              "</style>\n",
              "<table border=\"1\" class=\"dataframe\">\n",
              "  <thead>\n",
              "    <tr style=\"text-align: right;\">\n",
              "      <th></th>\n",
              "      <th>Shop_Name</th>\n",
              "      <th>Cuisine</th>\n",
              "      <th>Location</th>\n",
              "      <th>Rating</th>\n",
              "      <th>Cost_for_Two_In_₹</th>\n",
              "    </tr>\n",
              "  </thead>\n",
              "  <tbody>\n",
              "    <tr>\n",
              "      <th>0</th>\n",
              "      <td>Kanti Sweets</td>\n",
              "      <td>Sweets</td>\n",
              "      <td>Koramangala, Koramangala</td>\n",
              "      <td>4.3</td>\n",
              "      <td>150</td>\n",
              "    </tr>\n",
              "    <tr>\n",
              "      <th>1</th>\n",
              "      <td>Mumbai Tiffin</td>\n",
              "      <td>North Indian, Home Food, Thalis, Combo</td>\n",
              "      <td>Sector 5, HSR</td>\n",
              "      <td>4.4</td>\n",
              "      <td>400</td>\n",
              "    </tr>\n",
              "    <tr>\n",
              "      <th>2</th>\n",
              "      <td>Sri Krishna sagar</td>\n",
              "      <td>South Indian, North Indian, Fast Food, Beverag...</td>\n",
              "      <td>6th Block, Koramangala</td>\n",
              "      <td>4.1</td>\n",
              "      <td>126</td>\n",
              "    </tr>\n",
              "    <tr>\n",
              "      <th>3</th>\n",
              "      <td>Al Daaz</td>\n",
              "      <td>American, Arabian, Chinese, Desserts, Fast Foo...</td>\n",
              "      <td>HSR, HSR</td>\n",
              "      <td>4.4</td>\n",
              "      <td>400</td>\n",
              "    </tr>\n",
              "    <tr>\n",
              "      <th>4</th>\n",
              "      <td>Beijing Bites</td>\n",
              "      <td>Chinese, Thai</td>\n",
              "      <td>5th Block, Koramangala</td>\n",
              "      <td>4.1</td>\n",
              "      <td>450</td>\n",
              "    </tr>\n",
              "    <tr>\n",
              "      <th>...</th>\n",
              "      <td>...</td>\n",
              "      <td>...</td>\n",
              "      <td>...</td>\n",
              "      <td>...</td>\n",
              "      <td>...</td>\n",
              "    </tr>\n",
              "    <tr>\n",
              "      <th>110</th>\n",
              "      <td>Biryani Pot</td>\n",
              "      <td>North Indian, Biryani</td>\n",
              "      <td>Madiwala Junction, BTM</td>\n",
              "      <td>4.0</td>\n",
              "      <td>500</td>\n",
              "    </tr>\n",
              "    <tr>\n",
              "      <th>111</th>\n",
              "      <td>Bowl 99</td>\n",
              "      <td>North Indian, South Indian</td>\n",
              "      <td>kormangala, Koramangala</td>\n",
              "      <td>4.4</td>\n",
              "      <td>200</td>\n",
              "    </tr>\n",
              "    <tr>\n",
              "      <th>115</th>\n",
              "      <td>Royal Treat</td>\n",
              "      <td>North Indian, Chinese, Seafood, Biryani</td>\n",
              "      <td>5th block Koramangala, Koramangala</td>\n",
              "      <td>4.2</td>\n",
              "      <td>193</td>\n",
              "    </tr>\n",
              "    <tr>\n",
              "      <th>116</th>\n",
              "      <td>Thali 99</td>\n",
              "      <td>North Indian</td>\n",
              "      <td>Koramangala, Koramangala</td>\n",
              "      <td>4.3</td>\n",
              "      <td>200</td>\n",
              "    </tr>\n",
              "    <tr>\n",
              "      <th>117</th>\n",
              "      <td>Mani's Dum Biryani</td>\n",
              "      <td>Andhra, Biryani</td>\n",
              "      <td>1st Block, Koramangala</td>\n",
              "      <td>4.2</td>\n",
              "      <td>400</td>\n",
              "    </tr>\n",
              "  </tbody>\n",
              "</table>\n",
              "<p>82 rows × 5 columns</p>\n",
              "</div>\n",
              "      <button class=\"colab-df-convert\" onclick=\"convertToInteractive('df-e0cfe015-ba3e-4808-a705-2987a90bad47')\"\n",
              "              title=\"Convert this dataframe to an interactive table.\"\n",
              "              style=\"display:none;\">\n",
              "        \n",
              "  <svg xmlns=\"http://www.w3.org/2000/svg\" height=\"24px\"viewBox=\"0 0 24 24\"\n",
              "       width=\"24px\">\n",
              "    <path d=\"M0 0h24v24H0V0z\" fill=\"none\"/>\n",
              "    <path d=\"M18.56 5.44l.94 2.06.94-2.06 2.06-.94-2.06-.94-.94-2.06-.94 2.06-2.06.94zm-11 1L8.5 8.5l.94-2.06 2.06-.94-2.06-.94L8.5 2.5l-.94 2.06-2.06.94zm10 10l.94 2.06.94-2.06 2.06-.94-2.06-.94-.94-2.06-.94 2.06-2.06.94z\"/><path d=\"M17.41 7.96l-1.37-1.37c-.4-.4-.92-.59-1.43-.59-.52 0-1.04.2-1.43.59L10.3 9.45l-7.72 7.72c-.78.78-.78 2.05 0 2.83L4 21.41c.39.39.9.59 1.41.59.51 0 1.02-.2 1.41-.59l7.78-7.78 2.81-2.81c.8-.78.8-2.07 0-2.86zM5.41 20L4 18.59l7.72-7.72 1.47 1.35L5.41 20z\"/>\n",
              "  </svg>\n",
              "      </button>\n",
              "      \n",
              "  <style>\n",
              "    .colab-df-container {\n",
              "      display:flex;\n",
              "      flex-wrap:wrap;\n",
              "      gap: 12px;\n",
              "    }\n",
              "\n",
              "    .colab-df-convert {\n",
              "      background-color: #E8F0FE;\n",
              "      border: none;\n",
              "      border-radius: 50%;\n",
              "      cursor: pointer;\n",
              "      display: none;\n",
              "      fill: #1967D2;\n",
              "      height: 32px;\n",
              "      padding: 0 0 0 0;\n",
              "      width: 32px;\n",
              "    }\n",
              "\n",
              "    .colab-df-convert:hover {\n",
              "      background-color: #E2EBFA;\n",
              "      box-shadow: 0px 1px 2px rgba(60, 64, 67, 0.3), 0px 1px 3px 1px rgba(60, 64, 67, 0.15);\n",
              "      fill: #174EA6;\n",
              "    }\n",
              "\n",
              "    [theme=dark] .colab-df-convert {\n",
              "      background-color: #3B4455;\n",
              "      fill: #D2E3FC;\n",
              "    }\n",
              "\n",
              "    [theme=dark] .colab-df-convert:hover {\n",
              "      background-color: #434B5C;\n",
              "      box-shadow: 0px 1px 3px 1px rgba(0, 0, 0, 0.15);\n",
              "      filter: drop-shadow(0px 1px 2px rgba(0, 0, 0, 0.3));\n",
              "      fill: #FFFFFF;\n",
              "    }\n",
              "  </style>\n",
              "\n",
              "      <script>\n",
              "        const buttonEl =\n",
              "          document.querySelector('#df-e0cfe015-ba3e-4808-a705-2987a90bad47 button.colab-df-convert');\n",
              "        buttonEl.style.display =\n",
              "          google.colab.kernel.accessAllowed ? 'block' : 'none';\n",
              "\n",
              "        async function convertToInteractive(key) {\n",
              "          const element = document.querySelector('#df-e0cfe015-ba3e-4808-a705-2987a90bad47');\n",
              "          const dataTable =\n",
              "            await google.colab.kernel.invokeFunction('convertToInteractive',\n",
              "                                                     [key], {});\n",
              "          if (!dataTable) return;\n",
              "\n",
              "          const docLinkHtml = 'Like what you see? Visit the ' +\n",
              "            '<a target=\"_blank\" href=https://colab.research.google.com/notebooks/data_table.ipynb>data table notebook</a>'\n",
              "            + ' to learn more about interactive tables.';\n",
              "          element.innerHTML = '';\n",
              "          dataTable['output_type'] = 'display_data';\n",
              "          await google.colab.output.renderOutput(dataTable, element);\n",
              "          const docLink = document.createElement('div');\n",
              "          docLink.innerHTML = docLinkHtml;\n",
              "          element.appendChild(docLink);\n",
              "        }\n",
              "      </script>\n",
              "    </div>\n",
              "  </div>\n",
              "  "
            ]
          },
          "metadata": {},
          "execution_count": 95
        }
      ]
    },
    {
      "cell_type": "code",
      "source": [
        "df_affordable = df_affordable.groupby(['Shop_Name', 'Rating'])['Cost_for_Two_In_₹'].agg('mean')\n",
        "df_affordable = df_affordable.reset_index()\n",
        "df_affordable"
      ],
      "metadata": {
        "colab": {
          "base_uri": "https://localhost:8080/",
          "height": 423
        },
        "id": "QiQL8RG0tak3",
        "outputId": "82eca1fc-3888-442d-dcad-2f17f9185ea3"
      },
      "execution_count": 96,
      "outputs": [
        {
          "output_type": "execute_result",
          "data": {
            "text/plain": [
              "                                            Shop_Name  Rating  \\\n",
              "0     99 VARIETY DOSA AND JUICE-Malli mane food court     4.1   \n",
              "1   99 VARIETY DOSA AND PAV BHAJI- Malli Mane Food...     4.1   \n",
              "2                           A2B - Adyar Ananda Bhavan     4.2   \n",
              "3                                     Abhiruchi Hotel     4.0   \n",
              "4                                             Al Daaz     4.4   \n",
              "..                                                ...     ...   \n",
              "76                               Venu's Donne Biryani     4.3   \n",
              "77                           WarmOven Cake & Desserts     4.1   \n",
              "78                                      World of asia     4.0   \n",
              "79                                  XO Belgian Waffle     4.3   \n",
              "80                            calicut cafe restaurant     4.1   \n",
              "\n",
              "    Cost_for_Two_In_₹  \n",
              "0               100.0  \n",
              "1               200.0  \n",
              "2               450.0  \n",
              "3               250.0  \n",
              "4               400.0  \n",
              "..                ...  \n",
              "76              300.0  \n",
              "77              200.0  \n",
              "78              250.0  \n",
              "79              250.0  \n",
              "80              280.0  \n",
              "\n",
              "[81 rows x 3 columns]"
            ],
            "text/html": [
              "\n",
              "  <div id=\"df-e203b9ef-1668-4ca6-9c48-6a89d54fa124\">\n",
              "    <div class=\"colab-df-container\">\n",
              "      <div>\n",
              "<style scoped>\n",
              "    .dataframe tbody tr th:only-of-type {\n",
              "        vertical-align: middle;\n",
              "    }\n",
              "\n",
              "    .dataframe tbody tr th {\n",
              "        vertical-align: top;\n",
              "    }\n",
              "\n",
              "    .dataframe thead th {\n",
              "        text-align: right;\n",
              "    }\n",
              "</style>\n",
              "<table border=\"1\" class=\"dataframe\">\n",
              "  <thead>\n",
              "    <tr style=\"text-align: right;\">\n",
              "      <th></th>\n",
              "      <th>Shop_Name</th>\n",
              "      <th>Rating</th>\n",
              "      <th>Cost_for_Two_In_₹</th>\n",
              "    </tr>\n",
              "  </thead>\n",
              "  <tbody>\n",
              "    <tr>\n",
              "      <th>0</th>\n",
              "      <td>99 VARIETY DOSA AND JUICE-Malli mane food court</td>\n",
              "      <td>4.1</td>\n",
              "      <td>100.0</td>\n",
              "    </tr>\n",
              "    <tr>\n",
              "      <th>1</th>\n",
              "      <td>99 VARIETY DOSA AND PAV BHAJI- Malli Mane Food...</td>\n",
              "      <td>4.1</td>\n",
              "      <td>200.0</td>\n",
              "    </tr>\n",
              "    <tr>\n",
              "      <th>2</th>\n",
              "      <td>A2B - Adyar Ananda Bhavan</td>\n",
              "      <td>4.2</td>\n",
              "      <td>450.0</td>\n",
              "    </tr>\n",
              "    <tr>\n",
              "      <th>3</th>\n",
              "      <td>Abhiruchi Hotel</td>\n",
              "      <td>4.0</td>\n",
              "      <td>250.0</td>\n",
              "    </tr>\n",
              "    <tr>\n",
              "      <th>4</th>\n",
              "      <td>Al Daaz</td>\n",
              "      <td>4.4</td>\n",
              "      <td>400.0</td>\n",
              "    </tr>\n",
              "    <tr>\n",
              "      <th>...</th>\n",
              "      <td>...</td>\n",
              "      <td>...</td>\n",
              "      <td>...</td>\n",
              "    </tr>\n",
              "    <tr>\n",
              "      <th>76</th>\n",
              "      <td>Venu's Donne Biryani</td>\n",
              "      <td>4.3</td>\n",
              "      <td>300.0</td>\n",
              "    </tr>\n",
              "    <tr>\n",
              "      <th>77</th>\n",
              "      <td>WarmOven Cake &amp; Desserts</td>\n",
              "      <td>4.1</td>\n",
              "      <td>200.0</td>\n",
              "    </tr>\n",
              "    <tr>\n",
              "      <th>78</th>\n",
              "      <td>World of asia</td>\n",
              "      <td>4.0</td>\n",
              "      <td>250.0</td>\n",
              "    </tr>\n",
              "    <tr>\n",
              "      <th>79</th>\n",
              "      <td>XO Belgian Waffle</td>\n",
              "      <td>4.3</td>\n",
              "      <td>250.0</td>\n",
              "    </tr>\n",
              "    <tr>\n",
              "      <th>80</th>\n",
              "      <td>calicut cafe restaurant</td>\n",
              "      <td>4.1</td>\n",
              "      <td>280.0</td>\n",
              "    </tr>\n",
              "  </tbody>\n",
              "</table>\n",
              "<p>81 rows × 3 columns</p>\n",
              "</div>\n",
              "      <button class=\"colab-df-convert\" onclick=\"convertToInteractive('df-e203b9ef-1668-4ca6-9c48-6a89d54fa124')\"\n",
              "              title=\"Convert this dataframe to an interactive table.\"\n",
              "              style=\"display:none;\">\n",
              "        \n",
              "  <svg xmlns=\"http://www.w3.org/2000/svg\" height=\"24px\"viewBox=\"0 0 24 24\"\n",
              "       width=\"24px\">\n",
              "    <path d=\"M0 0h24v24H0V0z\" fill=\"none\"/>\n",
              "    <path d=\"M18.56 5.44l.94 2.06.94-2.06 2.06-.94-2.06-.94-.94-2.06-.94 2.06-2.06.94zm-11 1L8.5 8.5l.94-2.06 2.06-.94-2.06-.94L8.5 2.5l-.94 2.06-2.06.94zm10 10l.94 2.06.94-2.06 2.06-.94-2.06-.94-.94-2.06-.94 2.06-2.06.94z\"/><path d=\"M17.41 7.96l-1.37-1.37c-.4-.4-.92-.59-1.43-.59-.52 0-1.04.2-1.43.59L10.3 9.45l-7.72 7.72c-.78.78-.78 2.05 0 2.83L4 21.41c.39.39.9.59 1.41.59.51 0 1.02-.2 1.41-.59l7.78-7.78 2.81-2.81c.8-.78.8-2.07 0-2.86zM5.41 20L4 18.59l7.72-7.72 1.47 1.35L5.41 20z\"/>\n",
              "  </svg>\n",
              "      </button>\n",
              "      \n",
              "  <style>\n",
              "    .colab-df-container {\n",
              "      display:flex;\n",
              "      flex-wrap:wrap;\n",
              "      gap: 12px;\n",
              "    }\n",
              "\n",
              "    .colab-df-convert {\n",
              "      background-color: #E8F0FE;\n",
              "      border: none;\n",
              "      border-radius: 50%;\n",
              "      cursor: pointer;\n",
              "      display: none;\n",
              "      fill: #1967D2;\n",
              "      height: 32px;\n",
              "      padding: 0 0 0 0;\n",
              "      width: 32px;\n",
              "    }\n",
              "\n",
              "    .colab-df-convert:hover {\n",
              "      background-color: #E2EBFA;\n",
              "      box-shadow: 0px 1px 2px rgba(60, 64, 67, 0.3), 0px 1px 3px 1px rgba(60, 64, 67, 0.15);\n",
              "      fill: #174EA6;\n",
              "    }\n",
              "\n",
              "    [theme=dark] .colab-df-convert {\n",
              "      background-color: #3B4455;\n",
              "      fill: #D2E3FC;\n",
              "    }\n",
              "\n",
              "    [theme=dark] .colab-df-convert:hover {\n",
              "      background-color: #434B5C;\n",
              "      box-shadow: 0px 1px 3px 1px rgba(0, 0, 0, 0.15);\n",
              "      filter: drop-shadow(0px 1px 2px rgba(0, 0, 0, 0.3));\n",
              "      fill: #FFFFFF;\n",
              "    }\n",
              "  </style>\n",
              "\n",
              "      <script>\n",
              "        const buttonEl =\n",
              "          document.querySelector('#df-e203b9ef-1668-4ca6-9c48-6a89d54fa124 button.colab-df-convert');\n",
              "        buttonEl.style.display =\n",
              "          google.colab.kernel.accessAllowed ? 'block' : 'none';\n",
              "\n",
              "        async function convertToInteractive(key) {\n",
              "          const element = document.querySelector('#df-e203b9ef-1668-4ca6-9c48-6a89d54fa124');\n",
              "          const dataTable =\n",
              "            await google.colab.kernel.invokeFunction('convertToInteractive',\n",
              "                                                     [key], {});\n",
              "          if (!dataTable) return;\n",
              "\n",
              "          const docLinkHtml = 'Like what you see? Visit the ' +\n",
              "            '<a target=\"_blank\" href=https://colab.research.google.com/notebooks/data_table.ipynb>data table notebook</a>'\n",
              "            + ' to learn more about interactive tables.';\n",
              "          element.innerHTML = '';\n",
              "          dataTable['output_type'] = 'display_data';\n",
              "          await google.colab.output.renderOutput(dataTable, element);\n",
              "          const docLink = document.createElement('div');\n",
              "          docLink.innerHTML = docLinkHtml;\n",
              "          element.appendChild(docLink);\n",
              "        }\n",
              "      </script>\n",
              "    </div>\n",
              "  </div>\n",
              "  "
            ]
          },
          "metadata": {},
          "execution_count": 96
        }
      ]
    },
    {
      "cell_type": "code",
      "source": [
        "df_affordable.sort_values(by = ['Rating'], ascending = False, inplace = True)\n",
        "df_affordable"
      ],
      "metadata": {
        "colab": {
          "base_uri": "https://localhost:8080/",
          "height": 423
        },
        "id": "aTS6WOz8tvYr",
        "outputId": "763cfec9-7f8a-4345-c7d4-307c08145dca"
      },
      "execution_count": 97,
      "outputs": [
        {
          "output_type": "execute_result",
          "data": {
            "text/plain": [
              "                  Shop_Name  Rating  Cost_for_Two_In_₹\n",
              "41       Khichdi Experiment     4.8              200.0\n",
              "54        Natural Ice Cream     4.6              150.0\n",
              "21   Corner House Ice Cream     4.6              250.0\n",
              "20              Chinese Bae     4.5              450.0\n",
              "50            Mumbai Tiffin     4.4              400.0\n",
              "..                      ...     ...                ...\n",
              "55      New Tasty Cafeteria     4.0              350.0\n",
              "53          Nandhana Palace     4.0              500.0\n",
              "52                  Nanda's     4.0              400.0\n",
              "45             Maa Di Hatti     4.0              129.0\n",
              "29  Gyaani Da Punjabi Dhaba     4.0              500.0\n",
              "\n",
              "[81 rows x 3 columns]"
            ],
            "text/html": [
              "\n",
              "  <div id=\"df-96759289-e776-45d8-8743-8728cc0dc528\">\n",
              "    <div class=\"colab-df-container\">\n",
              "      <div>\n",
              "<style scoped>\n",
              "    .dataframe tbody tr th:only-of-type {\n",
              "        vertical-align: middle;\n",
              "    }\n",
              "\n",
              "    .dataframe tbody tr th {\n",
              "        vertical-align: top;\n",
              "    }\n",
              "\n",
              "    .dataframe thead th {\n",
              "        text-align: right;\n",
              "    }\n",
              "</style>\n",
              "<table border=\"1\" class=\"dataframe\">\n",
              "  <thead>\n",
              "    <tr style=\"text-align: right;\">\n",
              "      <th></th>\n",
              "      <th>Shop_Name</th>\n",
              "      <th>Rating</th>\n",
              "      <th>Cost_for_Two_In_₹</th>\n",
              "    </tr>\n",
              "  </thead>\n",
              "  <tbody>\n",
              "    <tr>\n",
              "      <th>41</th>\n",
              "      <td>Khichdi Experiment</td>\n",
              "      <td>4.8</td>\n",
              "      <td>200.0</td>\n",
              "    </tr>\n",
              "    <tr>\n",
              "      <th>54</th>\n",
              "      <td>Natural Ice Cream</td>\n",
              "      <td>4.6</td>\n",
              "      <td>150.0</td>\n",
              "    </tr>\n",
              "    <tr>\n",
              "      <th>21</th>\n",
              "      <td>Corner House Ice Cream</td>\n",
              "      <td>4.6</td>\n",
              "      <td>250.0</td>\n",
              "    </tr>\n",
              "    <tr>\n",
              "      <th>20</th>\n",
              "      <td>Chinese Bae</td>\n",
              "      <td>4.5</td>\n",
              "      <td>450.0</td>\n",
              "    </tr>\n",
              "    <tr>\n",
              "      <th>50</th>\n",
              "      <td>Mumbai Tiffin</td>\n",
              "      <td>4.4</td>\n",
              "      <td>400.0</td>\n",
              "    </tr>\n",
              "    <tr>\n",
              "      <th>...</th>\n",
              "      <td>...</td>\n",
              "      <td>...</td>\n",
              "      <td>...</td>\n",
              "    </tr>\n",
              "    <tr>\n",
              "      <th>55</th>\n",
              "      <td>New Tasty Cafeteria</td>\n",
              "      <td>4.0</td>\n",
              "      <td>350.0</td>\n",
              "    </tr>\n",
              "    <tr>\n",
              "      <th>53</th>\n",
              "      <td>Nandhana Palace</td>\n",
              "      <td>4.0</td>\n",
              "      <td>500.0</td>\n",
              "    </tr>\n",
              "    <tr>\n",
              "      <th>52</th>\n",
              "      <td>Nanda's</td>\n",
              "      <td>4.0</td>\n",
              "      <td>400.0</td>\n",
              "    </tr>\n",
              "    <tr>\n",
              "      <th>45</th>\n",
              "      <td>Maa Di Hatti</td>\n",
              "      <td>4.0</td>\n",
              "      <td>129.0</td>\n",
              "    </tr>\n",
              "    <tr>\n",
              "      <th>29</th>\n",
              "      <td>Gyaani Da Punjabi Dhaba</td>\n",
              "      <td>4.0</td>\n",
              "      <td>500.0</td>\n",
              "    </tr>\n",
              "  </tbody>\n",
              "</table>\n",
              "<p>81 rows × 3 columns</p>\n",
              "</div>\n",
              "      <button class=\"colab-df-convert\" onclick=\"convertToInteractive('df-96759289-e776-45d8-8743-8728cc0dc528')\"\n",
              "              title=\"Convert this dataframe to an interactive table.\"\n",
              "              style=\"display:none;\">\n",
              "        \n",
              "  <svg xmlns=\"http://www.w3.org/2000/svg\" height=\"24px\"viewBox=\"0 0 24 24\"\n",
              "       width=\"24px\">\n",
              "    <path d=\"M0 0h24v24H0V0z\" fill=\"none\"/>\n",
              "    <path d=\"M18.56 5.44l.94 2.06.94-2.06 2.06-.94-2.06-.94-.94-2.06-.94 2.06-2.06.94zm-11 1L8.5 8.5l.94-2.06 2.06-.94-2.06-.94L8.5 2.5l-.94 2.06-2.06.94zm10 10l.94 2.06.94-2.06 2.06-.94-2.06-.94-.94-2.06-.94 2.06-2.06.94z\"/><path d=\"M17.41 7.96l-1.37-1.37c-.4-.4-.92-.59-1.43-.59-.52 0-1.04.2-1.43.59L10.3 9.45l-7.72 7.72c-.78.78-.78 2.05 0 2.83L4 21.41c.39.39.9.59 1.41.59.51 0 1.02-.2 1.41-.59l7.78-7.78 2.81-2.81c.8-.78.8-2.07 0-2.86zM5.41 20L4 18.59l7.72-7.72 1.47 1.35L5.41 20z\"/>\n",
              "  </svg>\n",
              "      </button>\n",
              "      \n",
              "  <style>\n",
              "    .colab-df-container {\n",
              "      display:flex;\n",
              "      flex-wrap:wrap;\n",
              "      gap: 12px;\n",
              "    }\n",
              "\n",
              "    .colab-df-convert {\n",
              "      background-color: #E8F0FE;\n",
              "      border: none;\n",
              "      border-radius: 50%;\n",
              "      cursor: pointer;\n",
              "      display: none;\n",
              "      fill: #1967D2;\n",
              "      height: 32px;\n",
              "      padding: 0 0 0 0;\n",
              "      width: 32px;\n",
              "    }\n",
              "\n",
              "    .colab-df-convert:hover {\n",
              "      background-color: #E2EBFA;\n",
              "      box-shadow: 0px 1px 2px rgba(60, 64, 67, 0.3), 0px 1px 3px 1px rgba(60, 64, 67, 0.15);\n",
              "      fill: #174EA6;\n",
              "    }\n",
              "\n",
              "    [theme=dark] .colab-df-convert {\n",
              "      background-color: #3B4455;\n",
              "      fill: #D2E3FC;\n",
              "    }\n",
              "\n",
              "    [theme=dark] .colab-df-convert:hover {\n",
              "      background-color: #434B5C;\n",
              "      box-shadow: 0px 1px 3px 1px rgba(0, 0, 0, 0.15);\n",
              "      filter: drop-shadow(0px 1px 2px rgba(0, 0, 0, 0.3));\n",
              "      fill: #FFFFFF;\n",
              "    }\n",
              "  </style>\n",
              "\n",
              "      <script>\n",
              "        const buttonEl =\n",
              "          document.querySelector('#df-96759289-e776-45d8-8743-8728cc0dc528 button.colab-df-convert');\n",
              "        buttonEl.style.display =\n",
              "          google.colab.kernel.accessAllowed ? 'block' : 'none';\n",
              "\n",
              "        async function convertToInteractive(key) {\n",
              "          const element = document.querySelector('#df-96759289-e776-45d8-8743-8728cc0dc528');\n",
              "          const dataTable =\n",
              "            await google.colab.kernel.invokeFunction('convertToInteractive',\n",
              "                                                     [key], {});\n",
              "          if (!dataTable) return;\n",
              "\n",
              "          const docLinkHtml = 'Like what you see? Visit the ' +\n",
              "            '<a target=\"_blank\" href=https://colab.research.google.com/notebooks/data_table.ipynb>data table notebook</a>'\n",
              "            + ' to learn more about interactive tables.';\n",
              "          element.innerHTML = '';\n",
              "          dataTable['output_type'] = 'display_data';\n",
              "          await google.colab.output.renderOutput(dataTable, element);\n",
              "          const docLink = document.createElement('div');\n",
              "          docLink.innerHTML = docLinkHtml;\n",
              "          element.appendChild(docLink);\n",
              "        }\n",
              "      </script>\n",
              "    </div>\n",
              "  </div>\n",
              "  "
            ]
          },
          "metadata": {},
          "execution_count": 97
        }
      ]
    },
    {
      "cell_type": "code",
      "source": [
        "plt.figure(figsize = (20, 10))\n",
        "sns.barplot(x = df_affordable['Shop_Name'], y = df_affordable['Cost_for_Two_In_₹'],\n",
        "           data = df_affordable)\n",
        "plt.title('Affordable and Highest Rated Restaurants')\n",
        "plt.xlabel('Shop_Name')\n",
        "plt.ylabel('Approx. Cost_for_Two_In_₹')\n",
        "plt.xticks(rotation = 90)\n",
        "plt.show()"
      ],
      "metadata": {
        "colab": {
          "base_uri": "https://localhost:8080/",
          "height": 896
        },
        "id": "SV6ALJnguAQw",
        "outputId": "926daede-8605-424c-febf-b4a01c596f5a"
      },
      "execution_count": 98,
      "outputs": [
        {
          "output_type": "display_data",
          "data": {
            "text/plain": [
              "<Figure size 1440x720 with 1 Axes>"
            ],
            "image/png": "[encoded data removed]"
          },
          "metadata": {
            "needs_background": "light"
          }
        }
      ]
    },
    {
      "cell_type": "code",
      "source": [
        "#So,the most affordable hotels are Madeena Hotel,Biryani Crafts,Ambur Star Biryani\n",
        "#and Biryani Pot etc."
      ],
      "metadata": {
        "id": "qi1DMrciu6fn"
      },
      "execution_count": 99,
      "outputs": []
    },
    {
      "cell_type": "code",
      "source": [
        "#TOP 5 Cheapest and highest rated restaurants with approx. cost for 2 people.\n",
        "df_cheapest=df_affordable.sort_values(by='Cost_for_Two_In_₹',ascending=True)\n",
        "df_cheapest"
      ],
      "metadata": {
        "colab": {
          "base_uri": "https://localhost:8080/",
          "height": 423
        },
        "id": "JjM8XKhCp1YF",
        "outputId": "3a40c1bc-6adf-44cb-c00a-3b149f6128bb"
      },
      "execution_count": 100,
      "outputs": [
        {
          "output_type": "execute_result",
          "data": {
            "text/plain": [
              "                                          Shop_Name  Rating  Cost_for_Two_In_₹\n",
              "72                                Tandoori Merchant     4.2              100.0\n",
              "0   99 VARIETY DOSA AND JUICE-Malli mane food court     4.1              100.0\n",
              "51                           NIC Natural Ice Creams     4.2              120.0\n",
              "68                                Sri Krishna sagar     4.1              126.0\n",
              "45                                     Maa Di Hatti     4.0              129.0\n",
              "..                                              ...     ...                ...\n",
              "5                                Ambur Star Briyani     4.1              500.0\n",
              "7                                    BIRYANI CRAFTS     4.1              500.0\n",
              "53                                  Nandhana Palace     4.0              500.0\n",
              "46                                    Madeena Hotel     4.1              500.0\n",
              "29                          Gyaani Da Punjabi Dhaba     4.0              500.0\n",
              "\n",
              "[81 rows x 3 columns]"
            ],
            "text/html": [
              "\n",
              "  <div id=\"df-e77d94da-32dd-4d06-b944-76525e1759c2\">\n",
              "    <div class=\"colab-df-container\">\n",
              "      <div>\n",
              "<style scoped>\n",
              "    .dataframe tbody tr th:only-of-type {\n",
              "        vertical-align: middle;\n",
              "    }\n",
              "\n",
              "    .dataframe tbody tr th {\n",
              "        vertical-align: top;\n",
              "    }\n",
              "\n",
              "    .dataframe thead th {\n",
              "        text-align: right;\n",
              "    }\n",
              "</style>\n",
              "<table border=\"1\" class=\"dataframe\">\n",
              "  <thead>\n",
              "    <tr style=\"text-align: right;\">\n",
              "      <th></th>\n",
              "      <th>Shop_Name</th>\n",
              "      <th>Rating</th>\n",
              "      <th>Cost_for_Two_In_₹</th>\n",
              "    </tr>\n",
              "  </thead>\n",
              "  <tbody>\n",
              "    <tr>\n",
              "      <th>72</th>\n",
              "      <td>Tandoori Merchant</td>\n",
              "      <td>4.2</td>\n",
              "      <td>100.0</td>\n",
              "    </tr>\n",
              "    <tr>\n",
              "      <th>0</th>\n",
              "      <td>99 VARIETY DOSA AND JUICE-Malli mane food court</td>\n",
              "      <td>4.1</td>\n",
              "      <td>100.0</td>\n",
              "    </tr>\n",
              "    <tr>\n",
              "      <th>51</th>\n",
              "      <td>NIC Natural Ice Creams</td>\n",
              "      <td>4.2</td>\n",
              "      <td>120.0</td>\n",
              "    </tr>\n",
              "    <tr>\n",
              "      <th>68</th>\n",
              "      <td>Sri Krishna sagar</td>\n",
              "      <td>4.1</td>\n",
              "      <td>126.0</td>\n",
              "    </tr>\n",
              "    <tr>\n",
              "      <th>45</th>\n",
              "      <td>Maa Di Hatti</td>\n",
              "      <td>4.0</td>\n",
              "      <td>129.0</td>\n",
              "    </tr>\n",
              "    <tr>\n",
              "      <th>...</th>\n",
              "      <td>...</td>\n",
              "      <td>...</td>\n",
              "      <td>...</td>\n",
              "    </tr>\n",
              "    <tr>\n",
              "      <th>5</th>\n",
              "      <td>Ambur Star Briyani</td>\n",
              "      <td>4.1</td>\n",
              "      <td>500.0</td>\n",
              "    </tr>\n",
              "    <tr>\n",
              "      <th>7</th>\n",
              "      <td>BIRYANI CRAFTS</td>\n",
              "      <td>4.1</td>\n",
              "      <td>500.0</td>\n",
              "    </tr>\n",
              "    <tr>\n",
              "      <th>53</th>\n",
              "      <td>Nandhana Palace</td>\n",
              "      <td>4.0</td>\n",
              "      <td>500.0</td>\n",
              "    </tr>\n",
              "    <tr>\n",
              "      <th>46</th>\n",
              "      <td>Madeena Hotel</td>\n",
              "      <td>4.1</td>\n",
              "      <td>500.0</td>\n",
              "    </tr>\n",
              "    <tr>\n",
              "      <th>29</th>\n",
              "      <td>Gyaani Da Punjabi Dhaba</td>\n",
              "      <td>4.0</td>\n",
              "      <td>500.0</td>\n",
              "    </tr>\n",
              "  </tbody>\n",
              "</table>\n",
              "<p>81 rows × 3 columns</p>\n",
              "</div>\n",
              "      <button class=\"colab-df-convert\" onclick=\"convertToInteractive('df-e77d94da-32dd-4d06-b944-76525e1759c2')\"\n",
              "              title=\"Convert this dataframe to an interactive table.\"\n",
              "              style=\"display:none;\">\n",
              "        \n",
              "  <svg xmlns=\"http://www.w3.org/2000/svg\" height=\"24px\"viewBox=\"0 0 24 24\"\n",
              "       width=\"24px\">\n",
              "    <path d=\"M0 0h24v24H0V0z\" fill=\"none\"/>\n",
              "    <path d=\"M18.56 5.44l.94 2.06.94-2.06 2.06-.94-2.06-.94-.94-2.06-.94 2.06-2.06.94zm-11 1L8.5 8.5l.94-2.06 2.06-.94-2.06-.94L8.5 2.5l-.94 2.06-2.06.94zm10 10l.94 2.06.94-2.06 2.06-.94-2.06-.94-.94-2.06-.94 2.06-2.06.94z\"/><path d=\"M17.41 7.96l-1.37-1.37c-.4-.4-.92-.59-1.43-.59-.52 0-1.04.2-1.43.59L10.3 9.45l-7.72 7.72c-.78.78-.78 2.05 0 2.83L4 21.41c.39.39.9.59 1.41.59.51 0 1.02-.2 1.41-.59l7.78-7.78 2.81-2.81c.8-.78.8-2.07 0-2.86zM5.41 20L4 18.59l7.72-7.72 1.47 1.35L5.41 20z\"/>\n",
              "  </svg>\n",
              "      </button>\n",
              "      \n",
              "  <style>\n",
              "    .colab-df-container {\n",
              "      display:flex;\n",
              "      flex-wrap:wrap;\n",
              "      gap: 12px;\n",
              "    }\n",
              "\n",
              "    .colab-df-convert {\n",
              "      background-color: #E8F0FE;\n",
              "      border: none;\n",
              "      border-radius: 50%;\n",
              "      cursor: pointer;\n",
              "      display: none;\n",
              "      fill: #1967D2;\n",
              "      height: 32px;\n",
              "      padding: 0 0 0 0;\n",
              "      width: 32px;\n",
              "    }\n",
              "\n",
              "    .colab-df-convert:hover {\n",
              "      background-color: #E2EBFA;\n",
              "      box-shadow: 0px 1px 2px rgba(60, 64, 67, 0.3), 0px 1px 3px 1px rgba(60, 64, 67, 0.15);\n",
              "      fill: #174EA6;\n",
              "    }\n",
              "\n",
              "    [theme=dark] .colab-df-convert {\n",
              "      background-color: #3B4455;\n",
              "      fill: #D2E3FC;\n",
              "    }\n",
              "\n",
              "    [theme=dark] .colab-df-convert:hover {\n",
              "      background-color: #434B5C;\n",
              "      box-shadow: 0px 1px 3px 1px rgba(0, 0, 0, 0.15);\n",
              "      filter: drop-shadow(0px 1px 2px rgba(0, 0, 0, 0.3));\n",
              "      fill: #FFFFFF;\n",
              "    }\n",
              "  </style>\n",
              "\n",
              "      <script>\n",
              "        const buttonEl =\n",
              "          document.querySelector('#df-e77d94da-32dd-4d06-b944-76525e1759c2 button.colab-df-convert');\n",
              "        buttonEl.style.display =\n",
              "          google.colab.kernel.accessAllowed ? 'block' : 'none';\n",
              "\n",
              "        async function convertToInteractive(key) {\n",
              "          const element = document.querySelector('#df-e77d94da-32dd-4d06-b944-76525e1759c2');\n",
              "          const dataTable =\n",
              "            await google.colab.kernel.invokeFunction('convertToInteractive',\n",
              "                                                     [key], {});\n",
              "          if (!dataTable) return;\n",
              "\n",
              "          const docLinkHtml = 'Like what you see? Visit the ' +\n",
              "            '<a target=\"_blank\" href=https://colab.research.google.com/notebooks/data_table.ipynb>data table notebook</a>'\n",
              "            + ' to learn more about interactive tables.';\n",
              "          element.innerHTML = '';\n",
              "          dataTable['output_type'] = 'display_data';\n",
              "          await google.colab.output.renderOutput(dataTable, element);\n",
              "          const docLink = document.createElement('div');\n",
              "          docLink.innerHTML = docLinkHtml;\n",
              "          element.appendChild(docLink);\n",
              "        }\n",
              "      </script>\n",
              "    </div>\n",
              "  </div>\n",
              "  "
            ]
          },
          "metadata": {},
          "execution_count": 100
        }
      ]
    },
    {
      "cell_type": "code",
      "source": [
        "plt.figure(figsize = (20, 10))\n",
        "sns.barplot(x = df_cheapest['Shop_Name'][0:5], y = df_cheapest['Cost_for_Two_In_₹'][0:5],\n",
        "           data = df_affordable)\n",
        "plt.title('TOP 5 Cheapest and highest rated restaurants with approx. cost')\n",
        "plt.xlabel('Restaurant_Name')\n",
        "plt.ylabel('Cost_for_Two_In_₹')\n",
        "plt.xticks(rotation = 90)\n",
        "plt.show()"
      ],
      "metadata": {
        "colab": {
          "base_uri": "https://localhost:8080/",
          "height": 868
        },
        "id": "xM1GnCM0vuSd",
        "outputId": "10b3ec82-be20-4316-9c09-46c1cb4bdc18"
      },
      "execution_count": 101,
      "outputs": [
        {
          "output_type": "display_data",
          "data": {
            "text/plain": [
              "<Figure size 1440x720 with 1 Axes>"
            ],
            "image/png": "[encoded data removed]"
          },
          "metadata": {
            "needs_background": "light"
          }
        }
      ]
    },
    {
      "cell_type": "code",
      "source": [
        "#The cheapest restaurant is Tandoori Merchant and 99 Variety DOSA AND JUICE-Malli Mane food court."
      ],
      "metadata": {
        "id": "ajh3IiONzPMn"
      },
      "execution_count": 102,
      "outputs": []
    },
    {
      "cell_type": "code",
      "source": [
        "#TOP 5 expensive and highest rated restaurants vs cost for 2 people.\n",
        "df_Highest_Rated_Restaurants = dataset[dataset['Rating'] >= 4.0]\n",
        "df_Highest_Rated_Restaurants"
      ],
      "metadata": {
        "colab": {
          "base_uri": "https://localhost:8080/",
          "height": 423
        },
        "id": "YHLNeEn2wWN5",
        "outputId": "886b2e82-ed34-47a8-896e-5895b3e381d3"
      },
      "execution_count": 103,
      "outputs": [
        {
          "output_type": "execute_result",
          "data": {
            "text/plain": [
              "              Shop_Name                                            Cuisine  \\\n",
              "0          Kanti Sweets                                             Sweets   \n",
              "1         Mumbai Tiffin             North Indian, Home Food, Thalis, Combo   \n",
              "2     Sri Krishna sagar  South Indian, North Indian, Fast Food, Beverag...   \n",
              "3               Al Daaz  American, Arabian, Chinese, Desserts, Fast Foo...   \n",
              "4         Beijing Bites                                      Chinese, Thai   \n",
              "..                  ...                                                ...   \n",
              "111             Bowl 99                         North Indian, South Indian   \n",
              "114  Savoury Restaurant  Arabian, Middle Eastern, North Indian, Grill, ...   \n",
              "115         Royal Treat            North Indian, Chinese, Seafood, Biryani   \n",
              "116            Thali 99                                       North Indian   \n",
              "117  Mani's Dum Biryani                                    Andhra, Biryani   \n",
              "\n",
              "                               Location  Rating  Cost_for_Two_In_₹  \n",
              "0              Koramangala, Koramangala     4.3                150  \n",
              "1                         Sector 5, HSR     4.4                400  \n",
              "2                6th Block, Koramangala     4.1                126  \n",
              "3                              HSR, HSR     4.4                400  \n",
              "4                5th Block, Koramangala     4.1                450  \n",
              "..                                  ...     ...                ...  \n",
              "111             kormangala, Koramangala     4.4                200  \n",
              "114                       Madiwala, BTM     4.1                600  \n",
              "115  5th block Koramangala, Koramangala     4.2                193  \n",
              "116            Koramangala, Koramangala     4.3                200  \n",
              "117              1st Block, Koramangala     4.2                400  \n",
              "\n",
              "[92 rows x 5 columns]"
            ],
            "text/html": [
              "\n",
              "  <div id=\"df-9718ca2f-ad06-4b2f-94f3-f8b390f27eec\">\n",
              "    <div class=\"colab-df-container\">\n",
              "      <div>\n",
              "<style scoped>\n",
              "    .dataframe tbody tr th:only-of-type {\n",
              "        vertical-align: middle;\n",
              "    }\n",
              "\n",
              "    .dataframe tbody tr th {\n",
              "        vertical-align: top;\n",
              "    }\n",
              "\n",
              "    .dataframe thead th {\n",
              "        text-align: right;\n",
              "    }\n",
              "</style>\n",
              "<table border=\"1\" class=\"dataframe\">\n",
              "  <thead>\n",
              "    <tr style=\"text-align: right;\">\n",
              "      <th></th>\n",
              "      <th>Shop_Name</th>\n",
              "      <th>Cuisine</th>\n",
              "      <th>Location</th>\n",
              "      <th>Rating</th>\n",
              "      <th>Cost_for_Two_In_₹</th>\n",
              "    </tr>\n",
              "  </thead>\n",
              "  <tbody>\n",
              "    <tr>\n",
              "      <th>0</th>\n",
              "      <td>Kanti Sweets</td>\n",
              "      <td>Sweets</td>\n",
              "      <td>Koramangala, Koramangala</td>\n",
              "      <td>4.3</td>\n",
              "      <td>150</td>\n",
              "    </tr>\n",
              "    <tr>\n",
              "      <th>1</th>\n",
              "      <td>Mumbai Tiffin</td>\n",
              "      <td>North Indian, Home Food, Thalis, Combo</td>\n",
              "      <td>Sector 5, HSR</td>\n",
              "      <td>4.4</td>\n",
              "      <td>400</td>\n",
              "    </tr>\n",
              "    <tr>\n",
              "      <th>2</th>\n",
              "      <td>Sri Krishna sagar</td>\n",
              "      <td>South Indian, North Indian, Fast Food, Beverag...</td>\n",
              "      <td>6th Block, Koramangala</td>\n",
              "      <td>4.1</td>\n",
              "      <td>126</td>\n",
              "    </tr>\n",
              "    <tr>\n",
              "      <th>3</th>\n",
              "      <td>Al Daaz</td>\n",
              "      <td>American, Arabian, Chinese, Desserts, Fast Foo...</td>\n",
              "      <td>HSR, HSR</td>\n",
              "      <td>4.4</td>\n",
              "      <td>400</td>\n",
              "    </tr>\n",
              "    <tr>\n",
              "      <th>4</th>\n",
              "      <td>Beijing Bites</td>\n",
              "      <td>Chinese, Thai</td>\n",
              "      <td>5th Block, Koramangala</td>\n",
              "      <td>4.1</td>\n",
              "      <td>450</td>\n",
              "    </tr>\n",
              "    <tr>\n",
              "      <th>...</th>\n",
              "      <td>...</td>\n",
              "      <td>...</td>\n",
              "      <td>...</td>\n",
              "      <td>...</td>\n",
              "      <td>...</td>\n",
              "    </tr>\n",
              "    <tr>\n",
              "      <th>111</th>\n",
              "      <td>Bowl 99</td>\n",
              "      <td>North Indian, South Indian</td>\n",
              "      <td>kormangala, Koramangala</td>\n",
              "      <td>4.4</td>\n",
              "      <td>200</td>\n",
              "    </tr>\n",
              "    <tr>\n",
              "      <th>114</th>\n",
              "      <td>Savoury Restaurant</td>\n",
              "      <td>Arabian, Middle Eastern, North Indian, Grill, ...</td>\n",
              "      <td>Madiwala, BTM</td>\n",
              "      <td>4.1</td>\n",
              "      <td>600</td>\n",
              "    </tr>\n",
              "    <tr>\n",
              "      <th>115</th>\n",
              "      <td>Royal Treat</td>\n",
              "      <td>North Indian, Chinese, Seafood, Biryani</td>\n",
              "      <td>5th block Koramangala, Koramangala</td>\n",
              "      <td>4.2</td>\n",
              "      <td>193</td>\n",
              "    </tr>\n",
              "    <tr>\n",
              "      <th>116</th>\n",
              "      <td>Thali 99</td>\n",
              "      <td>North Indian</td>\n",
              "      <td>Koramangala, Koramangala</td>\n",
              "      <td>4.3</td>\n",
              "      <td>200</td>\n",
              "    </tr>\n",
              "    <tr>\n",
              "      <th>117</th>\n",
              "      <td>Mani's Dum Biryani</td>\n",
              "      <td>Andhra, Biryani</td>\n",
              "      <td>1st Block, Koramangala</td>\n",
              "      <td>4.2</td>\n",
              "      <td>400</td>\n",
              "    </tr>\n",
              "  </tbody>\n",
              "</table>\n",
              "<p>92 rows × 5 columns</p>\n",
              "</div>\n",
              "      <button class=\"colab-df-convert\" onclick=\"convertToInteractive('df-9718ca2f-ad06-4b2f-94f3-f8b390f27eec')\"\n",
              "              title=\"Convert this dataframe to an interactive table.\"\n",
              "              style=\"display:none;\">\n",
              "        \n",
              "  <svg xmlns=\"http://www.w3.org/2000/svg\" height=\"24px\"viewBox=\"0 0 24 24\"\n",
              "       width=\"24px\">\n",
              "    <path d=\"M0 0h24v24H0V0z\" fill=\"none\"/>\n",
              "    <path d=\"M18.56 5.44l.94 2.06.94-2.06 2.06-.94-2.06-.94-.94-2.06-.94 2.06-2.06.94zm-11 1L8.5 8.5l.94-2.06 2.06-.94-2.06-.94L8.5 2.5l-.94 2.06-2.06.94zm10 10l.94 2.06.94-2.06 2.06-.94-2.06-.94-.94-2.06-.94 2.06-2.06.94z\"/><path d=\"M17.41 7.96l-1.37-1.37c-.4-.4-.92-.59-1.43-.59-.52 0-1.04.2-1.43.59L10.3 9.45l-7.72 7.72c-.78.78-.78 2.05 0 2.83L4 21.41c.39.39.9.59 1.41.59.51 0 1.02-.2 1.41-.59l7.78-7.78 2.81-2.81c.8-.78.8-2.07 0-2.86zM5.41 20L4 18.59l7.72-7.72 1.47 1.35L5.41 20z\"/>\n",
              "  </svg>\n",
              "      </button>\n",
              "      \n",
              "  <style>\n",
              "    .colab-df-container {\n",
              "      display:flex;\n",
              "      flex-wrap:wrap;\n",
              "      gap: 12px;\n",
              "    }\n",
              "\n",
              "    .colab-df-convert {\n",
              "      background-color: #E8F0FE;\n",
              "      border: none;\n",
              "      border-radius: 50%;\n",
              "      cursor: pointer;\n",
              "      display: none;\n",
              "      fill: #1967D2;\n",
              "      height: 32px;\n",
              "      padding: 0 0 0 0;\n",
              "      width: 32px;\n",
              "    }\n",
              "\n",
              "    .colab-df-convert:hover {\n",
              "      background-color: #E2EBFA;\n",
              "      box-shadow: 0px 1px 2px rgba(60, 64, 67, 0.3), 0px 1px 3px 1px rgba(60, 64, 67, 0.15);\n",
              "      fill: #174EA6;\n",
              "    }\n",
              "\n",
              "    [theme=dark] .colab-df-convert {\n",
              "      background-color: #3B4455;\n",
              "      fill: #D2E3FC;\n",
              "    }\n",
              "\n",
              "    [theme=dark] .colab-df-convert:hover {\n",
              "      background-color: #434B5C;\n",
              "      box-shadow: 0px 1px 3px 1px rgba(0, 0, 0, 0.15);\n",
              "      filter: drop-shadow(0px 1px 2px rgba(0, 0, 0, 0.3));\n",
              "      fill: #FFFFFF;\n",
              "    }\n",
              "  </style>\n",
              "\n",
              "      <script>\n",
              "        const buttonEl =\n",
              "          document.querySelector('#df-9718ca2f-ad06-4b2f-94f3-f8b390f27eec button.colab-df-convert');\n",
              "        buttonEl.style.display =\n",
              "          google.colab.kernel.accessAllowed ? 'block' : 'none';\n",
              "\n",
              "        async function convertToInteractive(key) {\n",
              "          const element = document.querySelector('#df-9718ca2f-ad06-4b2f-94f3-f8b390f27eec');\n",
              "          const dataTable =\n",
              "            await google.colab.kernel.invokeFunction('convertToInteractive',\n",
              "                                                     [key], {});\n",
              "          if (!dataTable) return;\n",
              "\n",
              "          const docLinkHtml = 'Like what you see? Visit the ' +\n",
              "            '<a target=\"_blank\" href=https://colab.research.google.com/notebooks/data_table.ipynb>data table notebook</a>'\n",
              "            + ' to learn more about interactive tables.';\n",
              "          element.innerHTML = '';\n",
              "          dataTable['output_type'] = 'display_data';\n",
              "          await google.colab.output.renderOutput(dataTable, element);\n",
              "          const docLink = document.createElement('div');\n",
              "          docLink.innerHTML = docLinkHtml;\n",
              "          element.appendChild(docLink);\n",
              "        }\n",
              "      </script>\n",
              "    </div>\n",
              "  </div>\n",
              "  "
            ]
          },
          "metadata": {},
          "execution_count": 103
        }
      ]
    },
    {
      "cell_type": "code",
      "source": [
        "df_Highest_Rated_Restaurants = df_Highest_Rated_Restaurants.loc[:, ['Shop_Name', 'Rating', 'Cost_for_Two_In_₹']]\n",
        "df_Highest_Rated_Restaurants"
      ],
      "metadata": {
        "colab": {
          "base_uri": "https://localhost:8080/",
          "height": 423
        },
        "id": "J-Rn3K_Nxg73",
        "outputId": "37c3f1b5-4004-4582-efe9-e46f0866c634"
      },
      "execution_count": 104,
      "outputs": [
        {
          "output_type": "execute_result",
          "data": {
            "text/plain": [
              "              Shop_Name  Rating  Cost_for_Two_In_₹\n",
              "0          Kanti Sweets     4.3                150\n",
              "1         Mumbai Tiffin     4.4                400\n",
              "2     Sri Krishna sagar     4.1                126\n",
              "3               Al Daaz     4.4                400\n",
              "4         Beijing Bites     4.1                450\n",
              "..                  ...     ...                ...\n",
              "111             Bowl 99     4.4                200\n",
              "114  Savoury Restaurant     4.1                600\n",
              "115         Royal Treat     4.2                193\n",
              "116            Thali 99     4.3                200\n",
              "117  Mani's Dum Biryani     4.2                400\n",
              "\n",
              "[92 rows x 3 columns]"
            ],
            "text/html": [
              "\n",
              "  <div id=\"df-d82a4cd1-88c4-49da-958f-83140b5b77ea\">\n",
              "    <div class=\"colab-df-container\">\n",
              "      <div>\n",
              "<style scoped>\n",
              "    .dataframe tbody tr th:only-of-type {\n",
              "        vertical-align: middle;\n",
              "    }\n",
              "\n",
              "    .dataframe tbody tr th {\n",
              "        vertical-align: top;\n",
              "    }\n",
              "\n",
              "    .dataframe thead th {\n",
              "        text-align: right;\n",
              "    }\n",
              "</style>\n",
              "<table border=\"1\" class=\"dataframe\">\n",
              "  <thead>\n",
              "    <tr style=\"text-align: right;\">\n",
              "      <th></th>\n",
              "      <th>Shop_Name</th>\n",
              "      <th>Rating</th>\n",
              "      <th>Cost_for_Two_In_₹</th>\n",
              "    </tr>\n",
              "  </thead>\n",
              "  <tbody>\n",
              "    <tr>\n",
              "      <th>0</th>\n",
              "      <td>Kanti Sweets</td>\n",
              "      <td>4.3</td>\n",
              "      <td>150</td>\n",
              "    </tr>\n",
              "    <tr>\n",
              "      <th>1</th>\n",
              "      <td>Mumbai Tiffin</td>\n",
              "      <td>4.4</td>\n",
              "      <td>400</td>\n",
              "    </tr>\n",
              "    <tr>\n",
              "      <th>2</th>\n",
              "      <td>Sri Krishna sagar</td>\n",
              "      <td>4.1</td>\n",
              "      <td>126</td>\n",
              "    </tr>\n",
              "    <tr>\n",
              "      <th>3</th>\n",
              "      <td>Al Daaz</td>\n",
              "      <td>4.4</td>\n",
              "      <td>400</td>\n",
              "    </tr>\n",
              "    <tr>\n",
              "      <th>4</th>\n",
              "      <td>Beijing Bites</td>\n",
              "      <td>4.1</td>\n",
              "      <td>450</td>\n",
              "    </tr>\n",
              "    <tr>\n",
              "      <th>...</th>\n",
              "      <td>...</td>\n",
              "      <td>...</td>\n",
              "      <td>...</td>\n",
              "    </tr>\n",
              "    <tr>\n",
              "      <th>111</th>\n",
              "      <td>Bowl 99</td>\n",
              "      <td>4.4</td>\n",
              "      <td>200</td>\n",
              "    </tr>\n",
              "    <tr>\n",
              "      <th>114</th>\n",
              "      <td>Savoury Restaurant</td>\n",
              "      <td>4.1</td>\n",
              "      <td>600</td>\n",
              "    </tr>\n",
              "    <tr>\n",
              "      <th>115</th>\n",
              "      <td>Royal Treat</td>\n",
              "      <td>4.2</td>\n",
              "      <td>193</td>\n",
              "    </tr>\n",
              "    <tr>\n",
              "      <th>116</th>\n",
              "      <td>Thali 99</td>\n",
              "      <td>4.3</td>\n",
              "      <td>200</td>\n",
              "    </tr>\n",
              "    <tr>\n",
              "      <th>117</th>\n",
              "      <td>Mani's Dum Biryani</td>\n",
              "      <td>4.2</td>\n",
              "      <td>400</td>\n",
              "    </tr>\n",
              "  </tbody>\n",
              "</table>\n",
              "<p>92 rows × 3 columns</p>\n",
              "</div>\n",
              "      <button class=\"colab-df-convert\" onclick=\"convertToInteractive('df-d82a4cd1-88c4-49da-958f-83140b5b77ea')\"\n",
              "              title=\"Convert this dataframe to an interactive table.\"\n",
              "              style=\"display:none;\">\n",
              "        \n",
              "  <svg xmlns=\"http://www.w3.org/2000/svg\" height=\"24px\"viewBox=\"0 0 24 24\"\n",
              "       width=\"24px\">\n",
              "    <path d=\"M0 0h24v24H0V0z\" fill=\"none\"/>\n",
              "    <path d=\"M18.56 5.44l.94 2.06.94-2.06 2.06-.94-2.06-.94-.94-2.06-.94 2.06-2.06.94zm-11 1L8.5 8.5l.94-2.06 2.06-.94-2.06-.94L8.5 2.5l-.94 2.06-2.06.94zm10 10l.94 2.06.94-2.06 2.06-.94-2.06-.94-.94-2.06-.94 2.06-2.06.94z\"/><path d=\"M17.41 7.96l-1.37-1.37c-.4-.4-.92-.59-1.43-.59-.52 0-1.04.2-1.43.59L10.3 9.45l-7.72 7.72c-.78.78-.78 2.05 0 2.83L4 21.41c.39.39.9.59 1.41.59.51 0 1.02-.2 1.41-.59l7.78-7.78 2.81-2.81c.8-.78.8-2.07 0-2.86zM5.41 20L4 18.59l7.72-7.72 1.47 1.35L5.41 20z\"/>\n",
              "  </svg>\n",
              "      </button>\n",
              "      \n",
              "  <style>\n",
              "    .colab-df-container {\n",
              "      display:flex;\n",
              "      flex-wrap:wrap;\n",
              "      gap: 12px;\n",
              "    }\n",
              "\n",
              "    .colab-df-convert {\n",
              "      background-color: #E8F0FE;\n",
              "      border: none;\n",
              "      border-radius: 50%;\n",
              "      cursor: pointer;\n",
              "      display: none;\n",
              "      fill: #1967D2;\n",
              "      height: 32px;\n",
              "      padding: 0 0 0 0;\n",
              "      width: 32px;\n",
              "    }\n",
              "\n",
              "    .colab-df-convert:hover {\n",
              "      background-color: #E2EBFA;\n",
              "      box-shadow: 0px 1px 2px rgba(60, 64, 67, 0.3), 0px 1px 3px 1px rgba(60, 64, 67, 0.15);\n",
              "      fill: #174EA6;\n",
              "    }\n",
              "\n",
              "    [theme=dark] .colab-df-convert {\n",
              "      background-color: #3B4455;\n",
              "      fill: #D2E3FC;\n",
              "    }\n",
              "\n",
              "    [theme=dark] .colab-df-convert:hover {\n",
              "      background-color: #434B5C;\n",
              "      box-shadow: 0px 1px 3px 1px rgba(0, 0, 0, 0.15);\n",
              "      filter: drop-shadow(0px 1px 2px rgba(0, 0, 0, 0.3));\n",
              "      fill: #FFFFFF;\n",
              "    }\n",
              "  </style>\n",
              "\n",
              "      <script>\n",
              "        const buttonEl =\n",
              "          document.querySelector('#df-d82a4cd1-88c4-49da-958f-83140b5b77ea button.colab-df-convert');\n",
              "        buttonEl.style.display =\n",
              "          google.colab.kernel.accessAllowed ? 'block' : 'none';\n",
              "\n",
              "        async function convertToInteractive(key) {\n",
              "          const element = document.querySelector('#df-d82a4cd1-88c4-49da-958f-83140b5b77ea');\n",
              "          const dataTable =\n",
              "            await google.colab.kernel.invokeFunction('convertToInteractive',\n",
              "                                                     [key], {});\n",
              "          if (!dataTable) return;\n",
              "\n",
              "          const docLinkHtml = 'Like what you see? Visit the ' +\n",
              "            '<a target=\"_blank\" href=https://colab.research.google.com/notebooks/data_table.ipynb>data table notebook</a>'\n",
              "            + ' to learn more about interactive tables.';\n",
              "          element.innerHTML = '';\n",
              "          dataTable['output_type'] = 'display_data';\n",
              "          await google.colab.output.renderOutput(dataTable, element);\n",
              "          const docLink = document.createElement('div');\n",
              "          docLink.innerHTML = docLinkHtml;\n",
              "          element.appendChild(docLink);\n",
              "        }\n",
              "      </script>\n",
              "    </div>\n",
              "  </div>\n",
              "  "
            ]
          },
          "metadata": {},
          "execution_count": 104
        }
      ]
    },
    {
      "cell_type": "code",
      "source": [
        "df_Highest_Rated_Restaurants = df_Highest_Rated_Restaurants.groupby(['Shop_Name', 'Rating'])['Cost_for_Two_In_₹'].agg('mean')\n",
        "df_Highest_Rated_Restaurants = df_Highest_Rated_Restaurants.reset_index()\n",
        "df_Highest_Rated_Restaurants"
      ],
      "metadata": {
        "colab": {
          "base_uri": "https://localhost:8080/",
          "height": 423
        },
        "id": "PzN32dtxxo3p",
        "outputId": "78d5e78e-a3e5-4d42-aeb9-fdb63f421c61"
      },
      "execution_count": 105,
      "outputs": [
        {
          "output_type": "execute_result",
          "data": {
            "text/plain": [
              "                                            Shop_Name  Rating  \\\n",
              "0     99 VARIETY DOSA AND JUICE-Malli mane food court     4.1   \n",
              "1   99 VARIETY DOSA AND PAV BHAJI- Malli Mane Food...     4.1   \n",
              "2                           A2B - Adyar Ananda Bhavan     4.2   \n",
              "3                                     Abhiruchi Hotel     4.0   \n",
              "4                                             Al Daaz     4.4   \n",
              "..                                                ...     ...   \n",
              "86                               Venu's Donne Biryani     4.3   \n",
              "87                           WarmOven Cake & Desserts     4.1   \n",
              "88                                      World of asia     4.0   \n",
              "89                                  XO Belgian Waffle     4.3   \n",
              "90                            calicut cafe restaurant     4.1   \n",
              "\n",
              "    Cost_for_Two_In_₹  \n",
              "0               100.0  \n",
              "1               200.0  \n",
              "2               450.0  \n",
              "3               250.0  \n",
              "4               400.0  \n",
              "..                ...  \n",
              "86              300.0  \n",
              "87              200.0  \n",
              "88              250.0  \n",
              "89              250.0  \n",
              "90              280.0  \n",
              "\n",
              "[91 rows x 3 columns]"
            ],
            "text/html": [
              "\n",
              "  <div id=\"df-af59f7ef-1e8d-44db-820d-ec368ad6b4da\">\n",
              "    <div class=\"colab-df-container\">\n",
              "      <div>\n",
              "<style scoped>\n",
              "    .dataframe tbody tr th:only-of-type {\n",
              "        vertical-align: middle;\n",
              "    }\n",
              "\n",
              "    .dataframe tbody tr th {\n",
              "        vertical-align: top;\n",
              "    }\n",
              "\n",
              "    .dataframe thead th {\n",
              "        text-align: right;\n",
              "    }\n",
              "</style>\n",
              "<table border=\"1\" class=\"dataframe\">\n",
              "  <thead>\n",
              "    <tr style=\"text-align: right;\">\n",
              "      <th></th>\n",
              "      <th>Shop_Name</th>\n",
              "      <th>Rating</th>\n",
              "      <th>Cost_for_Two_In_₹</th>\n",
              "    </tr>\n",
              "  </thead>\n",
              "  <tbody>\n",
              "    <tr>\n",
              "      <th>0</th>\n",
              "      <td>99 VARIETY DOSA AND JUICE-Malli mane food court</td>\n",
              "      <td>4.1</td>\n",
              "      <td>100.0</td>\n",
              "    </tr>\n",
              "    <tr>\n",
              "      <th>1</th>\n",
              "      <td>99 VARIETY DOSA AND PAV BHAJI- Malli Mane Food...</td>\n",
              "      <td>4.1</td>\n",
              "      <td>200.0</td>\n",
              "    </tr>\n",
              "    <tr>\n",
              "      <th>2</th>\n",
              "      <td>A2B - Adyar Ananda Bhavan</td>\n",
              "      <td>4.2</td>\n",
              "      <td>450.0</td>\n",
              "    </tr>\n",
              "    <tr>\n",
              "      <th>3</th>\n",
              "      <td>Abhiruchi Hotel</td>\n",
              "      <td>4.0</td>\n",
              "      <td>250.0</td>\n",
              "    </tr>\n",
              "    <tr>\n",
              "      <th>4</th>\n",
              "      <td>Al Daaz</td>\n",
              "      <td>4.4</td>\n",
              "      <td>400.0</td>\n",
              "    </tr>\n",
              "    <tr>\n",
              "      <th>...</th>\n",
              "      <td>...</td>\n",
              "      <td>...</td>\n",
              "      <td>...</td>\n",
              "    </tr>\n",
              "    <tr>\n",
              "      <th>86</th>\n",
              "      <td>Venu's Donne Biryani</td>\n",
              "      <td>4.3</td>\n",
              "      <td>300.0</td>\n",
              "    </tr>\n",
              "    <tr>\n",
              "      <th>87</th>\n",
              "      <td>WarmOven Cake &amp; Desserts</td>\n",
              "      <td>4.1</td>\n",
              "      <td>200.0</td>\n",
              "    </tr>\n",
              "    <tr>\n",
              "      <th>88</th>\n",
              "      <td>World of asia</td>\n",
              "      <td>4.0</td>\n",
              "      <td>250.0</td>\n",
              "    </tr>\n",
              "    <tr>\n",
              "      <th>89</th>\n",
              "      <td>XO Belgian Waffle</td>\n",
              "      <td>4.3</td>\n",
              "      <td>250.0</td>\n",
              "    </tr>\n",
              "    <tr>\n",
              "      <th>90</th>\n",
              "      <td>calicut cafe restaurant</td>\n",
              "      <td>4.1</td>\n",
              "      <td>280.0</td>\n",
              "    </tr>\n",
              "  </tbody>\n",
              "</table>\n",
              "<p>91 rows × 3 columns</p>\n",
              "</div>\n",
              "      <button class=\"colab-df-convert\" onclick=\"convertToInteractive('df-af59f7ef-1e8d-44db-820d-ec368ad6b4da')\"\n",
              "              title=\"Convert this dataframe to an interactive table.\"\n",
              "              style=\"display:none;\">\n",
              "        \n",
              "  <svg xmlns=\"http://www.w3.org/2000/svg\" height=\"24px\"viewBox=\"0 0 24 24\"\n",
              "       width=\"24px\">\n",
              "    <path d=\"M0 0h24v24H0V0z\" fill=\"none\"/>\n",
              "    <path d=\"M18.56 5.44l.94 2.06.94-2.06 2.06-.94-2.06-.94-.94-2.06-.94 2.06-2.06.94zm-11 1L8.5 8.5l.94-2.06 2.06-.94-2.06-.94L8.5 2.5l-.94 2.06-2.06.94zm10 10l.94 2.06.94-2.06 2.06-.94-2.06-.94-.94-2.06-.94 2.06-2.06.94z\"/><path d=\"M17.41 7.96l-1.37-1.37c-.4-.4-.92-.59-1.43-.59-.52 0-1.04.2-1.43.59L10.3 9.45l-7.72 7.72c-.78.78-.78 2.05 0 2.83L4 21.41c.39.39.9.59 1.41.59.51 0 1.02-.2 1.41-.59l7.78-7.78 2.81-2.81c.8-.78.8-2.07 0-2.86zM5.41 20L4 18.59l7.72-7.72 1.47 1.35L5.41 20z\"/>\n",
              "  </svg>\n",
              "      </button>\n",
              "      \n",
              "  <style>\n",
              "    .colab-df-container {\n",
              "      display:flex;\n",
              "      flex-wrap:wrap;\n",
              "      gap: 12px;\n",
              "    }\n",
              "\n",
              "    .colab-df-convert {\n",
              "      background-color: #E8F0FE;\n",
              "      border: none;\n",
              "      border-radius: 50%;\n",
              "      cursor: pointer;\n",
              "      display: none;\n",
              "      fill: #1967D2;\n",
              "      height: 32px;\n",
              "      padding: 0 0 0 0;\n",
              "      width: 32px;\n",
              "    }\n",
              "\n",
              "    .colab-df-convert:hover {\n",
              "      background-color: #E2EBFA;\n",
              "      box-shadow: 0px 1px 2px rgba(60, 64, 67, 0.3), 0px 1px 3px 1px rgba(60, 64, 67, 0.15);\n",
              "      fill: #174EA6;\n",
              "    }\n",
              "\n",
              "    [theme=dark] .colab-df-convert {\n",
              "      background-color: #3B4455;\n",
              "      fill: #D2E3FC;\n",
              "    }\n",
              "\n",
              "    [theme=dark] .colab-df-convert:hover {\n",
              "      background-color: #434B5C;\n",
              "      box-shadow: 0px 1px 3px 1px rgba(0, 0, 0, 0.15);\n",
              "      filter: drop-shadow(0px 1px 2px rgba(0, 0, 0, 0.3));\n",
              "      fill: #FFFFFF;\n",
              "    }\n",
              "  </style>\n",
              "\n",
              "      <script>\n",
              "        const buttonEl =\n",
              "          document.querySelector('#df-af59f7ef-1e8d-44db-820d-ec368ad6b4da button.colab-df-convert');\n",
              "        buttonEl.style.display =\n",
              "          google.colab.kernel.accessAllowed ? 'block' : 'none';\n",
              "\n",
              "        async function convertToInteractive(key) {\n",
              "          const element = document.querySelector('#df-af59f7ef-1e8d-44db-820d-ec368ad6b4da');\n",
              "          const dataTable =\n",
              "            await google.colab.kernel.invokeFunction('convertToInteractive',\n",
              "                                                     [key], {});\n",
              "          if (!dataTable) return;\n",
              "\n",
              "          const docLinkHtml = 'Like what you see? Visit the ' +\n",
              "            '<a target=\"_blank\" href=https://colab.research.google.com/notebooks/data_table.ipynb>data table notebook</a>'\n",
              "            + ' to learn more about interactive tables.';\n",
              "          element.innerHTML = '';\n",
              "          dataTable['output_type'] = 'display_data';\n",
              "          await google.colab.output.renderOutput(dataTable, element);\n",
              "          const docLink = document.createElement('div');\n",
              "          docLink.innerHTML = docLinkHtml;\n",
              "          element.appendChild(docLink);\n",
              "        }\n",
              "      </script>\n",
              "    </div>\n",
              "  </div>\n",
              "  "
            ]
          },
          "metadata": {},
          "execution_count": 105
        }
      ]
    },
    {
      "cell_type": "code",
      "source": [
        "df_expensive = df_Highest_Rated_Restaurants.sort_values(by = 'Cost_for_Two_In_₹', ascending = False)\n",
        "df_expensive"
      ],
      "metadata": {
        "colab": {
          "base_uri": "https://localhost:8080/",
          "height": 423
        },
        "id": "i2Qva0Y9x-04",
        "outputId": "f8ac77e2-4698-4aac-9cb5-8af01612d0b9"
      },
      "execution_count": 106,
      "outputs": [
        {
          "output_type": "execute_result",
          "data": {
            "text/plain": [
              "                                          Shop_Name  Rating  Cost_for_Two_In_₹\n",
              "67                                    Punjabi Rasoi     4.0              800.0\n",
              "26                   Dindigul Thalapakatti Biriyani     4.1              650.0\n",
              "73                               Savoury Restaurant     4.1              600.0\n",
              "81                                        Taco Bell     4.3              600.0\n",
              "66                                        Pizza Hut     4.0              600.0\n",
              "..                                              ...     ...                ...\n",
              "49                                     Maa Di Hatti     4.0              129.0\n",
              "77                                Sri Krishna sagar     4.1              126.0\n",
              "56                           NIC Natural Ice Creams     4.2              120.0\n",
              "82                                Tandoori Merchant     4.2              100.0\n",
              "0   99 VARIETY DOSA AND JUICE-Malli mane food court     4.1              100.0\n",
              "\n",
              "[91 rows x 3 columns]"
            ],
            "text/html": [
              "\n",
              "  <div id=\"df-c7242b2b-15f9-454e-87c3-da3cf6031b00\">\n",
              "    <div class=\"colab-df-container\">\n",
              "      <div>\n",
              "<style scoped>\n",
              "    .dataframe tbody tr th:only-of-type {\n",
              "        vertical-align: middle;\n",
              "    }\n",
              "\n",
              "    .dataframe tbody tr th {\n",
              "        vertical-align: top;\n",
              "    }\n",
              "\n",
              "    .dataframe thead th {\n",
              "        text-align: right;\n",
              "    }\n",
              "</style>\n",
              "<table border=\"1\" class=\"dataframe\">\n",
              "  <thead>\n",
              "    <tr style=\"text-align: right;\">\n",
              "      <th></th>\n",
              "      <th>Shop_Name</th>\n",
              "      <th>Rating</th>\n",
              "      <th>Cost_for_Two_In_₹</th>\n",
              "    </tr>\n",
              "  </thead>\n",
              "  <tbody>\n",
              "    <tr>\n",
              "      <th>67</th>\n",
              "      <td>Punjabi Rasoi</td>\n",
              "      <td>4.0</td>\n",
              "      <td>800.0</td>\n",
              "    </tr>\n",
              "    <tr>\n",
              "      <th>26</th>\n",
              "      <td>Dindigul Thalapakatti Biriyani</td>\n",
              "      <td>4.1</td>\n",
              "      <td>650.0</td>\n",
              "    </tr>\n",
              "    <tr>\n",
              "      <th>73</th>\n",
              "      <td>Savoury Restaurant</td>\n",
              "      <td>4.1</td>\n",
              "      <td>600.0</td>\n",
              "    </tr>\n",
              "    <tr>\n",
              "      <th>81</th>\n",
              "      <td>Taco Bell</td>\n",
              "      <td>4.3</td>\n",
              "      <td>600.0</td>\n",
              "    </tr>\n",
              "    <tr>\n",
              "      <th>66</th>\n",
              "      <td>Pizza Hut</td>\n",
              "      <td>4.0</td>\n",
              "      <td>600.0</td>\n",
              "    </tr>\n",
              "    <tr>\n",
              "      <th>...</th>\n",
              "      <td>...</td>\n",
              "      <td>...</td>\n",
              "      <td>...</td>\n",
              "    </tr>\n",
              "    <tr>\n",
              "      <th>49</th>\n",
              "      <td>Maa Di Hatti</td>\n",
              "      <td>4.0</td>\n",
              "      <td>129.0</td>\n",
              "    </tr>\n",
              "    <tr>\n",
              "      <th>77</th>\n",
              "      <td>Sri Krishna sagar</td>\n",
              "      <td>4.1</td>\n",
              "      <td>126.0</td>\n",
              "    </tr>\n",
              "    <tr>\n",
              "      <th>56</th>\n",
              "      <td>NIC Natural Ice Creams</td>\n",
              "      <td>4.2</td>\n",
              "      <td>120.0</td>\n",
              "    </tr>\n",
              "    <tr>\n",
              "      <th>82</th>\n",
              "      <td>Tandoori Merchant</td>\n",
              "      <td>4.2</td>\n",
              "      <td>100.0</td>\n",
              "    </tr>\n",
              "    <tr>\n",
              "      <th>0</th>\n",
              "      <td>99 VARIETY DOSA AND JUICE-Malli mane food court</td>\n",
              "      <td>4.1</td>\n",
              "      <td>100.0</td>\n",
              "    </tr>\n",
              "  </tbody>\n",
              "</table>\n",
              "<p>91 rows × 3 columns</p>\n",
              "</div>\n",
              "      <button class=\"colab-df-convert\" onclick=\"convertToInteractive('df-c7242b2b-15f9-454e-87c3-da3cf6031b00')\"\n",
              "              title=\"Convert this dataframe to an interactive table.\"\n",
              "              style=\"display:none;\">\n",
              "        \n",
              "  <svg xmlns=\"http://www.w3.org/2000/svg\" height=\"24px\"viewBox=\"0 0 24 24\"\n",
              "       width=\"24px\">\n",
              "    <path d=\"M0 0h24v24H0V0z\" fill=\"none\"/>\n",
              "    <path d=\"M18.56 5.44l.94 2.06.94-2.06 2.06-.94-2.06-.94-.94-2.06-.94 2.06-2.06.94zm-11 1L8.5 8.5l.94-2.06 2.06-.94-2.06-.94L8.5 2.5l-.94 2.06-2.06.94zm10 10l.94 2.06.94-2.06 2.06-.94-2.06-.94-.94-2.06-.94 2.06-2.06.94z\"/><path d=\"M17.41 7.96l-1.37-1.37c-.4-.4-.92-.59-1.43-.59-.52 0-1.04.2-1.43.59L10.3 9.45l-7.72 7.72c-.78.78-.78 2.05 0 2.83L4 21.41c.39.39.9.59 1.41.59.51 0 1.02-.2 1.41-.59l7.78-7.78 2.81-2.81c.8-.78.8-2.07 0-2.86zM5.41 20L4 18.59l7.72-7.72 1.47 1.35L5.41 20z\"/>\n",
              "  </svg>\n",
              "      </button>\n",
              "      \n",
              "  <style>\n",
              "    .colab-df-container {\n",
              "      display:flex;\n",
              "      flex-wrap:wrap;\n",
              "      gap: 12px;\n",
              "    }\n",
              "\n",
              "    .colab-df-convert {\n",
              "      background-color: #E8F0FE;\n",
              "      border: none;\n",
              "      border-radius: 50%;\n",
              "      cursor: pointer;\n",
              "      display: none;\n",
              "      fill: #1967D2;\n",
              "      height: 32px;\n",
              "      padding: 0 0 0 0;\n",
              "      width: 32px;\n",
              "    }\n",
              "\n",
              "    .colab-df-convert:hover {\n",
              "      background-color: #E2EBFA;\n",
              "      box-shadow: 0px 1px 2px rgba(60, 64, 67, 0.3), 0px 1px 3px 1px rgba(60, 64, 67, 0.15);\n",
              "      fill: #174EA6;\n",
              "    }\n",
              "\n",
              "    [theme=dark] .colab-df-convert {\n",
              "      background-color: #3B4455;\n",
              "      fill: #D2E3FC;\n",
              "    }\n",
              "\n",
              "    [theme=dark] .colab-df-convert:hover {\n",
              "      background-color: #434B5C;\n",
              "      box-shadow: 0px 1px 3px 1px rgba(0, 0, 0, 0.15);\n",
              "      filter: drop-shadow(0px 1px 2px rgba(0, 0, 0, 0.3));\n",
              "      fill: #FFFFFF;\n",
              "    }\n",
              "  </style>\n",
              "\n",
              "      <script>\n",
              "        const buttonEl =\n",
              "          document.querySelector('#df-c7242b2b-15f9-454e-87c3-da3cf6031b00 button.colab-df-convert');\n",
              "        buttonEl.style.display =\n",
              "          google.colab.kernel.accessAllowed ? 'block' : 'none';\n",
              "\n",
              "        async function convertToInteractive(key) {\n",
              "          const element = document.querySelector('#df-c7242b2b-15f9-454e-87c3-da3cf6031b00');\n",
              "          const dataTable =\n",
              "            await google.colab.kernel.invokeFunction('convertToInteractive',\n",
              "                                                     [key], {});\n",
              "          if (!dataTable) return;\n",
              "\n",
              "          const docLinkHtml = 'Like what you see? Visit the ' +\n",
              "            '<a target=\"_blank\" href=https://colab.research.google.com/notebooks/data_table.ipynb>data table notebook</a>'\n",
              "            + ' to learn more about interactive tables.';\n",
              "          element.innerHTML = '';\n",
              "          dataTable['output_type'] = 'display_data';\n",
              "          await google.colab.output.renderOutput(dataTable, element);\n",
              "          const docLink = document.createElement('div');\n",
              "          docLink.innerHTML = docLinkHtml;\n",
              "          element.appendChild(docLink);\n",
              "        }\n",
              "      </script>\n",
              "    </div>\n",
              "  </div>\n",
              "  "
            ]
          },
          "metadata": {},
          "execution_count": 106
        }
      ]
    },
    {
      "cell_type": "code",
      "source": [
        "plt.figure(figsize = (20, 10))\n",
        "sns.barplot(x = df_expensive['Shop_Name'][0:5], y = df_expensive['Cost_for_Two_In_₹'][0:5],\n",
        "           data = df_expensive)\n",
        "plt.title('Top 5 Expensive & Highest Rated Restaurants VS Cost for 2 People')\n",
        "plt.xlabel('Restaurant_Name')\n",
        "plt.ylabel('Cost_for_Two_In_₹')\n",
        "plt.xticks(rotation = 90)\n",
        "plt.show()"
      ],
      "metadata": {
        "colab": {
          "base_uri": "https://localhost:8080/",
          "height": 761
        },
        "id": "IZr4_Wb2yZpY",
        "outputId": "394f9f11-ddbc-4b0d-c0bd-f8577b9c2c97"
      },
      "execution_count": 107,
      "outputs": [
        {
          "output_type": "display_data",
          "data": {
            "text/plain": [
              "<Figure size 1440x720 with 1 Axes>"
            ],
            "image/png": "[encoded data removed]"
          },
          "metadata": {
            "needs_background": "light"
          }
        }
      ]
    },
    {
      "cell_type": "code",
      "source": [
        "#Punjab Rasoi restaurant is the most expensive for 2 people."
      ],
      "metadata": {
        "id": "Jo7tEFDpy3VV"
      },
      "execution_count": 108,
      "outputs": []
    },
    {
      "cell_type": "code",
      "source": [],
      "metadata": {
        "id": "MgCElIfXzqTG"
      },
      "execution_count": 108,
      "outputs": []
    }
  ]
}